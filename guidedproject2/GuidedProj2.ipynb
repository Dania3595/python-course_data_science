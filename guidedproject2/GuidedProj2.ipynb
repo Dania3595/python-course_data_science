{
 "cells": [
  {
   "cell_type": "markdown",
   "id": "1e2db5f1-88d6-42bf-a622-604fb3015048",
   "metadata": {},
   "source": [
    "# **GUIDED PROJECT 2:  Exploring Hacker News Posts**"
   ]
  },
  {
   "cell_type": "markdown",
   "id": "9e724e3c-498d-4660-99d8-e4057fd2eb80",
   "metadata": {},
   "source": [
    "**Hacker News is a site started by the startup incubator Y Combinator, where user-submitted stories (known as \"posts\") receive votes and comments, similar to reddit. Hacker News is extremely popular in technology and startup circles, and posts that make it to the top of the Hacker News listings can get hundreds of thousands of visitors as a result.**\n"
   ]
  },
  {
   "cell_type": "markdown",
   "id": "c2f12e8d-98fc-4cb9-99a5-3f51a1ae2ece",
   "metadata": {},
   "source": [
    "## **Opening and cleaning the data**"
   ]
  },
  {
   "cell_type": "markdown",
   "id": "79f125ba-2cb2-43ab-ba8e-234acdc81f58",
   "metadata": {},
   "source": [
    "Let's start by importing the libraries we need and reading the dataset into a list of lists."
   ]
  },
  {
   "cell_type": "code",
   "execution_count": 1,
   "id": "5f999352-ffde-407a-ba84-602b111a9023",
   "metadata": {},
   "outputs": [
    {
     "name": "stdout",
     "output_type": "stream",
     "text": [
      "First five rows: \n",
      "\n",
      " [['id', 'title', 'url', 'num_points', 'num_comments', 'author', 'created_at'], ['12224879', 'Interactive Dynamic Video', 'http://www.interactivedynamicvideo.com/', '386', '52', 'ne0phyte', '8/4/2016 11:52'], ['10975351', 'How to Use Open Source and Shut the Fuck Up at the Same Time', 'http://hueniverse.com/2016/01/26/how-to-use-open-source-and-shut-the-fuck-up-at-the-same-time/', '39', '10', 'josep2', '1/26/2016 19:30'], ['11964716', \"Florida DJs May Face Felony for April Fools' Water Joke\", 'http://www.thewire.com/entertainment/2013/04/florida-djs-april-fools-water-joke/63798/', '2', '1', 'vezycash', '6/23/2016 22:20'], ['11919867', 'Technology ventures: From Idea to Enterprise', 'https://www.amazon.com/Technology-Ventures-Enterprise-Thomas-Byers/dp/0073523429', '3', '1', 'hswarna', '6/17/2016 0:01']]\n"
     ]
    }
   ],
   "source": [
    "from csv import reader\n",
    "opened_file = open(\"hacker_news.csv\")\n",
    "read_file = reader(opened_file)\n",
    "hn = list(read_file)\n",
    "print(\"First five rows: \\n\\n\", hn[:5])"
   ]
  },
  {
   "cell_type": "markdown",
   "id": "e6363738-6a91-49ff-8cff-117c820df4b5",
   "metadata": {},
   "source": [
    "We need to remove the first row(the names of `columns`) from our dataset:"
   ]
  },
  {
   "cell_type": "code",
   "execution_count": 2,
   "id": "b7d0275a-471e-4d1c-a117-e3ffb84dfa36",
   "metadata": {},
   "outputs": [
    {
     "name": "stdout",
     "output_type": "stream",
     "text": [
      "['id', 'title', 'url', 'num_points', 'num_comments', 'author', 'created_at']\n",
      "[['12224879', 'Interactive Dynamic Video', 'http://www.interactivedynamicvideo.com/', '386', '52', 'ne0phyte', '8/4/2016 11:52'], ['10975351', 'How to Use Open Source and Shut the Fuck Up at the Same Time', 'http://hueniverse.com/2016/01/26/how-to-use-open-source-and-shut-the-fuck-up-at-the-same-time/', '39', '10', 'josep2', '1/26/2016 19:30'], ['11964716', \"Florida DJs May Face Felony for April Fools' Water Joke\", 'http://www.thewire.com/entertainment/2013/04/florida-djs-april-fools-water-joke/63798/', '2', '1', 'vezycash', '6/23/2016 22:20'], ['11919867', 'Technology ventures: From Idea to Enterprise', 'https://www.amazon.com/Technology-Ventures-Enterprise-Thomas-Byers/dp/0073523429', '3', '1', 'hswarna', '6/17/2016 0:01'], ['10301696', 'Note by Note: The Making of Steinway L1037 (2007)', 'http://www.nytimes.com/2007/11/07/movies/07stein.html?_r=0', '8', '2', 'walterbell', '9/30/2015 4:12']]\n"
     ]
    }
   ],
   "source": [
    "header = hn[0]\n",
    "hn = hn[1:]\n",
    "print(header)\n",
    "print(hn[:5])"
   ]
  },
  {
   "cell_type": "markdown",
   "id": "e6bff8fb-cf83-4f5e-9809-e93266bd2e48",
   "metadata": {},
   "source": [
    "## **Extracting Ask HN and Show HN Posts**"
   ]
  },
  {
   "cell_type": "markdown",
   "id": "c6f79445-2106-4df9-af6c-b61e190bda18",
   "metadata": {},
   "source": [
    "We're only concerned with post titles beginning with Ask HN or Show HN, we'll create new lists of lists containing just the data for those titles."
   ]
  },
  {
   "cell_type": "code",
   "execution_count": 3,
   "id": "eec1afd3-c112-4c46-80ca-4c2f773aa240",
   "metadata": {},
   "outputs": [
    {
     "name": "stdout",
     "output_type": "stream",
     "text": [
      "The number of ask posts is:  1744\n",
      "The number of show posts is:  1162\n",
      "The number of other posts is:  18938\n"
     ]
    }
   ],
   "source": [
    "ask_posts = []\n",
    "show_posts = []\n",
    "other_posts = []\n",
    "for row in hn:\n",
    "    title = row[1]\n",
    "    if((title.lower()).startswith(\"ask hn\")):\n",
    "        ask_posts.append(row)\n",
    "    if((title.lower()).startswith(\"show hn\")):\n",
    "        show_posts.append(row)\n",
    "    else:\n",
    "        other_posts.append(row)\n",
    "print(\"The number of ask posts is: \", len(ask_posts))\n",
    "print(\"The number of show posts is: \", len(show_posts))\n",
    "print(\"The number of other posts is: \", len(other_posts))"
   ]
  },
  {
   "cell_type": "markdown",
   "id": "d47e863c-7714-47ab-b81e-1bfc024dbdad",
   "metadata": {},
   "source": [
    "## **Calculating the Average Number of Comments for Ask HN and Show HN**"
   ]
  },
  {
   "cell_type": "markdown",
   "id": "0b9ae768-8994-4a5c-b91f-a2a4211fd65a",
   "metadata": {},
   "source": [
    "Next, let's determine if ask posts or show posts receive more comments on average:"
   ]
  },
  {
   "cell_type": "markdown",
   "id": "43535938-8b94-479c-9116-0d0529c8a580",
   "metadata": {},
   "source": [
    "Firstly, we find the total number of comments in ask posts:"
   ]
  },
  {
   "cell_type": "code",
   "execution_count": 4,
   "id": "9e96d08f-1d92-494a-b8bb-e45437008684",
   "metadata": {},
   "outputs": [
    {
     "name": "stdout",
     "output_type": "stream",
     "text": [
      "The average number of comments in ask_posts is:  14.038417431192661\n"
     ]
    }
   ],
   "source": [
    "total_ask_comments = 0\n",
    "for row in ask_posts:\n",
    "    num_comments = int(row[4])\n",
    "    total_ask_comments += num_comments\n",
    "avg_ask_comments = total_ask_comments / len(ask_posts)\n",
    "\n",
    "print(\"The average number of comments in ask_posts is: \", avg_ask_comments)"
   ]
  },
  {
   "cell_type": "markdown",
   "id": "865ec8d7-200c-4847-8f92-38eee845859e",
   "metadata": {},
   "source": [
    "Secondly, we find the total number of comments in show posts:"
   ]
  },
  {
   "cell_type": "code",
   "execution_count": 5,
   "id": "7726300f-5ca4-4846-ae16-d2ee8ae962fd",
   "metadata": {},
   "outputs": [
    {
     "name": "stdout",
     "output_type": "stream",
     "text": [
      "The average number of comments in show_posts is:  10.31669535283993\n"
     ]
    }
   ],
   "source": [
    "total_show_comments = 0\n",
    "for row in show_posts:\n",
    "    num_comments = int(row[4])\n",
    "    total_show_comments += num_comments\n",
    "\n",
    "\n",
    "avg_show_comments = total_show_comments / len(show_posts)\n",
    "\n",
    "print(\"The average number of comments in show_posts is: \", avg_show_comments)"
   ]
  },
  {
   "cell_type": "markdown",
   "id": "f56004a3-94b6-4624-8942-fc254fe280e9",
   "metadata": {},
   "source": [
    "*We can see, that more comments in average have ask_posts, because of the fact, that many people write the answer to the post and try to help the person. But the difference is biggest, so we can make a conclusion, that more persons comment ask posts.*"
   ]
  },
  {
   "cell_type": "markdown",
   "id": "a94dbaae-b9fe-4ab7-968c-a42f32f9373b",
   "metadata": {},
   "source": [
    "## **Finding the Number of Ask Posts and Comments by Hour Created**"
   ]
  },
  {
   "cell_type": "markdown",
   "id": "f5403ada-3256-4303-8688-d88cff833a95",
   "metadata": {},
   "source": [
    "**We want to determine if ask posts created at a certain time are more likely to attract comments.**"
   ]
  },
  {
   "cell_type": "markdown",
   "id": "89c0cc94-1208-4377-ba7a-2da089d29e56",
   "metadata": {},
   "source": [
    "Let's calculate the number of ask posts created in each hour of the day, along with the number of comments received:"
   ]
  },
  {
   "cell_type": "code",
   "execution_count": 6,
   "id": "0bdbc2de-f73c-4afb-80d1-2b6216953d2d",
   "metadata": {},
   "outputs": [],
   "source": [
    "import datetime as dt\n",
    "result_list = []\n",
    "for row in ask_posts:\n",
    "    list_2_elements = []\n",
    "    list_2_elements.append(row[6])\n",
    "    number_comments = int(row[4])\n",
    "    list_2_elements.append(number_comments)\n",
    "    result_list.append(list_2_elements)\n",
    "\n",
    "counts_by_hour = {}\n",
    "comments_by_hour = {}\n",
    "\n",
    "for row in result_list:\n",
    "    date_data = dt.datetime.strptime(row[0],\"%m/%d/%Y %H:%M\")\n",
    "    hour_data = date_data.strftime(\"%H\")\n",
    "    if hour_data not in counts_by_hour:\n",
    "        counts_by_hour[hour_data] = 1;\n",
    "        comments_by_hour[hour_data] = row[1]\n",
    "    elif hour_data in counts_by_hour:\n",
    "        counts_by_hour[hour_data] += 1\n",
    "        comments_by_hour[hour_data] += row[1]\n"
   ]
  },
  {
   "cell_type": "markdown",
   "id": "690e2168-3e5b-40d6-bddb-d0e1a9741059",
   "metadata": {},
   "source": [
    "Let's show our result dictionaries:"
   ]
  },
  {
   "cell_type": "code",
   "execution_count": 7,
   "id": "6e026088-7a34-46c0-a7c8-8082d14cf68c",
   "metadata": {},
   "outputs": [
    {
     "name": "stdout",
     "output_type": "stream",
     "text": [
      "The numbers of posting per certain hour: \n",
      "\n",
      "09 hour have 45 posts\n",
      "13 hour have 85 posts\n",
      "10 hour have 59 posts\n",
      "14 hour have 107 posts\n",
      "16 hour have 108 posts\n",
      "23 hour have 68 posts\n",
      "12 hour have 73 posts\n",
      "17 hour have 100 posts\n",
      "15 hour have 116 posts\n",
      "21 hour have 109 posts\n",
      "20 hour have 80 posts\n",
      "02 hour have 58 posts\n",
      "18 hour have 109 posts\n",
      "03 hour have 54 posts\n",
      "05 hour have 46 posts\n",
      "19 hour have 110 posts\n",
      "01 hour have 60 posts\n",
      "22 hour have 71 posts\n",
      "08 hour have 48 posts\n",
      "04 hour have 47 posts\n",
      "00 hour have 55 posts\n",
      "06 hour have 44 posts\n",
      "07 hour have 34 posts\n",
      "11 hour have 58 posts\n"
     ]
    }
   ],
   "source": [
    "print(\"The numbers of posting per certain hour: \\n\")\n",
    "for key in counts_by_hour:\n",
    "    print(key, \"hour have\", counts_by_hour[key], \"posts\")"
   ]
  },
  {
   "cell_type": "code",
   "execution_count": 8,
   "id": "91ec4c46-035c-4fca-bf18-a91fc4132311",
   "metadata": {},
   "outputs": [
    {
     "name": "stdout",
     "output_type": "stream",
     "text": [
      "The numbers of comments in posts in certain hour: \n",
      "\n",
      "09 hour have 251 comments\n",
      "13 hour have 1253 comments\n",
      "10 hour have 793 comments\n",
      "14 hour have 1416 comments\n",
      "16 hour have 1814 comments\n",
      "23 hour have 543 comments\n",
      "12 hour have 687 comments\n",
      "17 hour have 1146 comments\n",
      "15 hour have 4477 comments\n",
      "21 hour have 1745 comments\n",
      "20 hour have 1722 comments\n",
      "02 hour have 1381 comments\n",
      "18 hour have 1439 comments\n",
      "03 hour have 421 comments\n",
      "05 hour have 464 comments\n",
      "19 hour have 1188 comments\n",
      "01 hour have 683 comments\n",
      "22 hour have 479 comments\n",
      "08 hour have 492 comments\n",
      "04 hour have 337 comments\n",
      "00 hour have 447 comments\n",
      "06 hour have 397 comments\n",
      "07 hour have 267 comments\n",
      "11 hour have 641 comments\n"
     ]
    }
   ],
   "source": [
    "print(\"The numbers of comments in posts in certain hour: \\n\")\n",
    "for key in counts_by_hour:\n",
    "    print(key, \"hour have\", comments_by_hour[key], \"comments\")"
   ]
  },
  {
   "cell_type": "markdown",
   "id": "af93672e-3b74-43ff-847c-5e2dba683380",
   "metadata": {},
   "source": [
    "**We can see that the most popular hour for posting posts is 15 o'clock, and this posts are also get a biggest number of comments.**"
   ]
  },
  {
   "cell_type": "markdown",
   "id": "22a4b6a0-1f19-4271-a946-2cc6f14f5d5d",
   "metadata": {},
   "source": [
    "## **Calculating the Average Number of Comments for Ask HN Posts by Hour**"
   ]
  },
  {
   "cell_type": "markdown",
   "id": "72591855-3022-43c6-a8e3-47f9a7f92c19",
   "metadata": {},
   "source": [
    "Let's calculate the average number of comments per post for posts created during each hour of the day:"
   ]
  },
  {
   "cell_type": "code",
   "execution_count": 9,
   "id": "09163ec6-fd46-4fee-9f56-b6db07009eb4",
   "metadata": {},
   "outputs": [
    {
     "name": "stdout",
     "output_type": "stream",
     "text": [
      "09 hour have in average 5.5777777777777775 comments\n",
      "13 hour have in average 14.741176470588234 comments\n",
      "10 hour have in average 13.440677966101696 comments\n",
      "14 hour have in average 13.233644859813085 comments\n",
      "16 hour have in average 16.796296296296298 comments\n",
      "23 hour have in average 7.985294117647059 comments\n",
      "12 hour have in average 9.41095890410959 comments\n",
      "17 hour have in average 11.46 comments\n",
      "15 hour have in average 38.5948275862069 comments\n",
      "21 hour have in average 16.009174311926607 comments\n",
      "20 hour have in average 21.525 comments\n",
      "02 hour have in average 23.810344827586206 comments\n",
      "18 hour have in average 13.20183486238532 comments\n",
      "03 hour have in average 7.796296296296297 comments\n",
      "05 hour have in average 10.08695652173913 comments\n",
      "19 hour have in average 10.8 comments\n",
      "01 hour have in average 11.383333333333333 comments\n",
      "22 hour have in average 6.746478873239437 comments\n",
      "08 hour have in average 10.25 comments\n",
      "04 hour have in average 7.170212765957447 comments\n",
      "00 hour have in average 8.127272727272727 comments\n",
      "06 hour have in average 9.022727272727273 comments\n",
      "07 hour have in average 7.852941176470588 comments\n",
      "11 hour have in average 11.051724137931034 comments\n"
     ]
    }
   ],
   "source": [
    "avg_by_hour = []\n",
    "for hour in comments_by_hour:\n",
    "    avg_by_hour.append([hour, comments_by_hour[hour] / counts_by_hour[hour]])\n",
    "\n",
    "for row in avg_by_hour:\n",
    "    hour = row[0]\n",
    "    average_comments = row[1]\n",
    "    print(hour, \"hour have in average\", average_comments, \"comments\")"
   ]
  },
  {
   "cell_type": "markdown",
   "id": "fe929774-07d3-4ec6-b0de-0ea0af53b58a",
   "metadata": {},
   "source": [
    "## **Sorting and Printing Values from a List of Lists**"
   ]
  },
  {
   "cell_type": "markdown",
   "id": "e644f05e-0d59-4390-988e-d1bc037b10ef",
   "metadata": {},
   "source": [
    "Although we now have the results we need, this format makes it difficult to identify the hours with the highest values. Let's finish by sorting the list of lists and printing the five highest values in a format that's easier to read:"
   ]
  },
  {
   "cell_type": "code",
   "execution_count": 10,
   "id": "55a3ea90-38d7-467e-94cb-4e39b4e722c0",
   "metadata": {},
   "outputs": [
    {
     "name": "stdout",
     "output_type": "stream",
     "text": [
      "[[5.5777777777777775, '09'], [14.741176470588234, '13'], [13.440677966101696, '10'], [13.233644859813085, '14'], [16.796296296296298, '16'], [7.985294117647059, '23'], [9.41095890410959, '12'], [11.46, '17'], [38.5948275862069, '15'], [16.009174311926607, '21'], [21.525, '20'], [23.810344827586206, '02'], [13.20183486238532, '18'], [7.796296296296297, '03'], [10.08695652173913, '05'], [10.8, '19'], [11.383333333333333, '01'], [6.746478873239437, '22'], [10.25, '08'], [7.170212765957447, '04'], [8.127272727272727, '00'], [9.022727272727273, '06'], [7.852941176470588, '07'], [11.051724137931034, '11']]\n"
     ]
    }
   ],
   "source": [
    "swap_avg_by_hour = []\n",
    "for row in avg_by_hour:\n",
    "    swap_avg_by_hour.append([row[1], row[0]])\n",
    "print(swap_avg_by_hour)"
   ]
  },
  {
   "cell_type": "markdown",
   "id": "516dc365-00a5-47dc-9976-72d704c0e017",
   "metadata": {},
   "source": [
    "Let's sorted the swap list to see the results:"
   ]
  },
  {
   "cell_type": "code",
   "execution_count": 11,
   "id": "e664a40c-9d57-4754-b1ef-aa2112fc52a8",
   "metadata": {},
   "outputs": [],
   "source": [
    "sorted_swap = sorted(swap_avg_by_hour, reverse = True)"
   ]
  },
  {
   "cell_type": "markdown",
   "id": "c2bc3186-4e95-49a3-bb83-d3940182e442",
   "metadata": {},
   "source": [
    "**Let's print our final results:**"
   ]
  },
  {
   "cell_type": "code",
   "execution_count": 12,
   "id": "85ee78d0-84d8-4dae-9d46-fb4fe17125dd",
   "metadata": {},
   "outputs": [
    {
     "name": "stdout",
     "output_type": "stream",
     "text": [
      "Top 5 Hours for Ask Posts comments\n",
      "15:00: 38.59 average comments per post\n",
      "02:00: 23.81 average comments per post\n",
      "20:00: 21.52 average comments per post\n",
      "16:00: 16.80 average comments per post\n",
      "21:00: 16.01 average comments per post\n"
     ]
    }
   ],
   "source": [
    "print(\"Top 5 Hours for Ask Posts comments\")\n",
    "for row in sorted_swap[:5]:\n",
    "    hour_datetime = dt.datetime.strptime(str(row[1]), \"%H\")\n",
    "    print(\"{hour}: {average:.2f} average comments per post\".format(hour = hour_datetime.strftime(\"%H:%M\"), average = row[0]))\n",
    "          "
   ]
  },
  {
   "cell_type": "markdown",
   "id": "1f767b47-0b87-490e-8e1a-0d42139f7502",
   "metadata": {},
   "source": [
    "**We can see that if we create a post at 3 p.m., we will get the greatest effect from comments, because there are almost twice as many comments at this time as at the hour that ranks second in our table.Also during 2 a.m.,16.p.m, 20 p.m., 21 p.m. hours we should create a post to have a higher chance of receiving comments.**"
   ]
  },
  {
   "cell_type": "markdown",
   "id": "56b7ff36-cc60-44bb-9c07-8142725bbf25",
   "metadata": {},
   "source": [
    "**But we are living in +2GMT time zone, so in our case 3 p.m. is 9.p.m so we need to keep this statement in our mind. And also other hours will be moved forward by 6 hours.**"
   ]
  },
  {
   "cell_type": "markdown",
   "id": "681026cf-fe8c-452f-a2b6-e3fc6c760849",
   "metadata": {},
   "source": [
    "# Determine if show or ask posts receive more points on average"
   ]
  },
  {
   "cell_type": "code",
   "execution_count": 13,
   "id": "bd5cd945-417b-4309-ba5f-76d125558af9",
   "metadata": {},
   "outputs": [
    {
     "name": "stdout",
     "output_type": "stream",
     "text": [
      "The average points of ask posts is  15.061926605504587\n",
      "The average points of show posts is  27.555077452667813\n"
     ]
    }
   ],
   "source": [
    "show_posts_points = []\n",
    "ask_posts_points = []\n",
    "\n",
    "for row in ask_posts:\n",
    "    points = int(row[3])\n",
    "    ask_posts_points.append(points)\n",
    "\n",
    "for row in show_posts:\n",
    "    points = int(row[3])\n",
    "    show_posts_points.append(points)\n",
    "\n",
    "show_posts_average_points = sum(show_posts_points) / len(show_posts_points)\n",
    "ask_posts_average_points = sum(ask_posts_points) / len(ask_posts_points)\n",
    "\n",
    "print(\"The average points of ask posts is \", ask_posts_average_points)\n",
    "print(\"The average points of show posts is \", show_posts_average_points)\n"
   ]
  },
  {
   "cell_type": "markdown",
   "id": "726c3702-dcc9-4940-ba47-15e0b6955b9c",
   "metadata": {},
   "source": [
    "**We can see that show posts receive more points on average, than ask posts, despite the fact, that show posts get less comments on average, than ask posts.**"
   ]
  },
  {
   "cell_type": "markdown",
   "id": "e2b66efe-78eb-45b2-bdb4-90502a012fec",
   "metadata": {},
   "source": [
    "# **Conclusions**"
   ]
  },
  {
   "cell_type": "markdown",
   "id": "5aa23c63-654e-4782-a209-92199e9a28c8",
   "metadata": {},
   "source": [
    "**So today we are exploring the dataset \"Hacker News Posts\" and we can determine the top 5 Hours for publishing your work:**\n",
    "\n",
    "|Place in the rating| Hour |Number of average comments|\n",
    "|-------------------|----|--------------------------|\n",
    "| 1 |  15 p.m. | 38.59 |\n",
    "| 2 |  2 a.m.| 23.81 |\n",
    "| 3 |  8 p.m. | 21.52 |\n",
    "| 4 |  4 p.m.| 16.80 |\n",
    "| 5 |  9 p.m.| 16.01 |"
   ]
  },
  {
   "cell_type": "markdown",
   "id": "a74a99dc-709f-4413-b9e0-22dcbb324c23",
   "metadata": {},
   "source": [
    "**We also determine, that show posts receive more points on average, despite the  bigger collecting of comments in ask posts.**"
   ]
  }
 ],
 "metadata": {
  "kernelspec": {
   "display_name": "Python 3 (ipykernel)",
   "language": "python",
   "name": "python3"
  },
  "language_info": {
   "codemirror_mode": {
    "name": "ipython",
    "version": 3
   },
   "file_extension": ".py",
   "mimetype": "text/x-python",
   "name": "python",
   "nbconvert_exporter": "python",
   "pygments_lexer": "ipython3",
   "version": "3.11.7"
  }
 },
 "nbformat": 4,
 "nbformat_minor": 5
}
