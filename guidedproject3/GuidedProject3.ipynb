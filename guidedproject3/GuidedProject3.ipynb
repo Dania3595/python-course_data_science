{
 "cells": [
  {
   "cell_type": "markdown",
   "id": "b764560f-69fe-406c-b6bd-56a5e3585e74",
   "metadata": {},
   "source": [
    "# **Guided Project: Exploring eBay Car Sales Data**"
   ]
  },
  {
   "cell_type": "markdown",
   "id": "3415db03-5d52-435e-8259-f04d8ce5fb6a",
   "metadata": {},
   "source": [
    "# Introducing"
   ]
  },
  {
   "cell_type": "markdown",
   "id": "b0c8b6ca-3355-46ef-99e5-770c30536f4d",
   "metadata": {},
   "source": [
    "**In this guided project, we'll work with a dataset of used cars from eBay Kleinanzeigen, a classifieds section of the German eBay website. You can find it [here](https://data.world/data-society/used-cars-data).**"
   ]
  },
  {
   "cell_type": "markdown",
   "id": "27656c5e-51fd-4d0f-8263-6ec41ac9f51f",
   "metadata": {},
   "source": [
    "The **aim** of this project is **to clean the dataset and perform some initial analysis on it**. While working on this project, you'll become familiar with some of the unique benefits the JupyterLab environment has to offer for pandas."
   ]
  },
  {
   "cell_type": "markdown",
   "id": "72ce1de1-bc43-4189-b0f7-55930138ebd1",
   "metadata": {},
   "source": [
    "Let's start with importing libraries."
   ]
  },
  {
   "cell_type": "markdown",
   "id": "600d99c9-0af5-4b5f-9c55-ef4be40838b5",
   "metadata": {},
   "source": [
    "# Preparing for analysis"
   ]
  },
  {
   "cell_type": "code",
   "execution_count": 1,
   "id": "bd89f30a-04db-4a55-a08d-395f66562f70",
   "metadata": {},
   "outputs": [],
   "source": [
    "import numpy as np\n",
    "import pandas as pd"
   ]
  },
  {
   "cell_type": "markdown",
   "id": "b63aeafe-c30c-4b4a-bd3e-cd4046fc0046",
   "metadata": {},
   "source": [
    "Then we read the **autos.csv** file into dataframe **autos**:"
   ]
  },
  {
   "cell_type": "code",
   "execution_count": 2,
   "id": "d724a7b6-01df-423d-ace4-b7e632f922ed",
   "metadata": {},
   "outputs": [],
   "source": [
    "autos = pd.read_csv(\"autos.csv\", encoding = \"latin1\")"
   ]
  },
  {
   "cell_type": "markdown",
   "id": "1d5f5892-ee39-4b00-93cc-0f8a736cbe43",
   "metadata": {},
   "source": [
    "Let's explore our dataset:"
   ]
  },
  {
   "cell_type": "code",
   "execution_count": 3,
   "id": "d235d30f-8a2b-4333-a6c7-8a1c3503e261",
   "metadata": {},
   "outputs": [
    {
     "name": "stdout",
     "output_type": "stream",
     "text": [
      "           dateCrawled                                               name  \\\n",
      "0  2016-03-26 17:47:46                   Peugeot_807_160_NAVTECH_ON_BOARD   \n",
      "1  2016-04-04 13:38:56         BMW_740i_4_4_Liter_HAMANN_UMBAU_Mega_Optik   \n",
      "2  2016-03-26 18:57:24                         Volkswagen_Golf_1.6_United   \n",
      "3  2016-03-12 16:58:10  Smart_smart_fortwo_coupe_softouch/F1/Klima/Pan...   \n",
      "4  2016-04-01 14:38:50  Ford_Focus_1_6_Benzin_TÜV_neu_ist_sehr_gepfleg...   \n",
      "\n",
      "   seller offerType   price   abtest vehicleType  yearOfRegistration  \\\n",
      "0  privat   Angebot  $5,000  control         bus                2004   \n",
      "1  privat   Angebot  $8,500  control   limousine                1997   \n",
      "2  privat   Angebot  $8,990     test   limousine                2009   \n",
      "3  privat   Angebot  $4,350  control  kleinwagen                2007   \n",
      "4  privat   Angebot  $1,350     test       kombi                2003   \n",
      "\n",
      "     gearbox  powerPS   model   odometer  monthOfRegistration fuelType  \\\n",
      "0    manuell      158  andere  150,000km                    3      lpg   \n",
      "1  automatik      286     7er  150,000km                    6   benzin   \n",
      "2    manuell      102    golf   70,000km                    7   benzin   \n",
      "3  automatik       71  fortwo   70,000km                    6   benzin   \n",
      "4    manuell        0   focus  150,000km                    7   benzin   \n",
      "\n",
      "        brand notRepairedDamage          dateCreated  nrOfPictures  \\\n",
      "0     peugeot              nein  2016-03-26 00:00:00             0   \n",
      "1         bmw              nein  2016-04-04 00:00:00             0   \n",
      "2  volkswagen              nein  2016-03-26 00:00:00             0   \n",
      "3       smart              nein  2016-03-12 00:00:00             0   \n",
      "4        ford              nein  2016-04-01 00:00:00             0   \n",
      "\n",
      "   postalCode             lastSeen  \n",
      "0       79588  2016-04-06 06:45:54  \n",
      "1       71034  2016-04-06 14:45:08  \n",
      "2       35394  2016-04-06 20:15:37  \n",
      "3       33729  2016-03-15 03:16:28  \n",
      "4       39218  2016-04-01 14:38:50  \n"
     ]
    },
    {
     "data": {
      "text/html": [
       "<div>\n",
       "<style scoped>\n",
       "    .dataframe tbody tr th:only-of-type {\n",
       "        vertical-align: middle;\n",
       "    }\n",
       "\n",
       "    .dataframe tbody tr th {\n",
       "        vertical-align: top;\n",
       "    }\n",
       "\n",
       "    .dataframe thead th {\n",
       "        text-align: right;\n",
       "    }\n",
       "</style>\n",
       "<table border=\"1\" class=\"dataframe\">\n",
       "  <thead>\n",
       "    <tr style=\"text-align: right;\">\n",
       "      <th></th>\n",
       "      <th>yearOfRegistration</th>\n",
       "      <th>powerPS</th>\n",
       "      <th>monthOfRegistration</th>\n",
       "      <th>nrOfPictures</th>\n",
       "      <th>postalCode</th>\n",
       "    </tr>\n",
       "  </thead>\n",
       "  <tbody>\n",
       "    <tr>\n",
       "      <th>count</th>\n",
       "      <td>50000.000000</td>\n",
       "      <td>50000.000000</td>\n",
       "      <td>50000.000000</td>\n",
       "      <td>50000.0</td>\n",
       "      <td>50000.000000</td>\n",
       "    </tr>\n",
       "    <tr>\n",
       "      <th>mean</th>\n",
       "      <td>2005.073280</td>\n",
       "      <td>116.355920</td>\n",
       "      <td>5.723360</td>\n",
       "      <td>0.0</td>\n",
       "      <td>50813.627300</td>\n",
       "    </tr>\n",
       "    <tr>\n",
       "      <th>std</th>\n",
       "      <td>105.712813</td>\n",
       "      <td>209.216627</td>\n",
       "      <td>3.711984</td>\n",
       "      <td>0.0</td>\n",
       "      <td>25779.747957</td>\n",
       "    </tr>\n",
       "    <tr>\n",
       "      <th>min</th>\n",
       "      <td>1000.000000</td>\n",
       "      <td>0.000000</td>\n",
       "      <td>0.000000</td>\n",
       "      <td>0.0</td>\n",
       "      <td>1067.000000</td>\n",
       "    </tr>\n",
       "    <tr>\n",
       "      <th>25%</th>\n",
       "      <td>1999.000000</td>\n",
       "      <td>70.000000</td>\n",
       "      <td>3.000000</td>\n",
       "      <td>0.0</td>\n",
       "      <td>30451.000000</td>\n",
       "    </tr>\n",
       "    <tr>\n",
       "      <th>50%</th>\n",
       "      <td>2003.000000</td>\n",
       "      <td>105.000000</td>\n",
       "      <td>6.000000</td>\n",
       "      <td>0.0</td>\n",
       "      <td>49577.000000</td>\n",
       "    </tr>\n",
       "    <tr>\n",
       "      <th>75%</th>\n",
       "      <td>2008.000000</td>\n",
       "      <td>150.000000</td>\n",
       "      <td>9.000000</td>\n",
       "      <td>0.0</td>\n",
       "      <td>71540.000000</td>\n",
       "    </tr>\n",
       "    <tr>\n",
       "      <th>max</th>\n",
       "      <td>9999.000000</td>\n",
       "      <td>17700.000000</td>\n",
       "      <td>12.000000</td>\n",
       "      <td>0.0</td>\n",
       "      <td>99998.000000</td>\n",
       "    </tr>\n",
       "  </tbody>\n",
       "</table>\n",
       "</div>"
      ],
      "text/plain": [
       "       yearOfRegistration       powerPS  monthOfRegistration  nrOfPictures  \\\n",
       "count        50000.000000  50000.000000         50000.000000       50000.0   \n",
       "mean          2005.073280    116.355920             5.723360           0.0   \n",
       "std            105.712813    209.216627             3.711984           0.0   \n",
       "min           1000.000000      0.000000             0.000000           0.0   \n",
       "25%           1999.000000     70.000000             3.000000           0.0   \n",
       "50%           2003.000000    105.000000             6.000000           0.0   \n",
       "75%           2008.000000    150.000000             9.000000           0.0   \n",
       "max           9999.000000  17700.000000            12.000000           0.0   \n",
       "\n",
       "         postalCode  \n",
       "count  50000.000000  \n",
       "mean   50813.627300  \n",
       "std    25779.747957  \n",
       "min     1067.000000  \n",
       "25%    30451.000000  \n",
       "50%    49577.000000  \n",
       "75%    71540.000000  \n",
       "max    99998.000000  "
      ]
     },
     "execution_count": 3,
     "metadata": {},
     "output_type": "execute_result"
    }
   ],
   "source": [
    "print(autos.head(5))\n",
    "autos.describe()"
   ]
  },
  {
   "cell_type": "markdown",
   "id": "fd79494b-a9e0-403b-ab21-a175c6041242",
   "metadata": {},
   "source": [
    "We can see that our dataset has 20 columns, but only 7 of them are the columns with dtype int or float. We can see, that we have in some positions the Nan values and probably we need in future to fix this things. Also we can see, that this dataset use camelcase instead of Python's preferred snakecase, which means we can't just replace spaces with underscores."
   ]
  },
  {
   "cell_type": "markdown",
   "id": "f8e348c9-af45-4442-922a-e031a332c1bf",
   "metadata": {},
   "source": [
    "## Cleaning Column Names"
   ]
  },
  {
   "cell_type": "markdown",
   "id": "9f839207-09ca-4570-9d90-1a1cc3ead5ff",
   "metadata": {},
   "source": [
    "Let's clean our columns from camelcase to snakecase, which Python preffered most:"
   ]
  },
  {
   "cell_type": "code",
   "execution_count": 4,
   "id": "663164de-4cbb-4002-b2c3-828760227720",
   "metadata": {},
   "outputs": [
    {
     "name": "stdout",
     "output_type": "stream",
     "text": [
      "Index(['dateCrawled', 'name', 'seller', 'offerType', 'price', 'abtest',\n",
      "       'vehicleType', 'yearOfRegistration', 'gearbox', 'powerPS', 'model',\n",
      "       'odometer', 'monthOfRegistration', 'fuelType', 'brand',\n",
      "       'notRepairedDamage', 'dateCreated', 'nrOfPictures', 'postalCode',\n",
      "       'lastSeen'],\n",
      "      dtype='object')\n"
     ]
    }
   ],
   "source": [
    "print(autos.columns)"
   ]
  },
  {
   "cell_type": "markdown",
   "id": "f5a4ad6c-5f64-46f6-9e2e-6cd431b95cc5",
   "metadata": {},
   "source": [
    "Let's create a dictionary with keys, which represents the names of current columns, and the values are the future names of columns. Then we can change names of our columns:"
   ]
  },
  {
   "cell_type": "code",
   "execution_count": 5,
   "id": "d738c3c7-0799-4417-b80c-33308628d48c",
   "metadata": {},
   "outputs": [],
   "source": [
    "dictionary_of_changes = {\"dateCrawled\" : \"date_crawled\", \n",
    "                         \"offerType\" : \"offer_type\", \n",
    "                         \"vehicleType\" : \"type_vehicle\", \n",
    "                         \"yearOfRegistration\" : \"registration_year\", \n",
    "                         'monthOfRegistration' : 'registration_month', \n",
    "                         \"powerPS\" : \"power_ps\", \n",
    "                         \"fuelType\" : \"fuel_type\", \n",
    "                         \"notRepairedDamage\" : \"unrepaired_damage\", \n",
    "                         \"dateCreated\" : \"ad_created\", \n",
    "                         \"nrOfPictures\" : \"nr_of_pictures\", \n",
    "                         \"postalCode\" : \"postal_code\", \n",
    "                         \"lastSeen\" : \"last_seen\",\n",
    "                        }\n",
    "\n",
    "def rename_columns(string):\n",
    "    string.rename(dictionary_of_changes, axis = 1, inplace = True)\n",
    "    return string\n",
    "\n",
    "autos = rename_columns(autos)"
   ]
  },
  {
   "cell_type": "markdown",
   "id": "a0b4c22a-c8f6-4a1e-bbe6-cfebef1cc634",
   "metadata": {},
   "source": [
    "Let's see the results:"
   ]
  },
  {
   "cell_type": "code",
   "execution_count": 6,
   "id": "2fa23d50-13f5-441c-8f48-c2eaacac76be",
   "metadata": {},
   "outputs": [
    {
     "name": "stdout",
     "output_type": "stream",
     "text": [
      "Index(['date_crawled', 'name', 'seller', 'offer_type', 'price', 'abtest',\n",
      "       'type_vehicle', 'registration_year', 'gearbox', 'power_ps', 'model',\n",
      "       'odometer', 'registration_month', 'fuel_type', 'brand',\n",
      "       'unrepaired_damage', 'ad_created', 'nr_of_pictures', 'postal_code',\n",
      "       'last_seen'],\n",
      "      dtype='object')\n",
      "          date_crawled                                               name  \\\n",
      "0  2016-03-26 17:47:46                   Peugeot_807_160_NAVTECH_ON_BOARD   \n",
      "1  2016-04-04 13:38:56         BMW_740i_4_4_Liter_HAMANN_UMBAU_Mega_Optik   \n",
      "2  2016-03-26 18:57:24                         Volkswagen_Golf_1.6_United   \n",
      "3  2016-03-12 16:58:10  Smart_smart_fortwo_coupe_softouch/F1/Klima/Pan...   \n",
      "4  2016-04-01 14:38:50  Ford_Focus_1_6_Benzin_TÜV_neu_ist_sehr_gepfleg...   \n",
      "\n",
      "   seller offer_type   price   abtest type_vehicle  registration_year  \\\n",
      "0  privat    Angebot  $5,000  control          bus               2004   \n",
      "1  privat    Angebot  $8,500  control    limousine               1997   \n",
      "2  privat    Angebot  $8,990     test    limousine               2009   \n",
      "3  privat    Angebot  $4,350  control   kleinwagen               2007   \n",
      "4  privat    Angebot  $1,350     test        kombi               2003   \n",
      "\n",
      "     gearbox  power_ps   model   odometer  registration_month fuel_type  \\\n",
      "0    manuell       158  andere  150,000km                   3       lpg   \n",
      "1  automatik       286     7er  150,000km                   6    benzin   \n",
      "2    manuell       102    golf   70,000km                   7    benzin   \n",
      "3  automatik        71  fortwo   70,000km                   6    benzin   \n",
      "4    manuell         0   focus  150,000km                   7    benzin   \n",
      "\n",
      "        brand unrepaired_damage           ad_created  nr_of_pictures  \\\n",
      "0     peugeot              nein  2016-03-26 00:00:00               0   \n",
      "1         bmw              nein  2016-04-04 00:00:00               0   \n",
      "2  volkswagen              nein  2016-03-26 00:00:00               0   \n",
      "3       smart              nein  2016-03-12 00:00:00               0   \n",
      "4        ford              nein  2016-04-01 00:00:00               0   \n",
      "\n",
      "   postal_code            last_seen  \n",
      "0        79588  2016-04-06 06:45:54  \n",
      "1        71034  2016-04-06 14:45:08  \n",
      "2        35394  2016-04-06 20:15:37  \n",
      "3        33729  2016-03-15 03:16:28  \n",
      "4        39218  2016-04-01 14:38:50  \n"
     ]
    }
   ],
   "source": [
    "print(autos.columns)\n",
    "print(autos.head())"
   ]
  },
  {
   "cell_type": "markdown",
   "id": "ec1a102c-b7f1-422d-84f0-c19ffaab839d",
   "metadata": {},
   "source": [
    "We have made this changes, because the snakecase are the common in Python syntax, and I think, that it will be comfortable  to  work with current names of columns in our future steps."
   ]
  },
  {
   "cell_type": "markdown",
   "id": "9ba2725b-4bb6-489f-b2fd-3f6b7e943f02",
   "metadata": {},
   "source": [
    "## Initial Exploration and Cleaning"
   ]
  },
  {
   "cell_type": "markdown",
   "id": "916a3f19-3e74-4574-9c88-a7c826feb46b",
   "metadata": {},
   "source": [
    "Let's explore our dataset and look for columns where all or almost all values are the same and examples of numeric data stored as text which can be cleaned and converted."
   ]
  },
  {
   "cell_type": "code",
   "execution_count": 7,
   "id": "7c17df94-2c0c-45b8-8240-ad6e262baa54",
   "metadata": {},
   "outputs": [
    {
     "data": {
      "text/html": [
       "<div>\n",
       "<style scoped>\n",
       "    .dataframe tbody tr th:only-of-type {\n",
       "        vertical-align: middle;\n",
       "    }\n",
       "\n",
       "    .dataframe tbody tr th {\n",
       "        vertical-align: top;\n",
       "    }\n",
       "\n",
       "    .dataframe thead th {\n",
       "        text-align: right;\n",
       "    }\n",
       "</style>\n",
       "<table border=\"1\" class=\"dataframe\">\n",
       "  <thead>\n",
       "    <tr style=\"text-align: right;\">\n",
       "      <th></th>\n",
       "      <th>date_crawled</th>\n",
       "      <th>name</th>\n",
       "      <th>seller</th>\n",
       "      <th>offer_type</th>\n",
       "      <th>price</th>\n",
       "      <th>abtest</th>\n",
       "      <th>type_vehicle</th>\n",
       "      <th>registration_year</th>\n",
       "      <th>gearbox</th>\n",
       "      <th>power_ps</th>\n",
       "      <th>model</th>\n",
       "      <th>odometer</th>\n",
       "      <th>registration_month</th>\n",
       "      <th>fuel_type</th>\n",
       "      <th>brand</th>\n",
       "      <th>unrepaired_damage</th>\n",
       "      <th>ad_created</th>\n",
       "      <th>nr_of_pictures</th>\n",
       "      <th>postal_code</th>\n",
       "      <th>last_seen</th>\n",
       "    </tr>\n",
       "  </thead>\n",
       "  <tbody>\n",
       "    <tr>\n",
       "      <th>count</th>\n",
       "      <td>50000</td>\n",
       "      <td>50000</td>\n",
       "      <td>50000</td>\n",
       "      <td>50000</td>\n",
       "      <td>50000</td>\n",
       "      <td>50000</td>\n",
       "      <td>44905</td>\n",
       "      <td>50000.000000</td>\n",
       "      <td>47320</td>\n",
       "      <td>50000.000000</td>\n",
       "      <td>47242</td>\n",
       "      <td>50000</td>\n",
       "      <td>50000.000000</td>\n",
       "      <td>45518</td>\n",
       "      <td>50000</td>\n",
       "      <td>40171</td>\n",
       "      <td>50000</td>\n",
       "      <td>50000.0</td>\n",
       "      <td>50000.000000</td>\n",
       "      <td>50000</td>\n",
       "    </tr>\n",
       "    <tr>\n",
       "      <th>unique</th>\n",
       "      <td>48213</td>\n",
       "      <td>38754</td>\n",
       "      <td>2</td>\n",
       "      <td>2</td>\n",
       "      <td>2357</td>\n",
       "      <td>2</td>\n",
       "      <td>8</td>\n",
       "      <td>NaN</td>\n",
       "      <td>2</td>\n",
       "      <td>NaN</td>\n",
       "      <td>245</td>\n",
       "      <td>13</td>\n",
       "      <td>NaN</td>\n",
       "      <td>7</td>\n",
       "      <td>40</td>\n",
       "      <td>2</td>\n",
       "      <td>76</td>\n",
       "      <td>NaN</td>\n",
       "      <td>NaN</td>\n",
       "      <td>39481</td>\n",
       "    </tr>\n",
       "    <tr>\n",
       "      <th>top</th>\n",
       "      <td>2016-04-02 11:37:04</td>\n",
       "      <td>Ford_Fiesta</td>\n",
       "      <td>privat</td>\n",
       "      <td>Angebot</td>\n",
       "      <td>$0</td>\n",
       "      <td>test</td>\n",
       "      <td>limousine</td>\n",
       "      <td>NaN</td>\n",
       "      <td>manuell</td>\n",
       "      <td>NaN</td>\n",
       "      <td>golf</td>\n",
       "      <td>150,000km</td>\n",
       "      <td>NaN</td>\n",
       "      <td>benzin</td>\n",
       "      <td>volkswagen</td>\n",
       "      <td>nein</td>\n",
       "      <td>2016-04-03 00:00:00</td>\n",
       "      <td>NaN</td>\n",
       "      <td>NaN</td>\n",
       "      <td>2016-04-07 06:17:27</td>\n",
       "    </tr>\n",
       "    <tr>\n",
       "      <th>freq</th>\n",
       "      <td>3</td>\n",
       "      <td>78</td>\n",
       "      <td>49999</td>\n",
       "      <td>49999</td>\n",
       "      <td>1421</td>\n",
       "      <td>25756</td>\n",
       "      <td>12859</td>\n",
       "      <td>NaN</td>\n",
       "      <td>36993</td>\n",
       "      <td>NaN</td>\n",
       "      <td>4024</td>\n",
       "      <td>32424</td>\n",
       "      <td>NaN</td>\n",
       "      <td>30107</td>\n",
       "      <td>10687</td>\n",
       "      <td>35232</td>\n",
       "      <td>1946</td>\n",
       "      <td>NaN</td>\n",
       "      <td>NaN</td>\n",
       "      <td>8</td>\n",
       "    </tr>\n",
       "    <tr>\n",
       "      <th>mean</th>\n",
       "      <td>NaN</td>\n",
       "      <td>NaN</td>\n",
       "      <td>NaN</td>\n",
       "      <td>NaN</td>\n",
       "      <td>NaN</td>\n",
       "      <td>NaN</td>\n",
       "      <td>NaN</td>\n",
       "      <td>2005.073280</td>\n",
       "      <td>NaN</td>\n",
       "      <td>116.355920</td>\n",
       "      <td>NaN</td>\n",
       "      <td>NaN</td>\n",
       "      <td>5.723360</td>\n",
       "      <td>NaN</td>\n",
       "      <td>NaN</td>\n",
       "      <td>NaN</td>\n",
       "      <td>NaN</td>\n",
       "      <td>0.0</td>\n",
       "      <td>50813.627300</td>\n",
       "      <td>NaN</td>\n",
       "    </tr>\n",
       "    <tr>\n",
       "      <th>std</th>\n",
       "      <td>NaN</td>\n",
       "      <td>NaN</td>\n",
       "      <td>NaN</td>\n",
       "      <td>NaN</td>\n",
       "      <td>NaN</td>\n",
       "      <td>NaN</td>\n",
       "      <td>NaN</td>\n",
       "      <td>105.712813</td>\n",
       "      <td>NaN</td>\n",
       "      <td>209.216627</td>\n",
       "      <td>NaN</td>\n",
       "      <td>NaN</td>\n",
       "      <td>3.711984</td>\n",
       "      <td>NaN</td>\n",
       "      <td>NaN</td>\n",
       "      <td>NaN</td>\n",
       "      <td>NaN</td>\n",
       "      <td>0.0</td>\n",
       "      <td>25779.747957</td>\n",
       "      <td>NaN</td>\n",
       "    </tr>\n",
       "    <tr>\n",
       "      <th>min</th>\n",
       "      <td>NaN</td>\n",
       "      <td>NaN</td>\n",
       "      <td>NaN</td>\n",
       "      <td>NaN</td>\n",
       "      <td>NaN</td>\n",
       "      <td>NaN</td>\n",
       "      <td>NaN</td>\n",
       "      <td>1000.000000</td>\n",
       "      <td>NaN</td>\n",
       "      <td>0.000000</td>\n",
       "      <td>NaN</td>\n",
       "      <td>NaN</td>\n",
       "      <td>0.000000</td>\n",
       "      <td>NaN</td>\n",
       "      <td>NaN</td>\n",
       "      <td>NaN</td>\n",
       "      <td>NaN</td>\n",
       "      <td>0.0</td>\n",
       "      <td>1067.000000</td>\n",
       "      <td>NaN</td>\n",
       "    </tr>\n",
       "    <tr>\n",
       "      <th>25%</th>\n",
       "      <td>NaN</td>\n",
       "      <td>NaN</td>\n",
       "      <td>NaN</td>\n",
       "      <td>NaN</td>\n",
       "      <td>NaN</td>\n",
       "      <td>NaN</td>\n",
       "      <td>NaN</td>\n",
       "      <td>1999.000000</td>\n",
       "      <td>NaN</td>\n",
       "      <td>70.000000</td>\n",
       "      <td>NaN</td>\n",
       "      <td>NaN</td>\n",
       "      <td>3.000000</td>\n",
       "      <td>NaN</td>\n",
       "      <td>NaN</td>\n",
       "      <td>NaN</td>\n",
       "      <td>NaN</td>\n",
       "      <td>0.0</td>\n",
       "      <td>30451.000000</td>\n",
       "      <td>NaN</td>\n",
       "    </tr>\n",
       "    <tr>\n",
       "      <th>50%</th>\n",
       "      <td>NaN</td>\n",
       "      <td>NaN</td>\n",
       "      <td>NaN</td>\n",
       "      <td>NaN</td>\n",
       "      <td>NaN</td>\n",
       "      <td>NaN</td>\n",
       "      <td>NaN</td>\n",
       "      <td>2003.000000</td>\n",
       "      <td>NaN</td>\n",
       "      <td>105.000000</td>\n",
       "      <td>NaN</td>\n",
       "      <td>NaN</td>\n",
       "      <td>6.000000</td>\n",
       "      <td>NaN</td>\n",
       "      <td>NaN</td>\n",
       "      <td>NaN</td>\n",
       "      <td>NaN</td>\n",
       "      <td>0.0</td>\n",
       "      <td>49577.000000</td>\n",
       "      <td>NaN</td>\n",
       "    </tr>\n",
       "    <tr>\n",
       "      <th>75%</th>\n",
       "      <td>NaN</td>\n",
       "      <td>NaN</td>\n",
       "      <td>NaN</td>\n",
       "      <td>NaN</td>\n",
       "      <td>NaN</td>\n",
       "      <td>NaN</td>\n",
       "      <td>NaN</td>\n",
       "      <td>2008.000000</td>\n",
       "      <td>NaN</td>\n",
       "      <td>150.000000</td>\n",
       "      <td>NaN</td>\n",
       "      <td>NaN</td>\n",
       "      <td>9.000000</td>\n",
       "      <td>NaN</td>\n",
       "      <td>NaN</td>\n",
       "      <td>NaN</td>\n",
       "      <td>NaN</td>\n",
       "      <td>0.0</td>\n",
       "      <td>71540.000000</td>\n",
       "      <td>NaN</td>\n",
       "    </tr>\n",
       "    <tr>\n",
       "      <th>max</th>\n",
       "      <td>NaN</td>\n",
       "      <td>NaN</td>\n",
       "      <td>NaN</td>\n",
       "      <td>NaN</td>\n",
       "      <td>NaN</td>\n",
       "      <td>NaN</td>\n",
       "      <td>NaN</td>\n",
       "      <td>9999.000000</td>\n",
       "      <td>NaN</td>\n",
       "      <td>17700.000000</td>\n",
       "      <td>NaN</td>\n",
       "      <td>NaN</td>\n",
       "      <td>12.000000</td>\n",
       "      <td>NaN</td>\n",
       "      <td>NaN</td>\n",
       "      <td>NaN</td>\n",
       "      <td>NaN</td>\n",
       "      <td>0.0</td>\n",
       "      <td>99998.000000</td>\n",
       "      <td>NaN</td>\n",
       "    </tr>\n",
       "  </tbody>\n",
       "</table>\n",
       "</div>"
      ],
      "text/plain": [
       "               date_crawled         name  seller offer_type  price abtest  \\\n",
       "count                 50000        50000   50000      50000  50000  50000   \n",
       "unique                48213        38754       2          2   2357      2   \n",
       "top     2016-04-02 11:37:04  Ford_Fiesta  privat    Angebot     $0   test   \n",
       "freq                      3           78   49999      49999   1421  25756   \n",
       "mean                    NaN          NaN     NaN        NaN    NaN    NaN   \n",
       "std                     NaN          NaN     NaN        NaN    NaN    NaN   \n",
       "min                     NaN          NaN     NaN        NaN    NaN    NaN   \n",
       "25%                     NaN          NaN     NaN        NaN    NaN    NaN   \n",
       "50%                     NaN          NaN     NaN        NaN    NaN    NaN   \n",
       "75%                     NaN          NaN     NaN        NaN    NaN    NaN   \n",
       "max                     NaN          NaN     NaN        NaN    NaN    NaN   \n",
       "\n",
       "       type_vehicle  registration_year  gearbox      power_ps  model  \\\n",
       "count         44905       50000.000000    47320  50000.000000  47242   \n",
       "unique            8                NaN        2           NaN    245   \n",
       "top       limousine                NaN  manuell           NaN   golf   \n",
       "freq          12859                NaN    36993           NaN   4024   \n",
       "mean            NaN        2005.073280      NaN    116.355920    NaN   \n",
       "std             NaN         105.712813      NaN    209.216627    NaN   \n",
       "min             NaN        1000.000000      NaN      0.000000    NaN   \n",
       "25%             NaN        1999.000000      NaN     70.000000    NaN   \n",
       "50%             NaN        2003.000000      NaN    105.000000    NaN   \n",
       "75%             NaN        2008.000000      NaN    150.000000    NaN   \n",
       "max             NaN        9999.000000      NaN  17700.000000    NaN   \n",
       "\n",
       "         odometer  registration_month fuel_type       brand unrepaired_damage  \\\n",
       "count       50000        50000.000000     45518       50000             40171   \n",
       "unique         13                 NaN         7          40                 2   \n",
       "top     150,000km                 NaN    benzin  volkswagen              nein   \n",
       "freq        32424                 NaN     30107       10687             35232   \n",
       "mean          NaN            5.723360       NaN         NaN               NaN   \n",
       "std           NaN            3.711984       NaN         NaN               NaN   \n",
       "min           NaN            0.000000       NaN         NaN               NaN   \n",
       "25%           NaN            3.000000       NaN         NaN               NaN   \n",
       "50%           NaN            6.000000       NaN         NaN               NaN   \n",
       "75%           NaN            9.000000       NaN         NaN               NaN   \n",
       "max           NaN           12.000000       NaN         NaN               NaN   \n",
       "\n",
       "                 ad_created  nr_of_pictures   postal_code            last_seen  \n",
       "count                 50000         50000.0  50000.000000                50000  \n",
       "unique                   76             NaN           NaN                39481  \n",
       "top     2016-04-03 00:00:00             NaN           NaN  2016-04-07 06:17:27  \n",
       "freq                   1946             NaN           NaN                    8  \n",
       "mean                    NaN             0.0  50813.627300                  NaN  \n",
       "std                     NaN             0.0  25779.747957                  NaN  \n",
       "min                     NaN             0.0   1067.000000                  NaN  \n",
       "25%                     NaN             0.0  30451.000000                  NaN  \n",
       "50%                     NaN             0.0  49577.000000                  NaN  \n",
       "75%                     NaN             0.0  71540.000000                  NaN  \n",
       "max                     NaN             0.0  99998.000000                  NaN  "
      ]
     },
     "execution_count": 7,
     "metadata": {},
     "output_type": "execute_result"
    }
   ],
   "source": [
    "autos.describe(include = \"all\")"
   ]
  },
  {
   "cell_type": "markdown",
   "id": "9b617a93-fcaa-494b-80fc-f21d0bc825d1",
   "metadata": {},
   "source": [
    "Let's explore some columns in details:"
   ]
  },
  {
   "cell_type": "code",
   "execution_count": 8,
   "id": "70bd8af5-cbce-4b9c-b563-37779a616d5d",
   "metadata": {},
   "outputs": [
    {
     "name": "stdout",
     "output_type": "stream",
     "text": [
      "seller\n",
      "privat        49999\n",
      "gewerblich        1\n",
      "Name: count, dtype: int64\n",
      "offer_type\n",
      "Angebot    49999\n",
      "Gesuch         1\n",
      "Name: count, dtype: int64\n"
     ]
    }
   ],
   "source": [
    "print(autos[\"seller\"].value_counts())\n",
    "print(autos[\"offer_type\"].value_counts())"
   ]
  },
  {
   "cell_type": "markdown",
   "id": "e430575b-d027-40ac-9a51-da989d953fee",
   "metadata": {},
   "source": [
    "We can see that these columns have in common only one type, so we may drop it from our dataset or not include in our analyses."
   ]
  },
  {
   "cell_type": "markdown",
   "id": "9eaf897b-eaa3-4968-a5b0-7e059b2963e8",
   "metadata": {},
   "source": [
    "Now let's see to potentially numeric columns:"
   ]
  },
  {
   "cell_type": "code",
   "execution_count": 9,
   "id": "32e7725b-44ac-46d0-aba1-4a266af4e698",
   "metadata": {},
   "outputs": [
    {
     "name": "stdout",
     "output_type": "stream",
     "text": [
      "['$5,000' '$8,500' '$8,990' ... '$385' '$22,200' '$16,995']\n",
      "['150,000km' '70,000km' '50,000km' '80,000km' '10,000km' '30,000km'\n",
      " '125,000km' '90,000km' '20,000km' '60,000km' '5,000km' '100,000km'\n",
      " '40,000km']\n",
      "[0]\n"
     ]
    }
   ],
   "source": [
    "print(autos[\"price\"].unique())\n",
    "\n",
    "print(autos[\"odometer\"].unique())\n",
    "\n",
    "print(autos[\"nr_of_pictures\"].unique())"
   ]
  },
  {
   "cell_type": "markdown",
   "id": "e92d1638-ce3f-4931-9c9f-45c9a5df5cde",
   "metadata": {},
   "source": [
    "**We can see that first two columns `price` and `odometer` are potentially numeric columns so we can do some things in order to convert this columns to numeric type. Third column have only one value and this column we will drop in our analyses. Let's make sure, that now  these columns have the type `object`.**"
   ]
  },
  {
   "cell_type": "markdown",
   "id": "141d6524-2dc8-4e0a-a057-b9de2945be7a",
   "metadata": {},
   "source": [
    "### Convert columns into numeric type"
   ]
  },
  {
   "cell_type": "markdown",
   "id": "9a7ece42-ebc0-46cc-9834-9ecfc8ba4a56",
   "metadata": {},
   "source": [
    "First we convert `price` column:"
   ]
  },
  {
   "cell_type": "code",
   "execution_count": 10,
   "id": "7adb9c89-7280-442f-8e38-c618e3a92b9c",
   "metadata": {},
   "outputs": [
    {
     "name": "stdout",
     "output_type": "stream",
     "text": [
      "['5000' '8500' '8990' ... '385' '22200' '16995']\n",
      "int32\n"
     ]
    }
   ],
   "source": [
    "autos[\"price\"] = autos[\"price\"].str.replace(\"$\", \"\").str.replace(\",\",\"\")\n",
    "print(autos[\"price\"].unique())\n",
    "autos[\"price\"] = autos[\"price\"].astype(int)\n",
    "print(autos[\"price\"].dtype)"
   ]
  },
  {
   "cell_type": "markdown",
   "id": "618921db-0bd0-466a-a8e4-f5a488e74a1d",
   "metadata": {},
   "source": [
    "Second we convert `odometer` column and rename the column to `odometer_km`:"
   ]
  },
  {
   "cell_type": "code",
   "execution_count": 11,
   "id": "b8e7f83a-9763-4315-9afa-eeb4fded4d44",
   "metadata": {},
   "outputs": [
    {
     "name": "stdout",
     "output_type": "stream",
     "text": [
      "[150000  70000  50000  80000  10000  30000 125000  90000  20000  60000\n",
      "   5000 100000  40000]\n",
      "int32\n"
     ]
    }
   ],
   "source": [
    "autos[\"odometer\"] = autos[\"odometer\"].str.replace(\"km\",\"\").str.replace(\",\", \"\")\n",
    "autos[\"odometer\"] = autos[\"odometer\"].astype(int)\n",
    "autos.rename({\"odometer\" : \"odometer_km\"}, axis = 1, inplace = True)\n",
    "print(autos[\"odometer_km\"].unique())\n",
    "print(autos[\"odometer_km\"].dtype)"
   ]
  },
  {
   "cell_type": "markdown",
   "id": "52b64a1d-a1d8-40b1-aa4c-322556f2f76b",
   "metadata": {},
   "source": [
    "And let's see the whole dataset after our changes:"
   ]
  },
  {
   "cell_type": "code",
   "execution_count": 12,
   "id": "7589de2d-bb29-4d72-b26e-33282aa234d0",
   "metadata": {},
   "outputs": [
    {
     "name": "stdout",
     "output_type": "stream",
     "text": [
      "0    5000\n",
      "1    8500\n",
      "2    8990\n",
      "3    4350\n",
      "4    1350\n",
      "Name: price, dtype: int32\n",
      "0    150000\n",
      "1    150000\n",
      "2     70000\n",
      "3     70000\n",
      "4    150000\n",
      "Name: odometer_km, dtype: int32\n"
     ]
    },
    {
     "data": {
      "text/html": [
       "<div>\n",
       "<style scoped>\n",
       "    .dataframe tbody tr th:only-of-type {\n",
       "        vertical-align: middle;\n",
       "    }\n",
       "\n",
       "    .dataframe tbody tr th {\n",
       "        vertical-align: top;\n",
       "    }\n",
       "\n",
       "    .dataframe thead th {\n",
       "        text-align: right;\n",
       "    }\n",
       "</style>\n",
       "<table border=\"1\" class=\"dataframe\">\n",
       "  <thead>\n",
       "    <tr style=\"text-align: right;\">\n",
       "      <th></th>\n",
       "      <th>date_crawled</th>\n",
       "      <th>name</th>\n",
       "      <th>seller</th>\n",
       "      <th>offer_type</th>\n",
       "      <th>price</th>\n",
       "      <th>abtest</th>\n",
       "      <th>type_vehicle</th>\n",
       "      <th>registration_year</th>\n",
       "      <th>gearbox</th>\n",
       "      <th>power_ps</th>\n",
       "      <th>model</th>\n",
       "      <th>odometer_km</th>\n",
       "      <th>registration_month</th>\n",
       "      <th>fuel_type</th>\n",
       "      <th>brand</th>\n",
       "      <th>unrepaired_damage</th>\n",
       "      <th>ad_created</th>\n",
       "      <th>nr_of_pictures</th>\n",
       "      <th>postal_code</th>\n",
       "      <th>last_seen</th>\n",
       "    </tr>\n",
       "  </thead>\n",
       "  <tbody>\n",
       "    <tr>\n",
       "      <th>count</th>\n",
       "      <td>50000</td>\n",
       "      <td>50000</td>\n",
       "      <td>50000</td>\n",
       "      <td>50000</td>\n",
       "      <td>5.000000e+04</td>\n",
       "      <td>50000</td>\n",
       "      <td>44905</td>\n",
       "      <td>50000.000000</td>\n",
       "      <td>47320</td>\n",
       "      <td>50000.000000</td>\n",
       "      <td>47242</td>\n",
       "      <td>50000.000000</td>\n",
       "      <td>50000.000000</td>\n",
       "      <td>45518</td>\n",
       "      <td>50000</td>\n",
       "      <td>40171</td>\n",
       "      <td>50000</td>\n",
       "      <td>50000.0</td>\n",
       "      <td>50000.000000</td>\n",
       "      <td>50000</td>\n",
       "    </tr>\n",
       "    <tr>\n",
       "      <th>unique</th>\n",
       "      <td>48213</td>\n",
       "      <td>38754</td>\n",
       "      <td>2</td>\n",
       "      <td>2</td>\n",
       "      <td>NaN</td>\n",
       "      <td>2</td>\n",
       "      <td>8</td>\n",
       "      <td>NaN</td>\n",
       "      <td>2</td>\n",
       "      <td>NaN</td>\n",
       "      <td>245</td>\n",
       "      <td>NaN</td>\n",
       "      <td>NaN</td>\n",
       "      <td>7</td>\n",
       "      <td>40</td>\n",
       "      <td>2</td>\n",
       "      <td>76</td>\n",
       "      <td>NaN</td>\n",
       "      <td>NaN</td>\n",
       "      <td>39481</td>\n",
       "    </tr>\n",
       "    <tr>\n",
       "      <th>top</th>\n",
       "      <td>2016-04-02 11:37:04</td>\n",
       "      <td>Ford_Fiesta</td>\n",
       "      <td>privat</td>\n",
       "      <td>Angebot</td>\n",
       "      <td>NaN</td>\n",
       "      <td>test</td>\n",
       "      <td>limousine</td>\n",
       "      <td>NaN</td>\n",
       "      <td>manuell</td>\n",
       "      <td>NaN</td>\n",
       "      <td>golf</td>\n",
       "      <td>NaN</td>\n",
       "      <td>NaN</td>\n",
       "      <td>benzin</td>\n",
       "      <td>volkswagen</td>\n",
       "      <td>nein</td>\n",
       "      <td>2016-04-03 00:00:00</td>\n",
       "      <td>NaN</td>\n",
       "      <td>NaN</td>\n",
       "      <td>2016-04-07 06:17:27</td>\n",
       "    </tr>\n",
       "    <tr>\n",
       "      <th>freq</th>\n",
       "      <td>3</td>\n",
       "      <td>78</td>\n",
       "      <td>49999</td>\n",
       "      <td>49999</td>\n",
       "      <td>NaN</td>\n",
       "      <td>25756</td>\n",
       "      <td>12859</td>\n",
       "      <td>NaN</td>\n",
       "      <td>36993</td>\n",
       "      <td>NaN</td>\n",
       "      <td>4024</td>\n",
       "      <td>NaN</td>\n",
       "      <td>NaN</td>\n",
       "      <td>30107</td>\n",
       "      <td>10687</td>\n",
       "      <td>35232</td>\n",
       "      <td>1946</td>\n",
       "      <td>NaN</td>\n",
       "      <td>NaN</td>\n",
       "      <td>8</td>\n",
       "    </tr>\n",
       "    <tr>\n",
       "      <th>mean</th>\n",
       "      <td>NaN</td>\n",
       "      <td>NaN</td>\n",
       "      <td>NaN</td>\n",
       "      <td>NaN</td>\n",
       "      <td>9.840044e+03</td>\n",
       "      <td>NaN</td>\n",
       "      <td>NaN</td>\n",
       "      <td>2005.073280</td>\n",
       "      <td>NaN</td>\n",
       "      <td>116.355920</td>\n",
       "      <td>NaN</td>\n",
       "      <td>125732.700000</td>\n",
       "      <td>5.723360</td>\n",
       "      <td>NaN</td>\n",
       "      <td>NaN</td>\n",
       "      <td>NaN</td>\n",
       "      <td>NaN</td>\n",
       "      <td>0.0</td>\n",
       "      <td>50813.627300</td>\n",
       "      <td>NaN</td>\n",
       "    </tr>\n",
       "    <tr>\n",
       "      <th>std</th>\n",
       "      <td>NaN</td>\n",
       "      <td>NaN</td>\n",
       "      <td>NaN</td>\n",
       "      <td>NaN</td>\n",
       "      <td>4.811044e+05</td>\n",
       "      <td>NaN</td>\n",
       "      <td>NaN</td>\n",
       "      <td>105.712813</td>\n",
       "      <td>NaN</td>\n",
       "      <td>209.216627</td>\n",
       "      <td>NaN</td>\n",
       "      <td>40042.211706</td>\n",
       "      <td>3.711984</td>\n",
       "      <td>NaN</td>\n",
       "      <td>NaN</td>\n",
       "      <td>NaN</td>\n",
       "      <td>NaN</td>\n",
       "      <td>0.0</td>\n",
       "      <td>25779.747957</td>\n",
       "      <td>NaN</td>\n",
       "    </tr>\n",
       "    <tr>\n",
       "      <th>min</th>\n",
       "      <td>NaN</td>\n",
       "      <td>NaN</td>\n",
       "      <td>NaN</td>\n",
       "      <td>NaN</td>\n",
       "      <td>0.000000e+00</td>\n",
       "      <td>NaN</td>\n",
       "      <td>NaN</td>\n",
       "      <td>1000.000000</td>\n",
       "      <td>NaN</td>\n",
       "      <td>0.000000</td>\n",
       "      <td>NaN</td>\n",
       "      <td>5000.000000</td>\n",
       "      <td>0.000000</td>\n",
       "      <td>NaN</td>\n",
       "      <td>NaN</td>\n",
       "      <td>NaN</td>\n",
       "      <td>NaN</td>\n",
       "      <td>0.0</td>\n",
       "      <td>1067.000000</td>\n",
       "      <td>NaN</td>\n",
       "    </tr>\n",
       "    <tr>\n",
       "      <th>25%</th>\n",
       "      <td>NaN</td>\n",
       "      <td>NaN</td>\n",
       "      <td>NaN</td>\n",
       "      <td>NaN</td>\n",
       "      <td>1.100000e+03</td>\n",
       "      <td>NaN</td>\n",
       "      <td>NaN</td>\n",
       "      <td>1999.000000</td>\n",
       "      <td>NaN</td>\n",
       "      <td>70.000000</td>\n",
       "      <td>NaN</td>\n",
       "      <td>125000.000000</td>\n",
       "      <td>3.000000</td>\n",
       "      <td>NaN</td>\n",
       "      <td>NaN</td>\n",
       "      <td>NaN</td>\n",
       "      <td>NaN</td>\n",
       "      <td>0.0</td>\n",
       "      <td>30451.000000</td>\n",
       "      <td>NaN</td>\n",
       "    </tr>\n",
       "    <tr>\n",
       "      <th>50%</th>\n",
       "      <td>NaN</td>\n",
       "      <td>NaN</td>\n",
       "      <td>NaN</td>\n",
       "      <td>NaN</td>\n",
       "      <td>2.950000e+03</td>\n",
       "      <td>NaN</td>\n",
       "      <td>NaN</td>\n",
       "      <td>2003.000000</td>\n",
       "      <td>NaN</td>\n",
       "      <td>105.000000</td>\n",
       "      <td>NaN</td>\n",
       "      <td>150000.000000</td>\n",
       "      <td>6.000000</td>\n",
       "      <td>NaN</td>\n",
       "      <td>NaN</td>\n",
       "      <td>NaN</td>\n",
       "      <td>NaN</td>\n",
       "      <td>0.0</td>\n",
       "      <td>49577.000000</td>\n",
       "      <td>NaN</td>\n",
       "    </tr>\n",
       "    <tr>\n",
       "      <th>75%</th>\n",
       "      <td>NaN</td>\n",
       "      <td>NaN</td>\n",
       "      <td>NaN</td>\n",
       "      <td>NaN</td>\n",
       "      <td>7.200000e+03</td>\n",
       "      <td>NaN</td>\n",
       "      <td>NaN</td>\n",
       "      <td>2008.000000</td>\n",
       "      <td>NaN</td>\n",
       "      <td>150.000000</td>\n",
       "      <td>NaN</td>\n",
       "      <td>150000.000000</td>\n",
       "      <td>9.000000</td>\n",
       "      <td>NaN</td>\n",
       "      <td>NaN</td>\n",
       "      <td>NaN</td>\n",
       "      <td>NaN</td>\n",
       "      <td>0.0</td>\n",
       "      <td>71540.000000</td>\n",
       "      <td>NaN</td>\n",
       "    </tr>\n",
       "    <tr>\n",
       "      <th>max</th>\n",
       "      <td>NaN</td>\n",
       "      <td>NaN</td>\n",
       "      <td>NaN</td>\n",
       "      <td>NaN</td>\n",
       "      <td>1.000000e+08</td>\n",
       "      <td>NaN</td>\n",
       "      <td>NaN</td>\n",
       "      <td>9999.000000</td>\n",
       "      <td>NaN</td>\n",
       "      <td>17700.000000</td>\n",
       "      <td>NaN</td>\n",
       "      <td>150000.000000</td>\n",
       "      <td>12.000000</td>\n",
       "      <td>NaN</td>\n",
       "      <td>NaN</td>\n",
       "      <td>NaN</td>\n",
       "      <td>NaN</td>\n",
       "      <td>0.0</td>\n",
       "      <td>99998.000000</td>\n",
       "      <td>NaN</td>\n",
       "    </tr>\n",
       "  </tbody>\n",
       "</table>\n",
       "</div>"
      ],
      "text/plain": [
       "               date_crawled         name  seller offer_type         price  \\\n",
       "count                 50000        50000   50000      50000  5.000000e+04   \n",
       "unique                48213        38754       2          2           NaN   \n",
       "top     2016-04-02 11:37:04  Ford_Fiesta  privat    Angebot           NaN   \n",
       "freq                      3           78   49999      49999           NaN   \n",
       "mean                    NaN          NaN     NaN        NaN  9.840044e+03   \n",
       "std                     NaN          NaN     NaN        NaN  4.811044e+05   \n",
       "min                     NaN          NaN     NaN        NaN  0.000000e+00   \n",
       "25%                     NaN          NaN     NaN        NaN  1.100000e+03   \n",
       "50%                     NaN          NaN     NaN        NaN  2.950000e+03   \n",
       "75%                     NaN          NaN     NaN        NaN  7.200000e+03   \n",
       "max                     NaN          NaN     NaN        NaN  1.000000e+08   \n",
       "\n",
       "       abtest type_vehicle  registration_year  gearbox      power_ps  model  \\\n",
       "count   50000        44905       50000.000000    47320  50000.000000  47242   \n",
       "unique      2            8                NaN        2           NaN    245   \n",
       "top      test    limousine                NaN  manuell           NaN   golf   \n",
       "freq    25756        12859                NaN    36993           NaN   4024   \n",
       "mean      NaN          NaN        2005.073280      NaN    116.355920    NaN   \n",
       "std       NaN          NaN         105.712813      NaN    209.216627    NaN   \n",
       "min       NaN          NaN        1000.000000      NaN      0.000000    NaN   \n",
       "25%       NaN          NaN        1999.000000      NaN     70.000000    NaN   \n",
       "50%       NaN          NaN        2003.000000      NaN    105.000000    NaN   \n",
       "75%       NaN          NaN        2008.000000      NaN    150.000000    NaN   \n",
       "max       NaN          NaN        9999.000000      NaN  17700.000000    NaN   \n",
       "\n",
       "          odometer_km  registration_month fuel_type       brand  \\\n",
       "count    50000.000000        50000.000000     45518       50000   \n",
       "unique            NaN                 NaN         7          40   \n",
       "top               NaN                 NaN    benzin  volkswagen   \n",
       "freq              NaN                 NaN     30107       10687   \n",
       "mean    125732.700000            5.723360       NaN         NaN   \n",
       "std      40042.211706            3.711984       NaN         NaN   \n",
       "min       5000.000000            0.000000       NaN         NaN   \n",
       "25%     125000.000000            3.000000       NaN         NaN   \n",
       "50%     150000.000000            6.000000       NaN         NaN   \n",
       "75%     150000.000000            9.000000       NaN         NaN   \n",
       "max     150000.000000           12.000000       NaN         NaN   \n",
       "\n",
       "       unrepaired_damage           ad_created  nr_of_pictures   postal_code  \\\n",
       "count              40171                50000         50000.0  50000.000000   \n",
       "unique                 2                   76             NaN           NaN   \n",
       "top                 nein  2016-04-03 00:00:00             NaN           NaN   \n",
       "freq               35232                 1946             NaN           NaN   \n",
       "mean                 NaN                  NaN             0.0  50813.627300   \n",
       "std                  NaN                  NaN             0.0  25779.747957   \n",
       "min                  NaN                  NaN             0.0   1067.000000   \n",
       "25%                  NaN                  NaN             0.0  30451.000000   \n",
       "50%                  NaN                  NaN             0.0  49577.000000   \n",
       "75%                  NaN                  NaN             0.0  71540.000000   \n",
       "max                  NaN                  NaN             0.0  99998.000000   \n",
       "\n",
       "                  last_seen  \n",
       "count                 50000  \n",
       "unique                39481  \n",
       "top     2016-04-07 06:17:27  \n",
       "freq                      8  \n",
       "mean                    NaN  \n",
       "std                     NaN  \n",
       "min                     NaN  \n",
       "25%                     NaN  \n",
       "50%                     NaN  \n",
       "75%                     NaN  \n",
       "max                     NaN  "
      ]
     },
     "execution_count": 12,
     "metadata": {},
     "output_type": "execute_result"
    }
   ],
   "source": [
    "print(autos[\"price\"].head())\n",
    "print(autos[\"odometer_km\"].head())\n",
    "autos.describe(include = \"all\")"
   ]
  },
  {
   "cell_type": "markdown",
   "id": "8d09dbe3-61b0-4559-bc33-e096e15ae7a0",
   "metadata": {},
   "source": [
    "## Exploring the Odometer and Price Columns"
   ]
  },
  {
   "cell_type": "markdown",
   "id": "0c6cc721-d123-40fb-bb17-89d66750a15f",
   "metadata": {},
   "source": [
    "Let's explore more complex the data in `odometer` column:"
   ]
  },
  {
   "cell_type": "code",
   "execution_count": 13,
   "id": "ee306499-efa9-44e2-a23a-7b01d65439e6",
   "metadata": {},
   "outputs": [
    {
     "data": {
      "text/plain": [
       "count     50000.000000\n",
       "mean     125732.700000\n",
       "std       40042.211706\n",
       "min        5000.000000\n",
       "25%      125000.000000\n",
       "50%      150000.000000\n",
       "75%      150000.000000\n",
       "max      150000.000000\n",
       "Name: odometer_km, dtype: float64"
      ]
     },
     "execution_count": 13,
     "metadata": {},
     "output_type": "execute_result"
    }
   ],
   "source": [
    "autos[\"odometer_km\"].describe()"
   ]
  },
  {
   "cell_type": "markdown",
   "id": "fadc7479-703e-4fac-899c-47c34fae7aa7",
   "metadata": {},
   "source": [
    "As we can see, the column has a good values, because there is not any negative or null values. The min is 5000, which is possible for the situation, when the car are resaled. The max value is 150000 which is possible for old cars."
   ]
  },
  {
   "cell_type": "code",
   "execution_count": 14,
   "id": "ffc9ccb7-4575-4088-88f8-4fd6ac156453",
   "metadata": {},
   "outputs": [
    {
     "data": {
      "text/plain": [
       "odometer_km\n",
       "150000    32424\n",
       "125000     5170\n",
       "100000     2169\n",
       "90000      1757\n",
       "80000      1436\n",
       "70000      1230\n",
       "60000      1164\n",
       "50000      1027\n",
       "5000        967\n",
       "40000       819\n",
       "30000       789\n",
       "20000       784\n",
       "10000       264\n",
       "Name: count, dtype: int64"
      ]
     },
     "execution_count": 14,
     "metadata": {},
     "output_type": "execute_result"
    }
   ],
   "source": [
    "autos[\"odometer_km\"].value_counts()"
   ]
  },
  {
   "cell_type": "markdown",
   "id": "986e5988-fbae-418f-9276-cfd195193e93",
   "metadata": {},
   "source": [
    "The most frequint value is 150000, that mean that most of the cars sailed on eBay are old. The least frequint value is 10000, and on other low position are new cars. So we may make a decision, that eBay in common offers the old cars."
   ]
  },
  {
   "cell_type": "markdown",
   "id": "5423c822-070a-48f9-a070-8c13c055c417",
   "metadata": {},
   "source": [
    "So let's explore data in next column - `price`:"
   ]
  },
  {
   "cell_type": "code",
   "execution_count": 15,
   "id": "46ca6b82-7852-4d92-b447-d00c4e0733ba",
   "metadata": {},
   "outputs": [
    {
     "data": {
      "text/plain": [
       "count    5.000000e+04\n",
       "mean     9.840044e+03\n",
       "std      4.811044e+05\n",
       "min      0.000000e+00\n",
       "25%      1.100000e+03\n",
       "50%      2.950000e+03\n",
       "75%      7.200000e+03\n",
       "max      1.000000e+08\n",
       "Name: price, dtype: float64"
      ]
     },
     "execution_count": 15,
     "metadata": {},
     "output_type": "execute_result"
    }
   ],
   "source": [
    "autos[\"price\"].describe()"
   ]
  },
  {
   "cell_type": "markdown",
   "id": "f10e355b-16f4-4c46-9d9e-74679361620b",
   "metadata": {},
   "source": [
    "We can see that the min value in price column are 0, which is impossible in our time. So we need to remove this values from dataset."
   ]
  },
  {
   "cell_type": "markdown",
   "id": "773e8239-b06c-41aa-88c1-046490019b87",
   "metadata": {},
   "source": [
    "And let's explore more with `unique()` method:"
   ]
  },
  {
   "cell_type": "code",
   "execution_count": 16,
   "id": "b3d48a51-b656-497e-9af5-f6ce83ad92e9",
   "metadata": {},
   "outputs": [
    {
     "data": {
      "text/plain": [
       "price\n",
       "0           1421\n",
       "1            156\n",
       "2              3\n",
       "3              1\n",
       "5              2\n",
       "            ... \n",
       "10000000       1\n",
       "11111111       2\n",
       "12345678       3\n",
       "27322222       1\n",
       "99999999       1\n",
       "Name: count, Length: 2357, dtype: int64"
      ]
     },
     "execution_count": 16,
     "metadata": {},
     "output_type": "execute_result"
    }
   ],
   "source": [
    "autos[\"price\"].value_counts().sort_index(ascending = True)"
   ]
  },
  {
   "cell_type": "markdown",
   "id": "816d5da3-676d-4493-9836-0f4b608a96e1",
   "metadata": {},
   "source": [
    "**We can see that the min value in price column are 0, which is impossible in our time as the price lower than 100 dollars. Also we can see that the highest prices are impossible so we can filtered our dataset. Let's determine some bound values:**\n",
    "\n",
    "**`lower bound` - 100 dollars**\n",
    "\n",
    "**`upper bound` - 1,000,000 dollars**"
   ]
  },
  {
   "cell_type": "code",
   "execution_count": 17,
   "id": "0cc0f461-c76f-47e5-8960-32b6c979b276",
   "metadata": {},
   "outputs": [],
   "source": [
    "autos = autos[(autos[\"price\"] >= 100) & (autos[\"price\"] <= 1000000)]"
   ]
  },
  {
   "cell_type": "markdown",
   "id": "6316991d-a3d4-404a-9c74-4cb9278c425b",
   "metadata": {},
   "source": [
    "Let's explore the data in column again:"
   ]
  },
  {
   "cell_type": "code",
   "execution_count": 18,
   "id": "30365a26-11c2-4a0e-8d29-c4c134a79994",
   "metadata": {},
   "outputs": [
    {
     "data": {
      "text/plain": [
       "count     48227.000000\n",
       "mean       5992.208099\n",
       "std       11994.952272\n",
       "min         100.000000\n",
       "25%        1250.000000\n",
       "50%        3000.000000\n",
       "75%        7499.000000\n",
       "max      999999.000000\n",
       "Name: price, dtype: float64"
      ]
     },
     "execution_count": 18,
     "metadata": {},
     "output_type": "execute_result"
    }
   ],
   "source": [
    "autos[\"price\"].describe()"
   ]
  },
  {
   "cell_type": "markdown",
   "id": "ecedf255-1a84-4be2-ae68-53125987e0f1",
   "metadata": {},
   "source": [
    "**I make this decision because I think that there is not any car that costs lower than 100 dollars, adn the cars which price is more than 1,000,000 dollars usually sailes in other services and platforms, but not on eBay.**"
   ]
  },
  {
   "cell_type": "markdown",
   "id": "e3511042-042c-434b-980f-c34ee5d83864",
   "metadata": {},
   "source": [
    "## Exploring the Date Columns"
   ]
  },
  {
   "cell_type": "markdown",
   "id": "60697583-ee4d-44e1-828e-9c9aa06884d2",
   "metadata": {},
   "source": [
    "Right now, the `date_crawled`, `last_seen`, and `ad_created` columns are all identified as string values by pandas. Because these three columns are represented as strings, we need to convert the data into a numerical representation so we can understand it quantitatively."
   ]
  },
  {
   "cell_type": "markdown",
   "id": "b01cfd36-c205-44cd-8bd7-f46a73125f74",
   "metadata": {},
   "source": [
    "Firstly, we  calculate the distribution of values in each column:"
   ]
  },
  {
   "cell_type": "markdown",
   "id": "2f9e2d5a-4bc5-4484-bdac-9623f1502b87",
   "metadata": {},
   "source": [
    "`date_crawled` column:"
   ]
  },
  {
   "cell_type": "code",
   "execution_count": 19,
   "id": "48c2c979-0b5e-4591-9a90-29766aeaf382",
   "metadata": {},
   "outputs": [
    {
     "name": "stdout",
     "output_type": "stream",
     "text": [
      "date_crawled\n",
      "2016-03-05    0.025359\n",
      "2016-03-06    0.014038\n",
      "2016-03-07    0.036059\n",
      "2016-03-08    0.033176\n",
      "2016-03-09    0.033011\n",
      "2016-03-10    0.032285\n",
      "2016-03-11    0.032596\n",
      "2016-03-12    0.036909\n",
      "2016-03-13    0.015676\n",
      "2016-03-14    0.036660\n",
      "2016-03-15    0.034317\n",
      "2016-03-16    0.029465\n",
      "2016-03-17    0.031518\n",
      "2016-03-18    0.012897\n",
      "2016-03-19    0.034732\n",
      "2016-03-20    0.037800\n",
      "2016-03-21    0.037220\n",
      "2016-03-22    0.032886\n",
      "2016-03-23    0.032285\n",
      "2016-03-24    0.029444\n",
      "2016-03-25    0.031497\n",
      "2016-03-26    0.032306\n",
      "2016-03-27    0.031124\n",
      "2016-03-28    0.034960\n",
      "2016-03-29    0.034130\n",
      "2016-03-30    0.033736\n",
      "2016-03-31    0.031849\n",
      "2016-04-01    0.033695\n",
      "2016-04-02    0.035602\n",
      "2016-04-03    0.038609\n",
      "2016-04-04    0.036536\n",
      "2016-04-05    0.013063\n",
      "2016-04-06    0.003172\n",
      "2016-04-07    0.001389\n",
      "Name: proportion, dtype: float64\n"
     ]
    }
   ],
   "source": [
    "only_date = autos[\"date_crawled\"].str[:10]\n",
    "result = only_date.value_counts(normalize = True, dropna = False).sort_index()\n",
    "print(result)"
   ]
  },
  {
   "cell_type": "markdown",
   "id": "bcef1249-0bdb-4690-9bd3-c572a3217617",
   "metadata": {},
   "source": [
    "We can see that our date range is almost a month, with the first date being March 5 and the last date being April 7. The frequency of each date is approximetely equal."
   ]
  },
  {
   "cell_type": "markdown",
   "id": "1ac69086-7f15-48c9-b175-b74aa90d4edb",
   "metadata": {},
   "source": [
    "`ad_created` column:"
   ]
  },
  {
   "cell_type": "code",
   "execution_count": 20,
   "id": "ad61497c-27cb-4b77-b30c-9111d1f8ee64",
   "metadata": {},
   "outputs": [
    {
     "name": "stdout",
     "output_type": "stream",
     "text": [
      "ad_created\n",
      "2015-06-11    0.000021\n",
      "2015-08-10    0.000021\n",
      "2015-09-09    0.000021\n",
      "2015-11-10    0.000021\n",
      "2015-12-05    0.000021\n",
      "                ...   \n",
      "2016-04-03    0.038858\n",
      "2016-04-04    0.036888\n",
      "2016-04-05    0.011798\n",
      "2016-04-06    0.003255\n",
      "2016-04-07    0.001244\n",
      "Name: proportion, Length: 76, dtype: float64\n"
     ]
    }
   ],
   "source": [
    "only_date = autos[\"ad_created\"].str[:10]\n",
    "result = only_date.value_counts(normalize = True, dropna = False).sort_index()\n",
    "print(result)"
   ]
  },
  {
   "cell_type": "markdown",
   "id": "4e4eb469-bfd6-42ec-b9d2-78ad4cfca92c",
   "metadata": {},
   "source": [
    "We can see that our date range in this column more advanced compared to previous column and is 10 month, with the first date being June 11 and the last \n",
    "date being April 7. The frequency of each date is not equal, and has more different values compared to in previous column. The first dates have less frequancy then last dates."
   ]
  },
  {
   "cell_type": "markdown",
   "id": "ee3f39bd-7fc9-4214-8daa-e82001fe2dd0",
   "metadata": {},
   "source": [
    "`last_seen` column:"
   ]
  },
  {
   "cell_type": "code",
   "execution_count": 21,
   "id": "af78d4e2-9601-4f94-9c3f-605e972bc679",
   "metadata": {},
   "outputs": [
    {
     "name": "stdout",
     "output_type": "stream",
     "text": [
      "last_seen\n",
      "2016-03-05    0.001078\n",
      "2016-03-06    0.004313\n",
      "2016-03-07    0.005433\n",
      "2016-03-08    0.007320\n",
      "2016-03-09    0.009580\n",
      "2016-03-10    0.010637\n",
      "2016-03-11    0.012400\n",
      "2016-03-12    0.023783\n",
      "2016-03-13    0.008875\n",
      "2016-03-14    0.012628\n",
      "2016-03-15    0.015862\n",
      "2016-03-16    0.016443\n",
      "2016-03-17    0.028096\n",
      "2016-03-18    0.007320\n",
      "2016-03-19    0.015759\n",
      "2016-03-20    0.020652\n",
      "2016-03-21    0.020549\n",
      "2016-03-22    0.021357\n",
      "2016-03-23    0.018579\n",
      "2016-03-24    0.019761\n",
      "2016-03-25    0.019097\n",
      "2016-03-26    0.016671\n",
      "2016-03-27    0.015551\n",
      "2016-03-28    0.020860\n",
      "2016-03-29    0.022311\n",
      "2016-03-30    0.024696\n",
      "2016-03-31    0.023825\n",
      "2016-04-01    0.022850\n",
      "2016-04-02    0.024882\n",
      "2016-04-03    0.025131\n",
      "2016-04-04    0.024530\n",
      "2016-04-05    0.125054\n",
      "2016-04-06    0.221971\n",
      "2016-04-07    0.132146\n",
      "Name: proportion, dtype: float64\n"
     ]
    }
   ],
   "source": [
    "only_date = autos[\"last_seen\"].str[:10]\n",
    "result = only_date.value_counts(normalize = True, dropna = False).sort_index()\n",
    "print(result)"
   ]
  },
  {
   "cell_type": "markdown",
   "id": "bf02bfd5-0dbb-4369-afb0-54c897544738",
   "metadata": {},
   "source": [
    "We can see that our date range in this column are not big and almost equal to range of `date_crawled` column and this is expected because the last seen can't have a big range in time and this range is only 1 month , with the first date being March 5 and the last \n",
    "date being April 7. As expected, the last dates have big frequency, because every day the most of posts review a lot of persons. The first dates have a small frequancy during the fact, that not many posts are not viewed for weeks."
   ]
  },
  {
   "cell_type": "markdown",
   "id": "ca83c933-80bd-4676-a6f0-0c715fe9fbd2",
   "metadata": {},
   "source": [
    "Let's understand the column `registration_year`:"
   ]
  },
  {
   "cell_type": "code",
   "execution_count": 22,
   "id": "76e2845d-faa3-4729-866d-2b56f6b583b6",
   "metadata": {},
   "outputs": [
    {
     "name": "stdout",
     "output_type": "stream",
     "text": [
      "count    48227.000000\n",
      "mean      2004.730151\n",
      "std         87.894768\n",
      "min       1000.000000\n",
      "25%       1999.000000\n",
      "50%       2004.000000\n",
      "75%       2008.000000\n",
      "max       9999.000000\n",
      "Name: registration_year, dtype: float64\n",
      "\n",
      "\n"
     ]
    },
    {
     "data": {
      "text/plain": [
       "registration_year\n",
       "2000    3104\n",
       "2005    2911\n",
       "1999    2879\n",
       "2004    2699\n",
       "2003    2693\n",
       "        ... \n",
       "1948       1\n",
       "6200       1\n",
       "4100       1\n",
       "4500       1\n",
       "9000       1\n",
       "Name: count, Length: 95, dtype: int64"
      ]
     },
     "execution_count": 22,
     "metadata": {},
     "output_type": "execute_result"
    }
   ],
   "source": [
    "print(autos[\"registration_year\"].describe())\n",
    "print(\"\\n\")\n",
    "autos[\"registration_year\"].value_counts()"
   ]
  },
  {
   "cell_type": "markdown",
   "id": "b3de8602-1f93-4119-aee7-c433a4f3223e",
   "metadata": {},
   "source": [
    "We can see strange values, because the minimum value of year is 1000, which is impossible because there is not any cars in this year.  The maximum value is 9000 which is impossible. And after using `value_counts` method we can observe that there are more incorrect data in this column. So we need fix this problems in the next step."
   ]
  },
  {
   "cell_type": "markdown",
   "id": "fcce5953-faf4-487d-af1d-d30c3a12621d",
   "metadata": {},
   "source": [
    "## Dealing with Incorrect Registration Year Data"
   ]
  },
  {
   "cell_type": "markdown",
   "id": "48d36928-70c6-4ce2-8fd2-1a2c5c326837",
   "metadata": {},
   "source": [
    "So we can determine the highest and lowest values for correct registration year:\n",
    "\n",
    "- Highest value is 2016, because this is the last year which appears in dataset\n",
    "\n",
    "- Lowest value is 1920, because I think that in lower years cars are not registered."
   ]
  },
  {
   "cell_type": "markdown",
   "id": "60ede332-93dd-4907-95f9-359e7cebc698",
   "metadata": {},
   "source": [
    "We need to remove the values and rows from our dataset, where the values of registration year are outside the range.\n",
    "\n",
    "So let's do that:"
   ]
  },
  {
   "cell_type": "code",
   "execution_count": 23,
   "id": "277575c4-eba4-4e78-abfe-4092c2cb67e5",
   "metadata": {},
   "outputs": [],
   "source": [
    "lowest_value = 1920\n",
    "highest_value = 2016\n",
    "\n",
    "\n",
    "autos = autos.loc[(autos[\"registration_year\"] >= lowest_value) & (autos[\"registration_year\"] <= highest_value)]"
   ]
  },
  {
   "cell_type": "markdown",
   "id": "63c05c45-90cb-452a-9c9b-abc8d588d6d1",
   "metadata": {},
   "source": [
    "And now we can check the `registration_year` column to determine  the changes:"
   ]
  },
  {
   "cell_type": "code",
   "execution_count": 24,
   "id": "3d85a7ad-eb14-4cf1-86c4-f055bbc37d79",
   "metadata": {},
   "outputs": [
    {
     "name": "stdout",
     "output_type": "stream",
     "text": [
      "count    46353.000000\n",
      "mean      2002.943067\n",
      "std          7.102149\n",
      "min       1927.000000\n",
      "25%       1999.000000\n",
      "50%       2003.000000\n",
      "75%       2008.000000\n",
      "max       2016.000000\n",
      "Name: registration_year, dtype: float64\n",
      "\n",
      "\n"
     ]
    },
    {
     "data": {
      "text/plain": [
       "registration_year\n",
       "2016    1202\n",
       "2015     380\n",
       "2014     662\n",
       "2013     801\n",
       "2012    1308\n",
       "        ... \n",
       "1937       4\n",
       "1934       2\n",
       "1931       1\n",
       "1929       1\n",
       "1927       1\n",
       "Name: count, Length: 77, dtype: int64"
      ]
     },
     "execution_count": 24,
     "metadata": {},
     "output_type": "execute_result"
    }
   ],
   "source": [
    "print(autos[\"registration_year\"].describe())\n",
    "print(\"\\n\")\n",
    "autos[\"registration_year\"].value_counts().sort_index(ascending = False)"
   ]
  },
  {
   "cell_type": "markdown",
   "id": "6325599a-c2ac-46b5-8242-1e7266e45e34",
   "metadata": {},
   "source": [
    "Now we can see that all values are in real range and this years can be the year registration of cars. Good work!"
   ]
  },
  {
   "cell_type": "markdown",
   "id": "caf83e4e-fa49-4c70-8a8b-6408540ad912",
   "metadata": {},
   "source": [
    "## Exploring Price by Brand"
   ]
  },
  {
   "cell_type": "markdown",
   "id": "eaef3895-1e66-4078-be94-9616d1bac1fe",
   "metadata": {},
   "source": [
    "Let's determine some brands, for which we will be calculate the average price.\n",
    "\n",
    "FIrstly, we need to see all unique brands in `brand` column:"
   ]
  },
  {
   "cell_type": "code",
   "execution_count": 25,
   "id": "495e014f-954f-4465-88dd-4dd8570ee87f",
   "metadata": {},
   "outputs": [
    {
     "data": {
      "text/plain": [
       "array(['peugeot', 'bmw', 'volkswagen', 'smart', 'ford', 'chrysler',\n",
       "       'seat', 'renault', 'mercedes_benz', 'audi', 'sonstige_autos',\n",
       "       'opel', 'mazda', 'porsche', 'mini', 'toyota', 'dacia', 'nissan',\n",
       "       'jeep', 'saab', 'volvo', 'mitsubishi', 'jaguar', 'fiat', 'skoda',\n",
       "       'subaru', 'kia', 'citroen', 'chevrolet', 'hyundai', 'honda',\n",
       "       'daewoo', 'suzuki', 'trabant', 'land_rover', 'alfa_romeo', 'lada',\n",
       "       'rover', 'daihatsu', 'lancia'], dtype=object)"
      ]
     },
     "execution_count": 25,
     "metadata": {},
     "output_type": "execute_result"
    }
   ],
   "source": [
    "autos[\"brand\"].unique()"
   ]
  },
  {
   "cell_type": "markdown",
   "id": "0f044d79-1e43-4240-9bd0-1cf25fea34d3",
   "metadata": {},
   "source": [
    "And we want to determine the average price for most popular brands so let's determine it:"
   ]
  },
  {
   "cell_type": "code",
   "execution_count": 26,
   "id": "119ffa72-07d5-4626-ae94-e15b22034f4f",
   "metadata": {},
   "outputs": [
    {
     "name": "stdout",
     "output_type": "stream",
     "text": [
      "Index(['volkswagen', 'bmw', 'opel', 'mercedes_benz', 'audi', 'ford', 'renault',\n",
      "       'peugeot', 'fiat', 'seat', 'skoda', 'nissan', 'mazda', 'smart',\n",
      "       'citroen', 'toyota', 'hyundai', 'sonstige_autos', 'volvo', 'mini'],\n",
      "      dtype='object', name='brand')\n"
     ]
    }
   ],
   "source": [
    "most_popular = autos[\"brand\"].value_counts().head(20).index\n",
    "print(most_popular)"
   ]
  },
  {
   "cell_type": "markdown",
   "id": "5a4b08bb-2502-403b-895e-7e552d462274",
   "metadata": {},
   "source": [
    "So now we may do the aggregation with this brands:"
   ]
  },
  {
   "cell_type": "code",
   "execution_count": 27,
   "id": "8374027e-6f58-4cef-badb-c10b2b1f3090",
   "metadata": {},
   "outputs": [
    {
     "name": "stdout",
     "output_type": "stream",
     "text": [
      "sonstige_autos    12784.556561\n",
      "mini              10639.450980\n",
      "audi               9380.718548\n",
      "mercedes_benz      8672.654241\n",
      "bmw                8381.677306\n",
      "skoda              6409.609724\n",
      "volkswagen         5639.900316\n",
      "hyundai            5411.075431\n",
      "toyota             5167.091062\n",
      "volvo              4993.208038\n",
      "nissan             4756.659634\n",
      "seat               4433.419622\n",
      "mazda              4129.774788\n",
      "ford               4086.934219\n",
      "citroen            3796.262673\n",
      "smart              3596.402736\n",
      "peugeot            3113.860549\n",
      "opel               3006.000201\n",
      "fiat               2836.873631\n",
      "renault            2496.940394\n",
      "dtype: float64\n"
     ]
    }
   ],
   "source": [
    "avr_price_for_brand = {}\n",
    "\n",
    "for brand in most_popular:\n",
    "    mean_value = autos.loc[autos[\"brand\"] == brand, \"price\"].mean()\n",
    "    avr_price_for_brand[brand] = mean_value\n",
    "\n",
    "result = pd.Series(avr_price_for_brand).sort_values(ascending = False)\n",
    "print(result)"
   ]
  },
  {
   "cell_type": "markdown",
   "id": "339ee771-e534-4f0f-937d-ee2b461b966f",
   "metadata": {},
   "source": [
    "**We can see, that the autos, which don't use the oil for his work have the biggest average price, but in future they will be save you a lot of money. The cheapest popular cars are Renault, so if we you want to buy a popular car, but you have not a lot of money, thinking about renault, fiat, opel, or peugeut. My favourite cars are Volkswagen and Mercedes and they have the prices between 5,600 - 9000 dollars.**"
   ]
  },
  {
   "cell_type": "markdown",
   "id": "d656bfcf-a398-4fe5-b13b-45112d50ae90",
   "metadata": {},
   "source": [
    "## Storing Aggregate Data in a DataFrame"
   ]
  },
  {
   "cell_type": "markdown",
   "id": "dd767db8-a152-4291-bc5e-4155e022e32b",
   "metadata": {},
   "source": [
    "Let's observe the top 6 brands by calculating mean mileage and mean price: \n",
    "- Ford and Opel which have low prices.\n",
    " \n",
    "- Mercedes, bmv and Audi, which have high prices.\n",
    "\n",
    "- Volkswagen, which is the solution between low and high."
   ]
  },
  {
   "cell_type": "code",
   "execution_count": 28,
   "id": "90399bf4-00f1-4b2e-83a6-e96ce7f0b9aa",
   "metadata": {},
   "outputs": [
    {
     "data": {
      "text/html": [
       "<div>\n",
       "<style scoped>\n",
       "    .dataframe tbody tr th:only-of-type {\n",
       "        vertical-align: middle;\n",
       "    }\n",
       "\n",
       "    .dataframe tbody tr th {\n",
       "        vertical-align: top;\n",
       "    }\n",
       "\n",
       "    .dataframe thead th {\n",
       "        text-align: right;\n",
       "    }\n",
       "</style>\n",
       "<table border=\"1\" class=\"dataframe\">\n",
       "  <thead>\n",
       "    <tr style=\"text-align: right;\">\n",
       "      <th></th>\n",
       "      <th>mean_price</th>\n",
       "      <th>mean_mileage</th>\n",
       "    </tr>\n",
       "  </thead>\n",
       "  <tbody>\n",
       "    <tr>\n",
       "      <th>audi</th>\n",
       "      <td>9380.718548</td>\n",
       "      <td>129245.400298</td>\n",
       "    </tr>\n",
       "    <tr>\n",
       "      <th>mercedes_benz</th>\n",
       "      <td>8672.654241</td>\n",
       "      <td>131025.669643</td>\n",
       "    </tr>\n",
       "    <tr>\n",
       "      <th>bmw</th>\n",
       "      <td>8381.677306</td>\n",
       "      <td>132695.320149</td>\n",
       "    </tr>\n",
       "    <tr>\n",
       "      <th>volkswagen</th>\n",
       "      <td>5639.900316</td>\n",
       "      <td>128804.203653</td>\n",
       "    </tr>\n",
       "    <tr>\n",
       "      <th>ford</th>\n",
       "      <td>4086.934219</td>\n",
       "      <td>124277.331686</td>\n",
       "    </tr>\n",
       "    <tr>\n",
       "      <th>opel</th>\n",
       "      <td>3006.000201</td>\n",
       "      <td>129380.281690</td>\n",
       "    </tr>\n",
       "  </tbody>\n",
       "</table>\n",
       "</div>"
      ],
      "text/plain": [
       "                mean_price   mean_mileage\n",
       "audi           9380.718548  129245.400298\n",
       "mercedes_benz  8672.654241  131025.669643\n",
       "bmw            8381.677306  132695.320149\n",
       "volkswagen     5639.900316  128804.203653\n",
       "ford           4086.934219  124277.331686\n",
       "opel           3006.000201  129380.281690"
      ]
     },
     "execution_count": 28,
     "metadata": {},
     "output_type": "execute_result"
    }
   ],
   "source": [
    "top_6_brands = pd.Series(['ford','opel','mercedes_benz','bmw','audi','volkswagen'])\n",
    "\n",
    "avr_price_for_top_6_brands = {}\n",
    "avr_mileage_for_top_6_brands = {}\n",
    "\n",
    "for brand in top_6_brands:\n",
    "    avr_price = autos.loc[autos[\"brand\"] == brand, \"price\"].mean()\n",
    "    avr_mileage = autos.loc[autos[\"brand\"] == brand, \"odometer_km\"].mean()\n",
    "    avr_price_for_top_6_brands[brand] = avr_price\n",
    "    avr_mileage_for_top_6_brands[brand] = avr_mileage\n",
    "\n",
    "avr_price = pd.Series(avr_price_for_top_6_brands).sort_values(ascending = False)\n",
    "avr_mileage = pd.Series(avr_mileage_for_top_6_brands).sort_values(ascending = False)\n",
    "\n",
    "\n",
    "dataframe_avr = pd.DataFrame(avr_price, columns = [\"mean_price\"])\n",
    "dataframe_avr[\"mean_mileage\"] = avr_mileage\n",
    "\n",
    "dataframe_avr.head(6)"
   ]
  },
  {
   "cell_type": "markdown",
   "id": "bd16facd-898e-4617-aa37-4918aa7b52ad",
   "metadata": {},
   "source": [
    "**We can see that the mean mileage are almost equal for all brands, but the price are completely different. So if you have enough money, you will be able tou buy audi, mercedes or bmw. If no, but have enough money for ford and opel, you will buy them. If you have the median, volkswagen is yours.**"
   ]
  },
  {
   "cell_type": "markdown",
   "id": "4d151607-c67c-475a-97db-031307519917",
   "metadata": {},
   "source": [
    "# Conclusion"
   ]
  },
  {
   "cell_type": "markdown",
   "id": "9cb7ddae-bc7d-4925-9183-dc31ef8d1cf4",
   "metadata": {},
   "source": [
    "**So in this guided project we practise to clean dataset, some techniques to analyses the data. We also practise to work with pandas.**\n",
    "\n",
    "**During this project we have done and observe next:**\n",
    "- Clean and rename column names\n",
    "- Convert columns dtypes\n",
    "- Analyse datetime columns\n",
    "- Analyse other type columns\n",
    "- Create Series and Dataframes\n",
    "\n",
    "**We also can continue to analyse our dataset, but our main goal today is already achieve.**"
   ]
  }
 ],
 "metadata": {
  "kernelspec": {
   "display_name": "Python 3 (ipykernel)",
   "language": "python",
   "name": "python3"
  },
  "language_info": {
   "codemirror_mode": {
    "name": "ipython",
    "version": 3
   },
   "file_extension": ".py",
   "mimetype": "text/x-python",
   "name": "python",
   "nbconvert_exporter": "python",
   "pygments_lexer": "ipython3",
   "version": "3.11.7"
  }
 },
 "nbformat": 4,
 "nbformat_minor": 5
}
