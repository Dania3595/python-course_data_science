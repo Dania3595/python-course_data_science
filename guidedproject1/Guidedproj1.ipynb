{
 "cells": [
  {
   "cell_type": "markdown",
   "id": "253e756c-c075-4316-9447-c98c84cc9dd9",
   "metadata": {},
   "source": [
    "# Guided Project 1:  Profitable App Profiles for the App Store and Google Play Market"
   ]
  },
  {
   "cell_type": "markdown",
   "id": "69090d24-3ac1-4d89-a902-c8d713ebed87",
   "metadata": {},
   "source": [
    "Our main goal to this project is to determine how we may determine the most profitable apps for Google Play and Apple Store. Our goal for this project is to analyze data to help our developers understand what type of apps are likely to attract more users."
   ]
  },
  {
   "cell_type": "code",
   "execution_count": 1,
   "id": "cdf5e3c8-3709-43d4-94ef-78291d5ca3c2",
   "metadata": {},
   "outputs": [],
   "source": [
    "def open_files(file):\n",
    "    open_file = open(file,encoding='utf8')\n",
    "    from csv import reader\n",
    "    reader_file = reader(open_file)\n",
    "    result = list(reader_file)\n",
    "    return result"
   ]
  },
  {
   "cell_type": "code",
   "execution_count": 2,
   "id": "bb282e55-d4dc-4294-acbf-0b5d8aa2c0b5",
   "metadata": {},
   "outputs": [],
   "source": [
    "def explore_data(dataset, start , end, rows_and_columns =False):\n",
    "    dataset_slice = dataset[start:end]\n",
    "    for row in dataset_slice:\n",
    "        print(row)\n",
    "        print('\\n')\n",
    "    if rows_and_columns:\n",
    "        print('Number of rows:', len(dataset))\n",
    "        print('Number of columns:', len(dataset[0]))"
   ]
  },
  {
   "cell_type": "code",
   "execution_count": 3,
   "id": "cf75f1d3-9b6c-48f6-8776-78ef809c6809",
   "metadata": {},
   "outputs": [
    {
     "name": "stdout",
     "output_type": "stream",
     "text": [
      "['', 'id', 'track_name', 'size_bytes', 'currency', 'price', 'rating_count_tot', 'rating_count_ver', 'user_rating', 'user_rating_ver', 'ver', 'cont_rating', 'prime_genre', 'sup_devices.num', 'ipadSc_urls.num', 'lang.num', 'vpp_lic']\n",
      "\n",
      "\n",
      "['1', '281656475', 'PAC-MAN Premium', '100788224', 'USD', '3.99', '21292', '26', '4', '4.5', '6.3.5', '4+', 'Games', '38', '5', '10', '1']\n",
      "\n",
      "\n",
      "['2', '281796108', 'Evernote - stay organized', '158578688', 'USD', '0', '161065', '26', '4', '3.5', '8.2.2', '4+', 'Productivity', '37', '5', '23', '1']\n",
      "\n",
      "\n",
      "['3', '281940292', 'WeatherBug - Local Weather, Radar, Maps, Alerts', '100524032', 'USD', '0', '188583', '2822', '3.5', '4.5', '5.0.0', '4+', 'Weather', '37', '5', '3', '1']\n",
      "\n",
      "\n",
      "['4', '282614216', 'eBay: Best App to Buy, Sell, Save! Online Shopping', '128512000', 'USD', '0', '262241', '649', '4', '4.5', '5.10.0', '12+', 'Shopping', '37', '5', '9', '1']\n",
      "\n",
      "\n",
      "['5', '282935706', 'Bible', '92774400', 'USD', '0', '985920', '5320', '4.5', '5', '7.5.1', '4+', 'Reference', '37', '5', '45', '1']\n",
      "\n",
      "\n",
      "Number of rows: 7197\n",
      "Number of columns: 17\n",
      "\n",
      "\n",
      "\n",
      "\n",
      "['App', 'Category', 'Rating', 'Reviews', 'Size', 'Installs', 'Type', 'Price', 'Content Rating', 'Genres', 'Last Updated', 'Current Ver', 'Android Ver']\n",
      "\n",
      "\n",
      "['Photo Editor & Candy Camera & Grid & ScrapBook', 'ART_AND_DESIGN', '4.1', '159', '19M', '10,000+', 'Free', '0', 'Everyone', 'Art & Design', 'January 7, 2018', '1.0.0', '4.0.3 and up']\n",
      "\n",
      "\n",
      "['Coloring book moana', 'ART_AND_DESIGN', '3.9', '967', '14M', '500,000+', 'Free', '0', 'Everyone', 'Art & Design;Pretend Play', 'January 15, 2018', '2.0.0', '4.0.3 and up']\n",
      "\n",
      "\n",
      "['U Launcher Lite – FREE Live Cool Themes, Hide Apps', 'ART_AND_DESIGN', '4.7', '87510', '8.7M', '5,000,000+', 'Free', '0', 'Everyone', 'Art & Design', 'August 1, 2018', '1.2.4', '4.0.3 and up']\n",
      "\n",
      "\n",
      "['Sketch - Draw & Paint', 'ART_AND_DESIGN', '4.5', '215644', '25M', '50,000,000+', 'Free', '0', 'Teen', 'Art & Design', 'June 8, 2018', 'Varies with device', '4.2 and up']\n",
      "\n",
      "\n",
      "['Pixel Draw - Number Art Coloring Book', 'ART_AND_DESIGN', '4.3', '967', '2.8M', '100,000+', 'Free', '0', 'Everyone', 'Art & Design;Creativity', 'June 20, 2018', '1.1', '4.4 and up']\n",
      "\n",
      "\n",
      "Number of rows: 10841\n",
      "Number of columns: 13\n"
     ]
    }
   ],
   "source": [
    "ios_apps = open_files(\"AppleStore.csv\")\n",
    "android_apps = open_files(\"googleplaystore.csv\")\n",
    "print(ios_apps[0])\n",
    "print(\"\\n\")\n",
    "explore_data(ios_apps[1:], 0 , 5, True)\n",
    "print('\\n\\n\\n')\n",
    "print(android_apps[0])\n",
    "print('\\n')\n",
    "explore_data(android_apps[1:], 0 , 5, True)"
   ]
  },
  {
   "cell_type": "markdown",
   "id": "6cdd7156-7302-4f0f-b0b0-47c08784c1c5",
   "metadata": {},
   "source": [
    "For Googleplaystore, we see that it has 10841 rows and 13 columns. The interested columns are `App`, `Category`, `Rating`, `Price`, `Type`, `Genres` and `Installes`. As we can see, that some columns aren't descriptive enough, so at this link you may see the [documentation](https://www.kaggle.com/datasets/lava18/google-play-store-apps).\n",
    "\n",
    "For Applestore, we see that it has 7197 rows and 17 columns. The interested columns are `track name`, `price`, `user_rating`, `prime genre`, `rating_count_tot`. As we can see, that some columns aren't descriptive enough, so at this link you may see the [documentation](https://www.kaggle.com/datasets/ramamet4/app-store-apple-data-set-10k-apps)."
   ]
  },
  {
   "cell_type": "markdown",
   "id": "13102a04-3fa5-4930-bcd9-de3e756e24d7",
   "metadata": {},
   "source": [
    "## Deleting Wrong Data"
   ]
  },
  {
   "cell_type": "markdown",
   "id": "4eed5d69-31dc-4854-a7ed-4552ba419252",
   "metadata": {},
   "source": [
    "As we read in comentars, the 10473 row have an empty element, so we need delete it:"
   ]
  },
  {
   "cell_type": "code",
   "execution_count": 4,
   "id": "3781567e-8a49-4290-9094-d4686679468c",
   "metadata": {},
   "outputs": [
    {
     "name": "stdout",
     "output_type": "stream",
     "text": [
      "['Life Made WI-Fi Touchscreen Photo Frame', '1.9', '19', '3.0M', '1,000+', 'Free', '0', 'Everyone', '', 'February 11, 2018', '1.0.19', '4.0 and up']\n",
      "\n",
      "\n",
      "10842\n",
      "\n",
      "\n",
      "10841\n"
     ]
    }
   ],
   "source": [
    "print(android_apps[10473])\n",
    "print(\"\\n\")\n",
    "print(len(android_apps))\n",
    "del(android_apps[10473])\n",
    "print(\"\\n\")\n",
    "print(len(android_apps))"
   ]
  },
  {
   "cell_type": "markdown",
   "id": "2137252e-d110-4182-81ae-368281adfb20",
   "metadata": {},
   "source": [
    "## Removing Duplicate Entries"
   ]
  },
  {
   "cell_type": "markdown",
   "id": "1f43f0df-f446-47f8-ab6a-930d5c3e3813",
   "metadata": {},
   "source": [
    "### Part One"
   ]
  },
  {
   "cell_type": "markdown",
   "id": "c9242a56-b919-4cc9-b0d3-32f6a5c98c00",
   "metadata": {},
   "source": [
    "_If you explore the Google Play data set long enough or look at the discussions section, you'll notice some apps have duplicate entries. For instance, Instagram has four entries_:"
   ]
  },
  {
   "cell_type": "code",
   "execution_count": 5,
   "id": "53849435-c12e-4534-b603-d6524b6780d2",
   "metadata": {},
   "outputs": [
    {
     "name": "stdout",
     "output_type": "stream",
     "text": [
      "['Instagram', 'SOCIAL', '4.5', '66577313', 'Varies with device', '1,000,000,000+', 'Free', '0', 'Teen', 'Social', 'July 31, 2018', 'Varies with device', 'Varies with device']\n",
      "['Instagram', 'SOCIAL', '4.5', '66577446', 'Varies with device', '1,000,000,000+', 'Free', '0', 'Teen', 'Social', 'July 31, 2018', 'Varies with device', 'Varies with device']\n",
      "['Instagram', 'SOCIAL', '4.5', '66577313', 'Varies with device', '1,000,000,000+', 'Free', '0', 'Teen', 'Social', 'July 31, 2018', 'Varies with device', 'Varies with device']\n",
      "['Instagram', 'SOCIAL', '4.5', '66509917', 'Varies with device', '1,000,000,000+', 'Free', '0', 'Teen', 'Social', 'July 31, 2018', 'Varies with device', 'Varies with device']\n"
     ]
    }
   ],
   "source": [
    "for app in android_apps:\n",
    "    if app[0] == 'Instagram':\n",
    "        print(app)"
   ]
  },
  {
   "cell_type": "markdown",
   "id": "0d33124e-d709-426a-ad73-dcc2d3f6d9b5",
   "metadata": {},
   "source": [
    "In total, there are 1,181 cases where an app occurs more than once:"
   ]
  },
  {
   "cell_type": "code",
   "execution_count": 6,
   "id": "264a2c44-12e9-4dfb-a99e-303a1249864c",
   "metadata": {},
   "outputs": [
    {
     "name": "stdout",
     "output_type": "stream",
     "text": [
      "Number of duplicate apps is: 1181\n",
      "\n",
      "\n",
      "Some examples of duplicate apps:  ['Quick PDF Scanner + OCR FREE', 'Box', 'Google My Business', 'ZOOM Cloud Meetings', 'join.me - Simple Meetings', 'Box', 'Zenefits', 'Google Ads', 'Google My Business', 'Slack', 'FreshBooks Classic', 'Insightly CRM', 'QuickBooks Accounting: Invoicing & Expenses', 'HipChat - Chat Built for Teams', 'Xero Accounting Software', 'MailChimp - Email, Marketing Automation', 'Crew - Free Messaging and Scheduling', 'Asana: organize team projects', 'Google Analytics', 'AdWords Express']\n"
     ]
    }
   ],
   "source": [
    "duplicate_apps = []\n",
    "unique_apps = []\n",
    "for app in android_apps[1:]:\n",
    "    name = app[0]\n",
    "    if name in unique_apps:\n",
    "        duplicate_apps.append(name)\n",
    "    else:\n",
    "        unique_apps.append(name)\n",
    "print('Number of duplicate apps is:', len(duplicate_apps))\n",
    "print('\\n')\n",
    "print('Some examples of duplicate apps: ', duplicate_apps[:20])"
   ]
  },
  {
   "cell_type": "markdown",
   "id": "78206568-1566-485b-a2fa-23745cc3b998",
   "metadata": {},
   "source": [
    "---\n",
    "---\n",
    "*We don't want to count certain apps more than once when we analyze data, so we need to remove the duplicate entries and keep only one entry per app. One thing we could do is remove the last duplicate rows and remain only the first unique, but we could probably find a better way. If we examine the rows we printed for the Instagram app, the main difference happens on the fourth position of each row, which corresponds to the number of reviews. So we want to colect the more recent data, so we need to remain the row with highest number of reviews.*"
   ]
  },
  {
   "cell_type": "markdown",
   "id": "9feb5e0c-8fe6-4c4b-b5ad-d8ee6995c80a",
   "metadata": {},
   "source": [
    "### Part two"
   ]
  },
  {
   "cell_type": "markdown",
   "id": "2ec6ada8-89de-4141-934e-70ec1d06b74b",
   "metadata": {},
   "source": [
    "Let's start with creating dictionary, in which every key is a app name and each dictionary value is a highest number of reviews of that app:"
   ]
  },
  {
   "cell_type": "code",
   "execution_count": 7,
   "id": "cd8a28ca-e7ea-465a-8b1a-828478d7ef32",
   "metadata": {},
   "outputs": [],
   "source": [
    "reviews_max = {}\n",
    "for app in android_apps[1:]:\n",
    "    name = app[0]\n",
    "    n_reviews = float(app[3])\n",
    "    if (name in reviews_max) and (reviews_max[name] < n_reviews):\n",
    "        reviews_max[name] = n_reviews\n",
    "        \n",
    "    elif name not in reviews_max:\n",
    "        reviews_max[name] = n_reviews "
   ]
  },
  {
   "cell_type": "markdown",
   "id": "4caa7204-08e2-4dc8-8b8b-d67026f75c32",
   "metadata": {},
   "source": [
    "Let's check that we have done everything in right way:"
   ]
  },
  {
   "cell_type": "code",
   "execution_count": 8,
   "id": "ea9c89ff-6315-4fb1-aa23-523f82ff129a",
   "metadata": {},
   "outputs": [
    {
     "name": "stdout",
     "output_type": "stream",
     "text": [
      "Expected length:  9659\n",
      "We have received:  9659\n"
     ]
    }
   ],
   "source": [
    "print(\"Expected length: \", len(android_apps[1:]) - 1181)\n",
    "print(\"We have received: \", len(reviews_max))"
   ]
  },
  {
   "cell_type": "markdown",
   "id": "19ca9684-9e95-4e29-acb7-89dddc2ea62c",
   "metadata": {},
   "source": [
    "So let's remove the duplicate apps from the dataset:"
   ]
  },
  {
   "cell_type": "code",
   "execution_count": 9,
   "id": "aeb82c05-b194-4dee-bd41-f7f7737e746b",
   "metadata": {},
   "outputs": [
    {
     "name": "stdout",
     "output_type": "stream",
     "text": [
      "9659\n"
     ]
    }
   ],
   "source": [
    "android_clean = []\n",
    "already_added = []\n",
    "for app in android_apps[1:]:\n",
    "    name = app[0]\n",
    "    n_reviews = float(app[3])\n",
    "    if reviews_max[name] == n_reviews and name not in already_added:\n",
    "        android_clean.append(app)\n",
    "        already_added.append(name)\n",
    "print(len(android_clean))"
   ]
  },
  {
   "cell_type": "markdown",
   "id": "341a0481-814f-4513-a5c7-222acc2a8437",
   "metadata": {},
   "source": [
    "In the cell above we do the following:\n",
    "* Create an empty lists `android_clean` and `already_added`\n",
    "* Loop through the dataset `android_apps`:\n",
    "    * Excract the name of the app(element with index number 0) and save it to a variable `name`\n",
    "    * Excract the number of reviews(element with index number 3) and save it to a variable `n_reviews`\n",
    "    * We add the current row (`app`) to the `android_clean` list, and the app name (`name`) to the `already_added` list if `n_reviews` is the same as the number of maximum reviews of the app name (the number can be found in the reviews_max dictionary) and `name` is not already in the list `already_added`."
   ]
  },
  {
   "cell_type": "markdown",
   "id": "c8e95ee4-4726-4311-9b0c-431e4ac7f1df",
   "metadata": {},
   "source": [
    "Let's explore the new cleaning dataset:"
   ]
  },
  {
   "cell_type": "code",
   "execution_count": 10,
   "id": "bc049517-2b2a-43d1-89a0-386c76f737f6",
   "metadata": {},
   "outputs": [
    {
     "name": "stdout",
     "output_type": "stream",
     "text": [
      "['Photo Editor & Candy Camera & Grid & ScrapBook', 'ART_AND_DESIGN', '4.1', '159', '19M', '10,000+', 'Free', '0', 'Everyone', 'Art & Design', 'January 7, 2018', '1.0.0', '4.0.3 and up']\n",
      "\n",
      "\n",
      "['U Launcher Lite – FREE Live Cool Themes, Hide Apps', 'ART_AND_DESIGN', '4.7', '87510', '8.7M', '5,000,000+', 'Free', '0', 'Everyone', 'Art & Design', 'August 1, 2018', '1.2.4', '4.0.3 and up']\n",
      "\n",
      "\n",
      "['Sketch - Draw & Paint', 'ART_AND_DESIGN', '4.5', '215644', '25M', '50,000,000+', 'Free', '0', 'Teen', 'Art & Design', 'June 8, 2018', 'Varies with device', '4.2 and up']\n",
      "\n",
      "\n",
      "['Pixel Draw - Number Art Coloring Book', 'ART_AND_DESIGN', '4.3', '967', '2.8M', '100,000+', 'Free', '0', 'Everyone', 'Art & Design;Creativity', 'June 20, 2018', '1.1', '4.4 and up']\n",
      "\n",
      "\n",
      "['Paper flowers instructions', 'ART_AND_DESIGN', '4.4', '167', '5.6M', '50,000+', 'Free', '0', 'Everyone', 'Art & Design', 'March 26, 2017', '1.0', '2.3 and up']\n",
      "\n",
      "\n",
      "Number of rows: 9659\n",
      "Number of columns: 13\n"
     ]
    }
   ],
   "source": [
    "explore_data(android_clean, 0, 5 , True)"
   ]
  },
  {
   "cell_type": "markdown",
   "id": "c839d62e-2119-4dba-8b50-bcfd327a2712",
   "metadata": {},
   "source": [
    "## Removing Non-English apps"
   ]
  },
  {
   "cell_type": "markdown",
   "id": "c9151c62-49c8-46e3-8d43-66066a748c44",
   "metadata": {},
   "source": [
    "### Part one"
   ]
  },
  {
   "cell_type": "markdown",
   "id": "03bd3163-c41b-45f1-87d7-dea81f30d6ac",
   "metadata": {},
   "source": [
    "If we explore the data long enough, we'll find that both datasets have apps with names that suggest they are not designed for an English-speaking audience. So we need to create functions, that explore the string and says, if it has any non-English characters:\n",
    "\n"
   ]
  },
  {
   "cell_type": "code",
   "execution_count": 11,
   "id": "de5756a7-64e3-4b91-9bc1-192f49a11b10",
   "metadata": {},
   "outputs": [],
   "source": [
    "def explore_string(string):\n",
    "    for element in string:\n",
    "        if(ord(element)) > 127:\n",
    "            return False;\n",
    "    return True;"
   ]
  },
  {
   "cell_type": "markdown",
   "id": "fa0f9ae0-4bcd-4121-be6a-6df1d542e14b",
   "metadata": {},
   "source": [
    "Let's check our solution:"
   ]
  },
  {
   "cell_type": "code",
   "execution_count": 12,
   "id": "bae16c5b-f2a7-4b4a-a3dd-f75bf3fa0fe6",
   "metadata": {},
   "outputs": [
    {
     "name": "stdout",
     "output_type": "stream",
     "text": [
      "True\n",
      "False\n",
      "False\n",
      "False\n"
     ]
    }
   ],
   "source": [
    "print(explore_string(\"Instagram\"))\n",
    "print(explore_string('爱奇艺PPS -《欢乐颂2》电视剧热播'))\n",
    "print(explore_string(\"Docs To Go™ Free Office Suite\"))\n",
    "print(explore_string(\"Instachat 😜\")) "
   ]
  },
  {
   "cell_type": "markdown",
   "id": "2a142c46-c867-42f4-ab4f-169d9f15c7c7",
   "metadata": {},
   "source": [
    "### Part Two"
   ]
  },
  {
   "cell_type": "markdown",
   "id": "b4b7dfbb-49b3-47ff-8fc8-aba6a3fec2a0",
   "metadata": {},
   "source": [
    "To minimize the impact of data loss, we'll only remove an app if its name has more than three characters with corresponding numbers falling outside the ASCII range:"
   ]
  },
  {
   "cell_type": "code",
   "execution_count": 13,
   "id": "846484fe-1c1e-4029-8ab8-f57dbc51516e",
   "metadata": {},
   "outputs": [
    {
     "name": "stdout",
     "output_type": "stream",
     "text": [
      "True\n",
      "True\n",
      "False\n"
     ]
    }
   ],
   "source": [
    "def explore_string(string):\n",
    "    value = 0\n",
    "    for element in string:\n",
    "        if ord(element) > 127:\n",
    "            value += 1\n",
    "    if value > 3:\n",
    "        return False\n",
    "    return True\n",
    "print(explore_string(\"Docs To Go™ Free Office Suite\"))\n",
    "print(explore_string(\"Instachat 😜\"))\n",
    "print(explore_string(\"爱奇艺PPS -《欢乐颂2》电视剧热播\"))"
   ]
  },
  {
   "cell_type": "code",
   "execution_count": 14,
   "id": "93cf7bae-0c95-48bb-bf61-9a62d7b9fe95",
   "metadata": {},
   "outputs": [],
   "source": [
    "def explore_english(dataset, value):\n",
    "    result = []\n",
    "    for row in dataset:\n",
    "        name = row[value]\n",
    "        if explore_string(name):\n",
    "            result.append(row)\n",
    "    return result"
   ]
  },
  {
   "cell_type": "markdown",
   "id": "7833790f-706f-4068-aeb7-d9be04f7bcbd",
   "metadata": {},
   "source": [
    "Let's use the function above to clean both datasets and then explore it:"
   ]
  },
  {
   "cell_type": "code",
   "execution_count": 15,
   "id": "54aa34b0-55de-4757-be1d-962eb6fa39cb",
   "metadata": {},
   "outputs": [
    {
     "name": "stdout",
     "output_type": "stream",
     "text": [
      "['Photo Editor & Candy Camera & Grid & ScrapBook', 'ART_AND_DESIGN', '4.1', '159', '19M', '10,000+', 'Free', '0', 'Everyone', 'Art & Design', 'January 7, 2018', '1.0.0', '4.0.3 and up']\n",
      "\n",
      "\n",
      "['U Launcher Lite – FREE Live Cool Themes, Hide Apps', 'ART_AND_DESIGN', '4.7', '87510', '8.7M', '5,000,000+', 'Free', '0', 'Everyone', 'Art & Design', 'August 1, 2018', '1.2.4', '4.0.3 and up']\n",
      "\n",
      "\n",
      "['Sketch - Draw & Paint', 'ART_AND_DESIGN', '4.5', '215644', '25M', '50,000,000+', 'Free', '0', 'Teen', 'Art & Design', 'June 8, 2018', 'Varies with device', '4.2 and up']\n",
      "\n",
      "\n",
      "Number of rows: 9614\n",
      "Number of columns: 13\n",
      "\n",
      "\n",
      "['1', '281656475', 'PAC-MAN Premium', '100788224', 'USD', '3.99', '21292', '26', '4', '4.5', '6.3.5', '4+', 'Games', '38', '5', '10', '1']\n",
      "\n",
      "\n",
      "['2', '281796108', 'Evernote - stay organized', '158578688', 'USD', '0', '161065', '26', '4', '3.5', '8.2.2', '4+', 'Productivity', '37', '5', '23', '1']\n",
      "\n",
      "\n",
      "['3', '281940292', 'WeatherBug - Local Weather, Radar, Maps, Alerts', '100524032', 'USD', '0', '188583', '2822', '3.5', '4.5', '5.0.0', '4+', 'Weather', '37', '5', '3', '1']\n",
      "\n",
      "\n",
      "Number of rows: 6183\n",
      "Number of columns: 17\n"
     ]
    }
   ],
   "source": [
    "android_english = explore_english(android_clean, 0)\n",
    "apple_english = explore_english(ios_apps[1:], 2)\n",
    "explore_data(android_english, 0 , 3, True)\n",
    "print(\"\\n\")\n",
    "explore_data(apple_english, 0 , 3, True)"
   ]
  },
  {
   "cell_type": "markdown",
   "id": "d58db2b6-9c93-491b-906a-4f01c1494e65",
   "metadata": {},
   "source": [
    "We can see that we're left with 9614 Android apps and 6183 iOS apps."
   ]
  },
  {
   "cell_type": "markdown",
   "id": "875b59ad-4531-4e3e-b40f-95e7afa5fe38",
   "metadata": {},
   "source": [
    "## Isolating the Free Apps"
   ]
  },
  {
   "cell_type": "markdown",
   "id": "f19d409b-19a4-4390-af6e-a802af8b775b",
   "metadata": {},
   "source": [
    "Our datasets contain both free and non-free apps, we'll need to isolate only the free apps for our analysis:"
   ]
  },
  {
   "cell_type": "code",
   "execution_count": 16,
   "id": "ccfb4683-a9f3-4e1c-8d3a-6599834dceac",
   "metadata": {},
   "outputs": [],
   "source": [
    "def excract_free(dataset, value):\n",
    "    result = []\n",
    "    for row in dataset:\n",
    "        price = row[value]\n",
    "        if price == '0':\n",
    "            result.append(row)\n",
    "    return result"
   ]
  },
  {
   "cell_type": "markdown",
   "id": "3871fd1d-840b-4fa7-8a27-902fcc60d817",
   "metadata": {},
   "source": [
    "Let's see the datasets, that remains after isolate:"
   ]
  },
  {
   "cell_type": "code",
   "execution_count": 17,
   "id": "de56a160-0d0c-487f-97e1-73da05df45f8",
   "metadata": {},
   "outputs": [
    {
     "name": "stdout",
     "output_type": "stream",
     "text": [
      "8864\n",
      "3222\n"
     ]
    }
   ],
   "source": [
    "android_free = excract_free(android_english, 7)\n",
    "ios_free = excract_free(apple_english, 5)\n",
    "print(len(android_free))\n",
    "print(len(ios_free))"
   ]
  },
  {
   "cell_type": "markdown",
   "id": "a79f6b26-85bd-4234-a7cb-0f65dfd93c74",
   "metadata": {},
   "source": [
    "We're left with 8864 Android apps and 3222 iOS apps, which should be enough for our analysis."
   ]
  },
  {
   "cell_type": "markdown",
   "id": "aa060614-5a2d-441c-bccb-d4d7ef9503d6",
   "metadata": {},
   "source": [
    "## Most Common Apps by Genre"
   ]
  },
  {
   "cell_type": "markdown",
   "id": "f25e4ed4-929c-4544-a97b-f19e88c82f34",
   "metadata": {},
   "source": [
    "### Part One"
   ]
  },
  {
   "cell_type": "markdown",
   "id": "160232c7-bac6-46ac-81e4-c9c26f9e1def",
   "metadata": {},
   "source": [
    "Because our end goal is to add the app on both Google Play and the App Store, we need to find app profiles that are successful in both markets.\n",
    "\n",
    "To minimize risks and overhead, our validation strategy for an app idea has three steps:\r",
    "1. Build a minimal Android version of the app, and add it to Google Play.\n",
    "2. If the app has a good response from users, we develop it further.\n",
    "3. If the app is profitable after six months, we build an iOS version of the app and add it to the App Store.\n",
    "\n",
    "As we see, we may use the columns `Genres` , `Category` in `GooglePlaystore` dataset, and the column `Prime_genre` in `Applestore` dataset to generate frequency tables to determine the most common genres in each market.ore."
   ]
  },
  {
   "cell_type": "markdown",
   "id": "5b868832-13ac-4089-a28b-4bbfd61fa5fd",
   "metadata": {},
   "source": [
    "### Part Two"
   ]
  },
  {
   "cell_type": "code",
   "execution_count": 18,
   "id": "fdf12e76-1aa4-49bb-b7ec-467086f83896",
   "metadata": {},
   "outputs": [],
   "source": [
    "def freq_table(dataset, index):\n",
    "    length = len(dataset)\n",
    "    result = {}\n",
    "    for row in dataset:\n",
    "        element = row[index]\n",
    "        if element in result:\n",
    "            result[element] += 1\n",
    "        elif element not in result:\n",
    "            result[element] = 1\n",
    "    table_percentage = {}\n",
    "    for key in result:\n",
    "        percentage = (result[key]/ length) * 100\n",
    "        table_percentage[key] = percentage\n",
    "    return table_percentage\n",
    "\n",
    "def display_table(dataset, index):\n",
    "    table = freq_table(dataset, index)\n",
    "    table_displays = []\n",
    "    for key in table:\n",
    "        key_val_as_tuple = (table[key], key)\n",
    "        table_displays.append(key_val_as_tuple)\n",
    "    table_sorted = sorted(table_displays, reverse = True)\n",
    "    for entry in table_sorted:\n",
    "        print(entry[1], \":\", entry[0])"
   ]
  },
  {
   "cell_type": "markdown",
   "id": "f4de9c75-49ca-4322-b665-acb5a5a140e1",
   "metadata": {},
   "source": [
    "### Part three"
   ]
  },
  {
   "cell_type": "markdown",
   "id": "5d0f3ec9-c422-470b-a9d9-e2986efae222",
   "metadata": {},
   "source": [
    "Now let's display frequency table for column `Prime_Genre` in `AppleStore` dataset"
   ]
  },
  {
   "cell_type": "code",
   "execution_count": 19,
   "id": "9a2b8f7b-7561-4a11-91bd-ba85a554a017",
   "metadata": {},
   "outputs": [
    {
     "name": "stdout",
     "output_type": "stream",
     "text": [
      "Games : 58.16263190564867\n",
      "Entertainment : 7.883302296710118\n",
      "Photo & Video : 4.9658597144630665\n",
      "Education : 3.662321539416512\n",
      "Social Networking : 3.2898820608317814\n",
      "Shopping : 2.60707635009311\n",
      "Utilities : 2.5139664804469275\n",
      "Sports : 2.1415270018621975\n",
      "Music : 2.0484171322160147\n",
      "Health & Fitness : 2.0173805090006205\n",
      "Productivity : 1.7380509000620732\n",
      "Lifestyle : 1.5828677839851024\n",
      "News : 1.3345747982619491\n",
      "Travel : 1.2414649286157666\n",
      "Finance : 1.1173184357541899\n",
      "Weather : 0.8690254500310366\n",
      "Food & Drink : 0.8069522036002483\n",
      "Reference : 0.5586592178770949\n",
      "Business : 0.5276225946617008\n",
      "Book : 0.4345127250155183\n",
      "Navigation : 0.186219739292365\n",
      "Medical : 0.186219739292365\n",
      "Catalogs : 0.12414649286157665\n"
     ]
    }
   ],
   "source": [
    "display_table(ios_free, -5)"
   ]
  },
  {
   "cell_type": "markdown",
   "id": "4f02002c-0962-4003-bae0-f0a85ba2fbd3",
   "metadata": {},
   "source": [
    "We can see, that more than half of all English apps is game apps(58.16%). On the second place of most popular genre is Entertainment apps. As we can see , these two genres occupies approximately 65% of all apps in AppleStore and it's really incredible. \n",
    "\n",
    "The general impression of AppleStore(based on free apps) is that most apps are designed for fun and enertainment(games, photo and video, social networking, sports, music), while apps designed for ractical purposes (education, shopping, utilities, productivity, lifestyle) are more rare. However, it doesn't mean, that entertainment apps have a large number of users, because this property depends on other factors."
   ]
  },
  {
   "cell_type": "markdown",
   "id": "e56dab25-d725-4a46-b42c-6a552cdaed0a",
   "metadata": {},
   "source": [
    "\n",
    "\n",
    "Let's excract the columns `Category` and `Genres` from `GooglePlay` dataset"
   ]
  },
  {
   "cell_type": "code",
   "execution_count": 20,
   "id": "fa00b682-a4f3-42ef-8f34-3f1ad24c11eb",
   "metadata": {},
   "outputs": [
    {
     "name": "stdout",
     "output_type": "stream",
     "text": [
      "FAMILY : 18.907942238267147\n",
      "GAME : 9.724729241877256\n",
      "TOOLS : 8.461191335740072\n",
      "BUSINESS : 4.591606498194946\n",
      "LIFESTYLE : 3.9034296028880866\n",
      "PRODUCTIVITY : 3.892148014440433\n",
      "FINANCE : 3.7003610108303246\n",
      "MEDICAL : 3.531137184115524\n",
      "SPORTS : 3.395758122743682\n",
      "PERSONALIZATION : 3.3167870036101084\n",
      "COMMUNICATION : 3.2378158844765346\n",
      "HEALTH_AND_FITNESS : 3.0798736462093865\n",
      "PHOTOGRAPHY : 2.944494584837545\n",
      "NEWS_AND_MAGAZINES : 2.7978339350180503\n",
      "SOCIAL : 2.6624548736462095\n",
      "TRAVEL_AND_LOCAL : 2.33528880866426\n",
      "SHOPPING : 2.2450361010830324\n",
      "BOOKS_AND_REFERENCE : 2.1435018050541514\n",
      "DATING : 1.861462093862816\n",
      "VIDEO_PLAYERS : 1.7937725631768955\n",
      "MAPS_AND_NAVIGATION : 1.3989169675090252\n",
      "FOOD_AND_DRINK : 1.2409747292418771\n",
      "EDUCATION : 1.1620036101083033\n",
      "ENTERTAINMENT : 0.9589350180505415\n",
      "LIBRARIES_AND_DEMO : 0.9363718411552346\n",
      "AUTO_AND_VEHICLES : 0.9250902527075812\n",
      "HOUSE_AND_HOME : 0.8235559566787004\n",
      "WEATHER : 0.8009927797833934\n",
      "EVENTS : 0.7107400722021661\n",
      "PARENTING : 0.6543321299638989\n",
      "ART_AND_DESIGN : 0.6430505415162455\n",
      "COMICS : 0.6204873646209386\n",
      "BEAUTY : 0.5979241877256317\n"
     ]
    }
   ],
   "source": [
    "display_table(android_free, 1)"
   ]
  },
  {
   "cell_type": "markdown",
   "id": "4144ba3f-823f-43d5-be1d-201e806004f0",
   "metadata": {},
   "source": [
    "We can see, that the most popular categories are `Family`, `Games` and `Tools`. The landscape seems significantly different on Google Play: there are not that many apps designed for fun, and it seems that a good number of apps are designed for practical purposes (family, tools, business, lifestyle, productivity, etc.). "
   ]
  },
  {
   "cell_type": "markdown",
   "id": "90c487a2-da25-494a-9c18-13c2f84cd3a9",
   "metadata": {},
   "source": [
    "Let's create a frequancy table for `Genres` column"
   ]
  },
  {
   "cell_type": "code",
   "execution_count": 21,
   "id": "613d227c-311c-4929-9c5d-6a389bb772fa",
   "metadata": {},
   "outputs": [
    {
     "name": "stdout",
     "output_type": "stream",
     "text": [
      "Tools : 8.449909747292418\n",
      "Entertainment : 6.069494584837545\n",
      "Education : 5.347472924187725\n",
      "Business : 4.591606498194946\n",
      "Productivity : 3.892148014440433\n",
      "Lifestyle : 3.892148014440433\n",
      "Finance : 3.7003610108303246\n",
      "Medical : 3.531137184115524\n",
      "Sports : 3.463447653429603\n",
      "Personalization : 3.3167870036101084\n",
      "Communication : 3.2378158844765346\n",
      "Action : 3.1024368231046933\n",
      "Health & Fitness : 3.0798736462093865\n",
      "Photography : 2.944494584837545\n",
      "News & Magazines : 2.7978339350180503\n",
      "Social : 2.6624548736462095\n",
      "Travel & Local : 2.3240072202166067\n",
      "Shopping : 2.2450361010830324\n",
      "Books & Reference : 2.1435018050541514\n",
      "Simulation : 2.0419675090252705\n",
      "Dating : 1.861462093862816\n",
      "Arcade : 1.8501805054151623\n",
      "Video Players & Editors : 1.7712093862815883\n",
      "Casual : 1.7599277978339352\n",
      "Maps & Navigation : 1.3989169675090252\n",
      "Food & Drink : 1.2409747292418771\n",
      "Puzzle : 1.128158844765343\n",
      "Racing : 0.9927797833935018\n",
      "Role Playing : 0.9363718411552346\n",
      "Libraries & Demo : 0.9363718411552346\n",
      "Auto & Vehicles : 0.9250902527075812\n",
      "Strategy : 0.9138086642599278\n",
      "House & Home : 0.8235559566787004\n",
      "Weather : 0.8009927797833934\n",
      "Events : 0.7107400722021661\n",
      "Adventure : 0.6768953068592057\n",
      "Comics : 0.6092057761732852\n",
      "Beauty : 0.5979241877256317\n",
      "Art & Design : 0.5979241877256317\n",
      "Parenting : 0.4963898916967509\n",
      "Card : 0.45126353790613716\n",
      "Casino : 0.42870036101083037\n",
      "Trivia : 0.41741877256317694\n",
      "Educational;Education : 0.39485559566787\n",
      "Board : 0.3835740072202166\n",
      "Educational : 0.3722924187725632\n",
      "Education;Education : 0.33844765342960287\n",
      "Word : 0.2594765342960289\n",
      "Casual;Pretend Play : 0.236913357400722\n",
      "Music : 0.2030685920577617\n",
      "Racing;Action & Adventure : 0.16922382671480143\n",
      "Puzzle;Brain Games : 0.16922382671480143\n",
      "Entertainment;Music & Video : 0.16922382671480143\n",
      "Casual;Brain Games : 0.13537906137184114\n",
      "Casual;Action & Adventure : 0.13537906137184114\n",
      "Arcade;Action & Adventure : 0.12409747292418773\n",
      "Action;Action & Adventure : 0.10153429602888085\n",
      "Educational;Pretend Play : 0.09025270758122744\n",
      "Simulation;Action & Adventure : 0.078971119133574\n",
      "Parenting;Education : 0.078971119133574\n",
      "Entertainment;Brain Games : 0.078971119133574\n",
      "Board;Brain Games : 0.078971119133574\n",
      "Parenting;Music & Video : 0.06768953068592057\n",
      "Educational;Brain Games : 0.06768953068592057\n",
      "Casual;Creativity : 0.06768953068592057\n",
      "Art & Design;Creativity : 0.06768953068592057\n",
      "Education;Pretend Play : 0.056407942238267145\n",
      "Role Playing;Pretend Play : 0.04512635379061372\n",
      "Education;Creativity : 0.04512635379061372\n",
      "Role Playing;Action & Adventure : 0.033844765342960284\n",
      "Puzzle;Action & Adventure : 0.033844765342960284\n",
      "Entertainment;Creativity : 0.033844765342960284\n",
      "Entertainment;Action & Adventure : 0.033844765342960284\n",
      "Educational;Creativity : 0.033844765342960284\n",
      "Educational;Action & Adventure : 0.033844765342960284\n",
      "Education;Music & Video : 0.033844765342960284\n",
      "Education;Brain Games : 0.033844765342960284\n",
      "Education;Action & Adventure : 0.033844765342960284\n",
      "Adventure;Action & Adventure : 0.033844765342960284\n",
      "Video Players & Editors;Music & Video : 0.02256317689530686\n",
      "Sports;Action & Adventure : 0.02256317689530686\n",
      "Simulation;Pretend Play : 0.02256317689530686\n",
      "Puzzle;Creativity : 0.02256317689530686\n",
      "Music;Music & Video : 0.02256317689530686\n",
      "Entertainment;Pretend Play : 0.02256317689530686\n",
      "Casual;Education : 0.02256317689530686\n",
      "Board;Action & Adventure : 0.02256317689530686\n",
      "Video Players & Editors;Creativity : 0.01128158844765343\n",
      "Trivia;Education : 0.01128158844765343\n",
      "Travel & Local;Action & Adventure : 0.01128158844765343\n",
      "Tools;Education : 0.01128158844765343\n",
      "Strategy;Education : 0.01128158844765343\n",
      "Strategy;Creativity : 0.01128158844765343\n",
      "Strategy;Action & Adventure : 0.01128158844765343\n",
      "Simulation;Education : 0.01128158844765343\n",
      "Role Playing;Brain Games : 0.01128158844765343\n",
      "Racing;Pretend Play : 0.01128158844765343\n",
      "Puzzle;Education : 0.01128158844765343\n",
      "Parenting;Brain Games : 0.01128158844765343\n",
      "Music & Audio;Music & Video : 0.01128158844765343\n",
      "Lifestyle;Pretend Play : 0.01128158844765343\n",
      "Lifestyle;Education : 0.01128158844765343\n",
      "Health & Fitness;Education : 0.01128158844765343\n",
      "Health & Fitness;Action & Adventure : 0.01128158844765343\n",
      "Entertainment;Education : 0.01128158844765343\n",
      "Communication;Creativity : 0.01128158844765343\n",
      "Comics;Creativity : 0.01128158844765343\n",
      "Casual;Music & Video : 0.01128158844765343\n",
      "Card;Action & Adventure : 0.01128158844765343\n",
      "Books & Reference;Education : 0.01128158844765343\n",
      "Art & Design;Pretend Play : 0.01128158844765343\n",
      "Art & Design;Action & Adventure : 0.01128158844765343\n",
      "Arcade;Pretend Play : 0.01128158844765343\n",
      "Adventure;Education : 0.01128158844765343\n"
     ]
    }
   ],
   "source": [
    "display_table(android_free, 9)"
   ]
  },
  {
   "cell_type": "markdown",
   "id": "a5cf2795-5089-4382-921b-52874b855aaa",
   "metadata": {},
   "source": [
    "We can see that columns `Genres` and `Category` are mostly similar, but the column`Genres` describe the different genre of apps more detaily."
   ]
  },
  {
   "cell_type": "markdown",
   "id": "0704a1ce-bf11-4a93-a6eb-6ab3b0dea5c8",
   "metadata": {},
   "source": [
    "The difference between the `AppleStore` dataset from `GooglePlay` dataset is that `AppleStore` have mostly apps for fun and entertainment, while `GooglePlay` have a balanced landscape, that shows balance betweeen apps for fun and apps for practical purposes. But this frequancy tables didn't help us with our main goal, because they don't reveal the most frequent app genres or what genres have the most users."
   ]
  },
  {
   "cell_type": "markdown",
   "id": "133872de-fc50-47e2-b468-45dd3c150e71",
   "metadata": {},
   "source": [
    "##  Most Popular Apps by Genre on the App Store"
   ]
  },
  {
   "cell_type": "markdown",
   "id": "d3d0cd85-ca7d-4cfc-bc52-828469f45ead",
   "metadata": {},
   "source": [
    "Let's defined the most popular apps by genre on the App Store:"
   ]
  },
  {
   "cell_type": "code",
   "execution_count": 22,
   "id": "fc23c403-322d-4186-a5e4-9d46958073e7",
   "metadata": {},
   "outputs": [
    {
     "name": "stdout",
     "output_type": "stream",
     "text": [
      "Productivity : 21028.410714285714\n",
      "Weather : 52279.892857142855\n",
      "Shopping : 26919.690476190477\n",
      "Reference : 74942.11111111111\n",
      "Finance : 31467.944444444445\n",
      "Music : 57326.530303030304\n",
      "Utilities : 18684.456790123455\n",
      "Travel : 28243.8\n",
      "Social Networking : 71548.34905660378\n",
      "Sports : 23008.898550724636\n",
      "Health & Fitness : 23298.015384615384\n",
      "Games : 22788.6696905016\n",
      "Food & Drink : 33333.92307692308\n",
      "News : 21248.023255813954\n",
      "Book : 39758.5\n",
      "Photo & Video : 28441.54375\n",
      "Entertainment : 14029.830708661417\n",
      "Business : 7491.117647058823\n",
      "Lifestyle : 16485.764705882353\n",
      "Education : 7003.983050847458\n",
      "Navigation : 86090.33333333333\n",
      "Medical : 612.0\n",
      "Catalogs : 4004.0\n"
     ]
    }
   ],
   "source": [
    "genres_apple = freq_table(ios_free, -5)\n",
    "for element in genres_apple:\n",
    "    total = 0\n",
    "    len_genre = 0\n",
    "    for row in ios_free:\n",
    "        genre_app = row[-5]\n",
    "        if genre_app == element:\n",
    "            user_ratings = float(row[6])\n",
    "            total += user_ratings\n",
    "            len_genre += 1\n",
    "    avg_rating = total / len_genre\n",
    "    print(element, ':', avg_rating)"
   ]
  },
  {
   "cell_type": "markdown",
   "id": "b6996cc1-d74a-43d3-bc21-b6634142a992",
   "metadata": {},
   "source": [
    "As we can see, that many users used the genre `Navigation`, `Reference` and `Music`. It's really strange, that only 22788 users in average used the genre `Games`, while the percentage of Game apps in `App store` is more than 58%. So we may understand that not always the most popular apps in dataset is the most profitable, because this area has a lot of competition and not the largest number of users. As we can see below the `Navigation` genre has occupies by largest companies, as Google and Waze. So we can expect, that it will be difficult to to displace them from their leadership position. "
   ]
  },
  {
   "cell_type": "code",
   "execution_count": 23,
   "id": "74a81a64-98fd-43cd-b643-d7f5830ed128",
   "metadata": {},
   "outputs": [
    {
     "name": "stdout",
     "output_type": "stream",
     "text": [
      "Waze - GPS Navigation, Maps & Real-time Traffic : 345046\n",
      "Geocaching® : 12811\n",
      "ImmobilienScout24: Real Estate Search in Germany : 187\n",
      "Railway Route Search : 5\n",
      "CoPilot GPS – Car Navigation & Offline Maps : 3582\n",
      "Google Maps - Navigation & Transit : 154911\n"
     ]
    }
   ],
   "source": [
    "for row in ios_free:\n",
    "    if row[-5] == \"Navigation\":\n",
    "        print(row[2], \":\", row[6])\n",
    "        "
   ]
  },
  {
   "cell_type": "markdown",
   "id": "ff4718d2-e786-488f-b089-ecab2892b213",
   "metadata": {},
   "source": [
    "So let's display next \"large\" genre `Reference`:"
   ]
  },
  {
   "cell_type": "code",
   "execution_count": 24,
   "id": "38e1d1ec-2693-40d0-b5ce-0ef244ef48b7",
   "metadata": {},
   "outputs": [
    {
     "name": "stdout",
     "output_type": "stream",
     "text": [
      "Bible : 985920\n",
      "Dictionary.com Dictionary & Thesaurus : 200047\n",
      "Dictionary.com Dictionary & Thesaurus for iPad : 54175\n",
      "Muslim Pro: Ramadan 2017 Prayer Times, Azan, Quran : 18418\n",
      "Merriam-Webster Dictionary : 16849\n",
      "Google Translate : 26786\n",
      "Night Sky : 12122\n",
      "WWDC : 762\n",
      "Jishokun-Japanese English Dictionary & Translator : 0\n",
      "教えて!goo : 0\n",
      "VPN Express : 14\n",
      "New Furniture Mods - Pocket Wiki & Game Tools for Minecraft PC Edition : 17588\n",
      "LUCKY BLOCK MOD ™ for Minecraft PC Edition - The Best Pocket Wiki & Mods Installer Tools : 4693\n",
      "Guides for Pokémon GO - Pokemon GO News and Cheats : 826\n",
      "Horror Maps for Minecraft PE - Download The Scariest Maps for Minecraft Pocket Edition (MCPE) Free : 718\n",
      "City Maps for Minecraft PE - The Best Maps for Minecraft Pocket Edition (MCPE) : 8535\n",
      "GUNS MODS for Minecraft PC Edition - Mods Tools : 1497\n",
      "Real Bike Traffic Rider Virtual Reality Glasses : 8\n"
     ]
    }
   ],
   "source": [
    "for row in ios_free:\n",
    "    if row[-5] == \"Reference\":\n",
    "        print(row[2], \":\", row[6])"
   ]
  },
  {
   "cell_type": "markdown",
   "id": "c2551115-0a22-48b9-aa4d-560d38ba7f64",
   "metadata": {},
   "source": [
    "We can see the same character, but here the picture looks better because there are already more competing applications, and we also see that the number of users in this area is more than 1.5 million. So the app in this genre may be  profitable, because this genre has a lot of users and there is not many existing apps in this sphere, so it hasn't a lot of competition. We can create something app, which will be have a lot of books, and also, may be have chat with other readers to discuss different books. In this app people will be spend a lot of time reading books, discussing it, and also we may create some extra features, which will be people may to buy by some activities in the app. So we can say, that this app will be successfull. Let's go to another genres and analyze it."
   ]
  },
  {
   "cell_type": "markdown",
   "id": "b3273e3b-e559-469a-a904-2bc1f1f7e258",
   "metadata": {},
   "source": [
    "Let's display next genres `Music` and `Weather`:"
   ]
  },
  {
   "cell_type": "code",
   "execution_count": 25,
   "id": "f44d4eab-93d5-408c-a42c-9435c4d227ff",
   "metadata": {},
   "outputs": [
    {
     "name": "stdout",
     "output_type": "stream",
     "text": [
      "Pandora - Music & Radio : 1126879\n",
      "Shazam - Discover music, artists, videos & lyrics : 402925\n",
      "iHeartRadio – Free Music & Radio Stations : 293228\n",
      "Deezer - Listen to your Favorite Music & Playlists : 4677\n",
      "Sonos Controller : 48905\n",
      "NRJ Radio : 38\n",
      "radio.de - Der Radioplayer : 64\n",
      "Spotify Music : 878563\n",
      "SoundCloud - Music & Audio : 135744\n",
      "Sing Karaoke Songs Unlimited with StarMaker : 26227\n",
      "SoundHound Song Search & Music Player : 82602\n",
      "Ringtones for iPhone & Ringtone Maker : 25403\n",
      "Coach Guitar - Lessons & Easy Tabs For Beginners : 2416\n",
      "TuneIn Radio - MLB NBA Audiobooks Podcasts Music : 110420\n",
      "Magic Piano by Smule : 131695\n",
      "QQ音乐HD : 224\n",
      "The Singing Machine Mobile Karaoke App : 130\n",
      "Bandsintown Concerts : 30845\n",
      "PetitLyrics : 0\n",
      "edjing Mix:DJ turntable to remix and scratch music : 13580\n",
      "Smule Sing! : 119316\n",
      "Amazon Music : 106235\n",
      "AutoRap by Smule : 18202\n",
      "My Mixtapez Music : 26286\n",
      "Certified Mixtapes - Hip Hop Albums & Mixtapes : 9975\n",
      "Karaoke - Sing Karaoke, Unlimited Songs! : 28606\n",
      "Napster - Top Music & Radio : 14268\n",
      "Musi - Unlimited Music For YouTube : 25193\n",
      "UE BOOM : 612\n",
      "Spinrilla - Mixtapes For Free : 15053\n",
      "Google Play Music : 10118\n",
      "Piano - Play Keyboard Music Games with Magic Tiles : 1636\n",
      "Bose SoundTouch : 3687\n",
      "DatPiff : 2815\n",
      "Sounds app - Music And Friends : 5126\n",
      "Smart Music: Streaming Videos and Radio : 17\n",
      "Free Piano app by Yokee : 13016\n",
      "Simple Radio - Live AM & FM Radio Stations : 4787\n",
      "Trebel Music - Unlimited Music Downloader : 2570\n",
      "TIDAL : 7398\n",
      "Acapella from PicPlayPost : 2487\n",
      "Medly - Music Maker : 933\n",
      "Amazon Alexa : 3018\n",
      "Music Freedom - Unlimited Free MP3 Music Streaming : 1246\n",
      "PlayGround • Music At Your Fingertips : 150\n",
      "Musical Video Maker - Create Music clips lip sync : 320\n",
      "Free Music Play - Mp3 Streamer & Player : 2496\n",
      "LiveMixtapes : 555\n",
      "AmpMe - A Portable Social Party Music Speaker : 1047\n",
      "NOISE : 355\n",
      "YouTube Music : 7109\n",
      "Ringtones for iPhone with Ringtone Maker : 4013\n",
      "Music Memos : 909\n",
      "Musicloud - MP3 and FLAC Music Player for Cloud Platforms. : 2211\n",
      "Bose Connect : 915\n",
      "Cloud Music Player - Downloader & Playlist Manager : 319\n",
      "Remixlive - Remix loops with pads : 288\n",
      "Free Music -  Player & Streamer  for Dropbox, OneDrive & Google Drive : 46\n",
      "Boom: Best Equalizer & Magical Surround Sound : 1375\n",
      "MP3 Music Player & Streamer for Clouds : 329\n",
      "Nicki Minaj: The Empire : 5196\n",
      "SongFlip - Free Music Streamer : 5004\n",
      "Blocs Wave - Make & Record Music : 158\n",
      "Music and Chill : 135\n",
      "Free Music - MP3 Streamer & Playlist Manager Pro : 13443\n",
      "BOSS Tuner : 13\n",
      "\n",
      "\n",
      "WeatherBug - Local Weather, Radar, Maps, Alerts : 188583\n",
      "The Weather Channel: Forecast, Radar & Alerts : 495626\n",
      "AccuWeather - Weather for Life : 144214\n",
      "MyRadar NOAA Weather Radar Forecast : 150158\n",
      "The Weather Channel App for iPad – best local forecast, radar map, and storm tracking : 208648\n",
      "Météo-France : 24\n",
      "Yurekuru Call : 53\n",
      "QuakeFeed Earthquake Map, Alerts, and News : 6081\n",
      "Moji Weather - Free Weather Forecast : 2333\n",
      "FEMA : 128\n",
      "Weather Underground: Custom Forecast & Local Radar : 49192\n",
      "JaxReady : 22\n",
      "Hurricane Tracker WESH 2 Orlando, Central Florida : 203\n",
      "Hurricane by American Red Cross : 1158\n",
      "Weather & Radar : 37\n",
      "WRAL Weather Alert : 25\n",
      "Yahoo Weather : 112603\n",
      "Weather Live Free - Weather Forecast & Alerts : 35702\n",
      "NOAA Weather Radar - Weather Forecast & HD Radar : 45696\n",
      "iWeather - World weather forecast : 80\n",
      "Almanac Long-Range Weather Forecast : 12\n",
      "TodayAir : 0\n",
      "Weather - Radar - Storm with Morecast App : 78\n",
      "Storm Radar : 22792\n",
      "WarnWetter : 0\n",
      "wetter.com : 0\n",
      "Forecast Bar : 375\n",
      "Freddy the Frogcaster's Weather Station : 14\n"
     ]
    }
   ],
   "source": [
    "for row in ios_free:\n",
    "    if row[-5] == \"Music\":\n",
    "        print(row[2], \":\", row[6])\n",
    "\n",
    "print(\"\\n\")\n",
    "for row in ios_free:\n",
    "    if row[-5] == \"Weather\":\n",
    "        print(row[2], \":\", row[6])"
   ]
  },
  {
   "cell_type": "markdown",
   "id": "68c37cab-c733-44ac-bb80-84a429de5c8b",
   "metadata": {},
   "source": [
    "We can see, that both genres have a lot of competition. `Music` genre have already a lot of successfull apps, as `Spotify`, `Shazam`, `SoundCloud`, `Pandora`, etc. The `Weather` genre has a lot of disadvantages, one of it is that  eople generally don't spend too much time in-app, and the chances of making profit from in-app adds are low."
   ]
  },
  {
   "cell_type": "markdown",
   "id": "4f7b095f-0443-41c0-9fcf-4f6167c79a72",
   "metadata": {},
   "source": [
    "*So we can consider that the most profitable app in `App Store` will be the **Book service** in genre `Refference`.*"
   ]
  },
  {
   "cell_type": "markdown",
   "id": "493060c3-f32a-4999-b264-d98f67b2386c",
   "metadata": {},
   "source": [
    "## Most Popular Apps by Genre on Google Play"
   ]
  },
  {
   "cell_type": "code",
   "execution_count": 26,
   "id": "6fcc70d5-1bfd-4229-a4d0-f82473073831",
   "metadata": {},
   "outputs": [
    {
     "name": "stdout",
     "output_type": "stream",
     "text": [
      "1,000,000+ : 15.726534296028879\n",
      "100,000+ : 11.552346570397113\n",
      "10,000,000+ : 10.548285198555957\n",
      "10,000+ : 10.198555956678701\n",
      "1,000+ : 8.393501805054152\n",
      "100+ : 6.915613718411552\n",
      "5,000,000+ : 6.825361010830325\n",
      "500,000+ : 5.561823104693141\n",
      "50,000+ : 4.7721119133574\n",
      "5,000+ : 4.512635379061372\n",
      "10+ : 3.5424187725631766\n",
      "500+ : 3.2490974729241873\n",
      "50,000,000+ : 2.3014440433213\n",
      "100,000,000+ : 2.1322202166064983\n",
      "50+ : 1.917870036101083\n",
      "5+ : 0.78971119133574\n",
      "1+ : 0.5076714801444043\n",
      "500,000,000+ : 0.2707581227436823\n",
      "1,000,000,000+ : 0.22563176895306858\n",
      "0+ : 0.04512635379061372\n",
      "0 : 0.01128158844765343\n"
     ]
    }
   ],
   "source": [
    "display_table(android_free, 5)"
   ]
  },
  {
   "cell_type": "markdown",
   "id": "e887149f-cb96-4cb1-a7cb-a19e51a80e8d",
   "metadata": {},
   "source": [
    "One problem with this data is that is not precise. For instance, we don't know whether an app with 100,000+ installs has 100,000 installs, 200,000, or 350,000. However, we don't need very precise data for our purposes — we only want to get an idea which app genres attract the most users, and we don't need perfect precision with respect to the number of users.\n",
    "\n",
    "We're going to leave the numbers as they are, which means that we'll consider that an app with 100,000+ installs has 100,000 installs, and an app with 1,000,000+ installs has 1,000,000 installs, and so on."
   ]
  },
  {
   "cell_type": "code",
   "execution_count": 27,
   "id": "339cdd8c-f2be-4dfa-b2bc-edcd7fb5bc74",
   "metadata": {},
   "outputs": [
    {
     "name": "stdout",
     "output_type": "stream",
     "text": [
      "ART_AND_DESIGN : 1986335.0877192982\n",
      "AUTO_AND_VEHICLES : 647317.8170731707\n",
      "BEAUTY : 513151.88679245283\n",
      "BOOKS_AND_REFERENCE : 8767811.894736841\n",
      "BUSINESS : 1712290.1474201474\n",
      "COMICS : 817657.2727272727\n",
      "COMMUNICATION : 38456119.167247385\n",
      "DATING : 854028.8303030303\n",
      "EDUCATION : 1833495.145631068\n",
      "ENTERTAINMENT : 11640705.88235294\n",
      "EVENTS : 253542.22222222222\n",
      "FINANCE : 1387692.475609756\n",
      "FOOD_AND_DRINK : 1924897.7363636363\n",
      "HEALTH_AND_FITNESS : 4188821.9853479853\n",
      "HOUSE_AND_HOME : 1331540.5616438356\n",
      "LIBRARIES_AND_DEMO : 638503.734939759\n",
      "LIFESTYLE : 1437816.2687861272\n",
      "GAME : 15588015.603248259\n",
      "FAMILY : 3695641.8198090694\n",
      "MEDICAL : 120550.61980830671\n",
      "SOCIAL : 23253652.127118643\n",
      "SHOPPING : 7036877.311557789\n",
      "PHOTOGRAPHY : 17840110.40229885\n",
      "SPORTS : 3638640.1428571427\n",
      "TRAVEL_AND_LOCAL : 13984077.710144928\n",
      "TOOLS : 10801391.298666667\n",
      "PERSONALIZATION : 5201482.6122448975\n",
      "PRODUCTIVITY : 16787331.344927534\n",
      "PARENTING : 542603.6206896552\n",
      "WEATHER : 5074486.197183099\n",
      "VIDEO_PLAYERS : 24727872.452830188\n",
      "NEWS_AND_MAGAZINES : 9549178.467741935\n",
      "MAPS_AND_NAVIGATION : 4056941.7741935486\n"
     ]
    }
   ],
   "source": [
    "categories_android = freq_table(android_free, 1)\n",
    "\n",
    "\n",
    "for category in categories_android:\n",
    "    total = 0\n",
    "    len_category = 0\n",
    "    for row in android_free:\n",
    "        category_app = row[1]\n",
    "        if category_app == category:\n",
    "            number_string = row[5]\n",
    "            number_string = number_string.replace(\",\", \"\")\n",
    "            number_string = number_string.replace(\"+\", \"\")\n",
    "            total += float(number_string)\n",
    "            len_category += 1\n",
    "    avg_rating = total / len_category\n",
    "    print(category, \":\", avg_rating)\n",
    "            "
   ]
  },
  {
   "cell_type": "markdown",
   "id": "35a5ecef-83e0-4cf5-a2cd-1ec24ee04084",
   "metadata": {},
   "source": [
    "We can see that the most installs has `NEWS_AND_MAGAZINES` , `VIDEO_PLAYERS`, `PRODUCTIVITY`, `TOOLS`, `COMMUNICATION`, `ENTERTAINMENT`. We also see that the genre we choosed in previous step( `Reference` ) `Books and Reference` has 8M+ installs. It's a good number, because in our time a lot of people don't read books, but the number of readers is still huge. But let's see the most popular category in `GoogleStore` and explain they are not profitable or not."
   ]
  },
  {
   "cell_type": "markdown",
   "id": "069fe555-4f68-4a4a-b0ca-dea6552d530d",
   "metadata": {},
   "source": [
    "Let's display the `Communication` category, but we have take only apps, which has more than 5M installs:"
   ]
  },
  {
   "cell_type": "code",
   "execution_count": 28,
   "id": "50320850-c64c-471a-ab8b-380be7f7cd05",
   "metadata": {},
   "outputs": [
    {
     "name": "stdout",
     "output_type": "stream",
     "text": [
      "WhatsApp Messenger : 1,000,000,000+\n",
      "Messenger for SMS : 10,000,000+\n",
      "My Tele2 : 5,000,000+\n",
      "imo beta free calls and text : 100,000,000+\n",
      "Contacts : 50,000,000+\n",
      "Call Free – Free Call : 5,000,000+\n",
      "Web Browser & Explorer : 5,000,000+\n",
      "Browser 4G : 10,000,000+\n",
      "MegaFon Dashboard : 10,000,000+\n",
      "ZenUI Dialer & Contacts : 10,000,000+\n",
      "Cricket Visual Voicemail : 10,000,000+\n",
      "Xperia Link™ : 10,000,000+\n",
      "TouchPal Keyboard - Fun Emoji & Android Keyboard : 10,000,000+\n",
      "Skype Lite - Free Video Call & Chat : 5,000,000+\n",
      "Android Messages : 100,000,000+\n",
      "Google Duo - High Quality Video Calls : 500,000,000+\n",
      "AT&T Visual Voicemail : 10,000,000+\n",
      "GMX Mail : 10,000,000+\n",
      "Omlet Chat : 10,000,000+\n",
      "My Vodacom SA : 5,000,000+\n",
      "Microsoft Edge : 5,000,000+\n",
      "Messenger – Text and Video Chat for Free : 1,000,000,000+\n",
      "imo free video calls and chat : 500,000,000+\n",
      "Calls & Text by Mo+ : 5,000,000+\n",
      "free video calls and chat : 50,000,000+\n",
      "Skype - free IM & video calls : 1,000,000,000+\n",
      "Who : 100,000,000+\n",
      "GO SMS Pro - Messenger, Free Themes, Emoji : 100,000,000+\n",
      "chomp SMS : 10,000,000+\n",
      "Glide - Video Chat Messenger : 10,000,000+\n",
      "Text SMS : 10,000,000+\n",
      "Talkray - Free Calls & Texts : 10,000,000+\n",
      "LINE: Free Calls & Messages : 500,000,000+\n",
      "GroupMe : 10,000,000+\n",
      "Google Chrome: Fast & Secure : 1,000,000,000+\n",
      "Firefox Browser fast & private : 100,000,000+\n",
      "Dolphin Browser - Fast, Private & Adblock🐬 : 50,000,000+\n",
      "UC Browser - Fast Download Private & Secure : 500,000,000+\n",
      "Contacts+ : 10,000,000+\n",
      "ExDialer - Dialer & Contacts : 10,000,000+\n",
      "Full Screen Caller ID : 5,000,000+\n",
      "Hiya - Caller ID & Block : 10,000,000+\n",
      "Mr. Number-Block calls & spam : 10,000,000+\n",
      "CIA - Caller ID & Call Blocker : 5,000,000+\n",
      "Calls Blacklist - Call Blocker : 10,000,000+\n",
      "Call Control - Call Blocker : 5,000,000+\n",
      "Sync.ME – Caller ID & Block : 5,000,000+\n",
      "Gmail : 1,000,000,000+\n",
      "K-9 Mail : 5,000,000+\n",
      "myMail – Email for Hotmail, Gmail and Outlook Mail : 10,000,000+\n",
      "GO Notifier : 10,000,000+\n",
      "Mail.Ru - Email App : 50,000,000+\n",
      "Daum Mail - Next Mail : 5,000,000+\n",
      "Hangouts : 1,000,000,000+\n",
      "JusTalk - Free Video Calls and Fun Video Chat : 5,000,000+\n",
      "Azar : 50,000,000+\n",
      "Discord - Chat for Gamers : 10,000,000+\n",
      "Messenger Lite: Free Calls & Messages : 100,000,000+\n",
      "Talkatone: Free Texts, Calls & Phone Number : 10,000,000+\n",
      "Kik : 100,000,000+\n",
      "KakaoTalk: Free Calls & Text : 100,000,000+\n",
      "Free WiFi Connect : 10,000,000+\n",
      "Opera Mini - fast web browser : 100,000,000+\n",
      "Opera Browser: Fast and Secure : 100,000,000+\n",
      "Opera Mini browser beta : 10,000,000+\n",
      "Psiphon Pro - The Internet Freedom VPN : 10,000,000+\n",
      "ICQ — Video Calls & Chat Messenger : 10,000,000+\n",
      "Telegram : 100,000,000+\n",
      "Truecaller: Caller ID, SMS spam blocking & Dialer : 100,000,000+\n",
      "Portable Wi-Fi hotspot : 10,000,000+\n",
      "AT&T Call Protect : 5,000,000+\n",
      "UC Browser Mini -Tiny Fast Private & Secure : 100,000,000+\n",
      "Viber Messenger : 500,000,000+\n",
      "WeChat : 100,000,000+\n",
      "WhatsApp Business : 10,000,000+\n",
      "WhatsCall Free Global Phone Call App & Cheap Calls : 10,000,000+\n",
      "Yahoo Mail – Stay Organized : 100,000,000+\n",
      "Free Adblocker Browser - Adblock & Popup Blocker : 10,000,000+\n",
      "Adblock Browser for Android : 10,000,000+\n",
      "CM Browser - Ad Blocker , Fast Download , Privacy : 50,000,000+\n",
      "Brave Browser: Fast AdBlocker : 5,000,000+\n",
      "Puffin Web Browser : 10,000,000+\n",
      "Ear Agent: Super Hearing : 5,000,000+\n",
      "Google Voice : 10,000,000+\n",
      "Google Allo : 10,000,000+\n",
      "Zalo – Video Call : 50,000,000+\n",
      "BBM - Free Calls & Messages : 100,000,000+\n",
      "Bluetooth Auto Connect : 5,000,000+\n",
      "Chrome Dev : 5,000,000+\n",
      "CM Transfer - Share any files with friends nearby : 5,000,000+\n",
      "WEB.DE Mail : 10,000,000+\n",
      "Your Freedom VPN Client : 5,000,000+\n",
      "CallApp: Caller ID, Blocker & Phone Call Recorder : 10,000,000+\n",
      "Whoscall - Caller ID & Block : 10,000,000+\n",
      "DU Browser—Browse fast & fun : 10,000,000+\n",
      "Caller ID & Call Block - DU Caller : 5,000,000+\n",
      "Orfox: Tor Browser for Android : 10,000,000+\n",
      "Voxer Walkie Talkie Messenger : 10,000,000+\n",
      "Hangouts Dialer - Call Phones : 10,000,000+\n"
     ]
    }
   ],
   "source": [
    "for row in android_free:\n",
    "    if row[1] == \"COMMUNICATION\" and(row[-8] == \"100,000,000+\" or row[-8] == \"500,000,000+\" or row[-8] == \"1,000,000,000+\" \n",
    "                                     or row[-8] == \"5,000,000+\" or row[-8] == \"10,000,000+\" or row[-8] == \"50,000,000+\"):\n",
    "        print(row[0], \":\", row[-8])\n",
    "        "
   ]
  },
  {
   "cell_type": "markdown",
   "id": "b5a67ee6-f631-48af-9c98-78b5f5e6bad3",
   "metadata": {},
   "source": [
    "We can see that there is a lot of apps, which we use in our daily life: `Microsoft Edge`, `Firefox`, `Skype`, `Viber`, `Gmail`, `Whats app` and other. Since there are so many well-known apps in this sphere and a lot of competition, we won't choose this category for the our company, because it's will be expensive to start and improve the app in this sphere."
   ]
  },
  {
   "cell_type": "markdown",
   "id": "2e69cede-6590-498f-992b-9b097c615867",
   "metadata": {},
   "source": [
    "We see the same pattern for the video players category, which is the runner-up with 24,727,872 installs. The market is dominated by apps like Youtube, Google Play Movies & TV, or MX Player. The pattern is repeated for social apps (where we have giants like Facebook, Instagram, Google+, etc.), photography apps (Google Photos and other popular photo editors), or productivity apps (Microsoft Word, Dropbox, Google Calendar, Evernote, etc.)."
   ]
  },
  {
   "cell_type": "markdown",
   "id": "076f0b13-502a-4830-b2b4-9377c2028c3b",
   "metadata": {},
   "source": [
    "Let's display the `Games` category, but we have take only apps, which has more than 5M installs:"
   ]
  },
  {
   "cell_type": "code",
   "execution_count": 29,
   "id": "5162bc51-6785-4d29-9616-73bff2c3c302",
   "metadata": {},
   "outputs": [
    {
     "name": "stdout",
     "output_type": "stream",
     "text": [
      "Solitaire : 10,000,000+\n",
      "Sonic Dash : 100,000,000+\n",
      "PAC-MAN : 100,000,000+\n",
      "Bubble Witch 3 Saga : 50,000,000+\n",
      "Race the Traffic Moto : 10,000,000+\n",
      "Marble - Temple Quest : 10,000,000+\n",
      "Shooting King : 10,000,000+\n",
      "Geometry Dash World : 10,000,000+\n",
      "Jungle Marble Blast : 5,000,000+\n",
      "Roll the Ball® - slide puzzle : 100,000,000+\n",
      "Block Craft 3D: Building Simulator Games For Free : 50,000,000+\n",
      "Love Balls : 50,000,000+\n",
      "Piano Tiles 2™ : 100,000,000+\n",
      "Pokémon GO : 100,000,000+\n",
      "Paint Hit : 10,000,000+\n",
      "Snake VS Block : 50,000,000+\n",
      "Rolly Vortex : 10,000,000+\n",
      "Stack Jump : 10,000,000+\n",
      "The Cube : 5,000,000+\n",
      "Extreme Car Driving Simulator : 100,000,000+\n",
      "Color Road : 10,000,000+\n",
      "Draw In : 10,000,000+\n",
      "Trivia Crack : 100,000,000+\n",
      "Will it Crush? : 5,000,000+\n",
      "Tomb of the Mask : 5,000,000+\n",
      "Baseball Boy! : 10,000,000+\n",
      "Hello Stars : 10,000,000+\n",
      "Tank Stars : 10,000,000+\n",
      "Hole.io : 10,000,000+\n",
      "Mini Golf King - Multiplayer Game : 5,000,000+\n",
      "Flip the Gun - Simulator Game : 10,000,000+\n",
      "Word Link : 10,000,000+\n",
      "Last Day on Earth: Survival : 10,000,000+\n",
      "Partymasters - Fun Idle Game : 10,000,000+\n",
      "Harry Potter: Hogwarts Mystery : 10,000,000+\n",
      "Grim Soul: Dark Fantasy Survival : 5,000,000+\n",
      "Disney Heroes: Battle Mode : 5,000,000+\n",
      "New YAHTZEE® With Buddies Dice Game : 5,000,000+\n",
      "Word Crossy - A crossword game : 5,000,000+\n",
      "Hero Hunters : 5,000,000+\n",
      "Cooking Madness - A Chef's Restaurant Games : 10,000,000+\n",
      "RULES OF SURVIVAL : 10,000,000+\n",
      "Mafia City : 10,000,000+\n",
      "Cash, Inc. Money Clicker Game & Business Adventure : 10,000,000+\n",
      "Last Shelter: Survival : 5,000,000+\n",
      "Guns of Glory : 10,000,000+\n",
      "Lineage 2: Revolution : 5,000,000+\n",
      "Final Fantasy XV: A New Empire : 10,000,000+\n",
      "Angry Birds 2 : 100,000,000+\n",
      "PUBG MOBILE : 50,000,000+\n",
      "The Sims™ FreePlay : 10,000,000+\n",
      "Best Fiends - Free Puzzle Game : 10,000,000+\n",
      "Jurassic World™ Alive : 5,000,000+\n",
      "Choices: Stories You Play : 10,000,000+\n",
      "Solitaire TriPeaks : 10,000,000+\n",
      "Merge Dragons! : 5,000,000+\n",
      "The Walking Dead: Road to Survival : 10,000,000+\n",
      "Hustle Castle: Fantasy Kingdom : 10,000,000+\n",
      "Love Nikki-Dress UP Queen : 5,000,000+\n",
      "Summoners War : 50,000,000+\n",
      "FINAL FANTASY BRAVE EXVIUS : 5,000,000+\n",
      "Lords Mobile: Battle of the Empires - Strategy RPG : 50,000,000+\n",
      "War and Order : 5,000,000+\n",
      "Candy Crush Saga : 500,000,000+\n",
      "8 Ball Pool : 100,000,000+\n",
      "Subway Surfers : 1,000,000,000+\n",
      "Candy Crush Soda Saga : 100,000,000+\n",
      "Toon Blast : 10,000,000+\n",
      "Toy Blast : 50,000,000+\n",
      "Clash Royale : 100,000,000+\n",
      "Clash of Clans : 100,000,000+\n",
      "Plants vs. Zombies FREE : 100,000,000+\n",
      "Block Puzzle : 5,000,000+\n",
      "Pou : 500,000,000+\n",
      "Flow Free : 100,000,000+\n",
      "Homescapes : 10,000,000+\n",
      "Wordscapes : 10,000,000+\n",
      "My Talking Angela : 100,000,000+\n",
      "slither.io : 100,000,000+\n",
      "Cooking Fever : 100,000,000+\n",
      "Yes day : 100,000,000+\n",
      "Gardenscapes : 50,000,000+\n",
      "Fishdom : 10,000,000+\n",
      "Galaxy Attack: Alien Shooter : 10,000,000+\n",
      "Score! Hero : 100,000,000+\n",
      "Magic Tiles 3 : 50,000,000+\n",
      "Granny : 50,000,000+\n",
      "Dream League Soccer 2018 : 100,000,000+\n",
      "Sweet Fruit Candy : 10,000,000+\n",
      "Fruits Bomb : 10,000,000+\n",
      "My Talking Tom : 500,000,000+\n",
      "Sniper 3D Gun Shooter: Free Shooting Games - FPS : 100,000,000+\n",
      "Shoot Bubble - Fruit Splash : 5,000,000+\n",
      "Rider : 10,000,000+\n",
      "Zombie Tsunami : 100,000,000+\n",
      "Doodle Jump : 50,000,000+\n",
      "Helix Jump : 100,000,000+\n",
      "Crossy Road : 100,000,000+\n",
      "Temple Run 2 : 500,000,000+\n",
      "Talking Tom Gold Run : 100,000,000+\n",
      "Alto's Adventure : 10,000,000+\n",
      "DEER HUNTER 2018 : 10,000,000+\n",
      "Cover Fire: offline shooting games for free : 10,000,000+\n",
      "Anger of stick 5 : zombie : 50,000,000+\n",
      "CATS: Crash Arena Turbo Stars : 50,000,000+\n",
      "Soul Knight : 10,000,000+\n",
      "Major Mayhem : 10,000,000+\n",
      "DINO HUNTER: DEADLY SHORES : 10,000,000+\n",
      "Power Rangers Dino Charge : 10,000,000+\n",
      "Zombie Hunter: Post Apocalypse Survival Games : 10,000,000+\n",
      "Agar.io : 100,000,000+\n",
      "TEKKEN™ : 5,000,000+\n",
      "diep.io : 10,000,000+\n",
      "Arrow.io : 10,000,000+\n",
      "BEYBLADE BURST app : 10,000,000+\n",
      "Dragon Hills : 10,000,000+\n",
      "Bus Rush: Subway Edition : 100,000,000+\n",
      "Tiny Archers : 5,000,000+\n",
      "War Robots : 50,000,000+\n",
      "Dinosaur Simulator: Dino World : 5,000,000+\n",
      "GUNSHIP BATTLE: Helicopter 3D : 50,000,000+\n",
      "Quiz: Logo game : 10,000,000+\n",
      "Jewels Legend - Match 3 Puzzle : 10,000,000+\n",
      "Bubble Shooter : 10,000,000+\n",
      "Bubble Shooter Genies : 5,000,000+\n",
      "Blossom Blast Saga : 10,000,000+\n",
      "Traffic Racer : 100,000,000+\n",
      "Hill Climb Racing : 100,000,000+\n",
      "Earn to Die 2 : 50,000,000+\n",
      "Bubble Shooter 2 : 5,000,000+\n",
      "Candy Bomb : 10,000,000+\n",
      "Zombie Catchers : 10,000,000+\n",
      "Gems or jewels ? : 10,000,000+\n",
      "Angry Birds Rio : 100,000,000+\n",
      "Candy Crush Jelly Saga : 50,000,000+\n",
      "Cut the Rope FULL FREE : 100,000,000+\n",
      "Hungry Shark Evolution : 100,000,000+\n",
      "Power Pop Bubbles : 10,000,000+\n",
      "Angry Birds Classic : 100,000,000+\n",
      "Hill Climb Racing 2 : 100,000,000+\n",
      "Jewels classic Prince : 5,000,000+\n",
      "Fruit Block - Puzzle Legend : 10,000,000+\n",
      "Swamp Attack : 50,000,000+\n",
      "1LINE – One Line with One Touch : 10,000,000+\n",
      "Stick War: Legacy : 10,000,000+\n",
      "Bowmasters : 50,000,000+\n",
      "Block Puzzle Classic Legend ! : 5,000,000+\n",
      "Marble Woka Woka 2018 - Bubble Shooter Match 3 : 10,000,000+\n",
      "Pixel Art: Color by Number Game : 10,000,000+\n",
      "Super Jabber Jump 3 : 5,000,000+\n",
      "Rush : 10,000,000+\n",
      "Jetpack Joyride : 100,000,000+\n",
      "DEAD TARGET: FPS Zombie Apocalypse Survival Games : 50,000,000+\n",
      "Word Search : 50,000,000+\n",
      "Draw a Stickman: EPIC 2 Free : 10,000,000+\n",
      "UNO ™ & Friends : 50,000,000+\n",
      "Super Mario Run : 100,000,000+\n",
      "Glow Hockey : 100,000,000+\n",
      "Asphalt 8: Airborne : 100,000,000+\n",
      "Lep's World 2 🍀🍀 : 100,000,000+\n",
      "Real City Car Driver : 10,000,000+\n",
      "Rolling Sky : 50,000,000+\n",
      "4 in a row : 5,000,000+\n",
      "Four In A Line Free : 5,000,000+\n",
      "MORTAL KOMBAT X : 10,000,000+\n",
      "► MultiCraft ― Free Miner! 👍 : 50,000,000+\n",
      "Pixel Gun 3D: Survival shooter & Battle Royale : 50,000,000+\n",
      "Perfect Piano : 50,000,000+\n",
      "Critical Ops : 10,000,000+\n",
      "FRONTLINE COMMANDO: D-DAY : 10,000,000+\n",
      "Fruit Ninja® : 100,000,000+\n",
      "Beach Buggy Blitz : 50,000,000+\n",
      "Vector : 100,000,000+\n",
      "Dr. Driving : 100,000,000+\n",
      "Geometry Dash Meltdown : 50,000,000+\n",
      "Bike Race Free - Top Motorcycle Racing Games : 100,000,000+\n",
      "Smash Hit : 100,000,000+\n",
      "Temple Run : 100,000,000+\n",
      "Gangstar Vegas - mafia game : 50,000,000+\n",
      "Geometry Dash Lite : 100,000,000+\n",
      "Motorbike Driving Simulator 3D : 10,000,000+\n",
      "Solitaire! : 10,000,000+\n",
      "iGun Pro -The Original Gun App : 10,000,000+\n",
      "NinJump : 10,000,000+\n",
      "Fidget Spinner : 10,000,000+\n",
      "KIM KARDASHIAN: HOLLYWOOD : 10,000,000+\n",
      "Lep's World 🍀 : 50,000,000+\n",
      "Ant Smasher by Best Cool & Fun Games : 100,000,000+\n",
      "Cheating Tom 3 - Genius School : 10,000,000+\n",
      "Rope'n'Fly 4 : 10,000,000+\n",
      "Cops N Robbers - FPS Mini Game : 5,000,000+\n",
      "Rope'n'Fly 3 - Dusk Till Dawn : 10,000,000+\n",
      "The Maze Runner : 10,000,000+\n",
      "Stupid Zombies : 10,000,000+\n",
      "Dino T-Rex : 10,000,000+\n",
      "Words With Friends Classic : 50,000,000+\n",
      "Draw Something Classic : 50,000,000+\n",
      "Extreme X Ray Robot Stunts : 5,000,000+\n",
      "Real Gangster Crime : 10,000,000+\n",
      "Gangster Town : 5,000,000+\n",
      "Rope Hero 3 : 5,000,000+\n",
      "Experiment Z - Zombie : 10,000,000+\n",
      "DRAGON BALL Z DOKKAN BATTLE : 10,000,000+\n",
      "Angry Birds Friends : 50,000,000+\n",
      "Angry Birds Go! : 50,000,000+\n",
      "Angry Birds Star Wars : 100,000,000+\n",
      "AE 3D MOTOR :Racing Games Free : 5,000,000+\n",
      "Gun Strike Shoot : 10,000,000+\n",
      "Crisis Action: 2018 NO.1 FPS : 10,000,000+\n",
      "Counter Terrorist Attack : 10,000,000+\n",
      "GUN ZOMBIE : 5,000,000+\n",
      "Shoot Strike War Fire : 10,000,000+\n",
      "Draw a Stickman: EPIC Free : 10,000,000+\n",
      "THE KING OF FIGHTERS-A 2012(F) : 5,000,000+\n",
      "Fast like a Fox : 5,000,000+\n",
      "Arena of Valor: 5v5 Arena Game : 10,000,000+\n",
      "Mobile Legends: Bang Bang : 100,000,000+\n",
      "Kill Shot Bravo: Sniper FPS : 10,000,000+\n",
      "Hopeless Land: Fight for Survival : 5,000,000+\n",
      "Heroes Arena : 10,000,000+\n",
      "Iron Blade : 10,000,000+\n",
      "Evil Apples: A Dirty Card Game : 5,000,000+\n",
      "Ingress : 10,000,000+\n",
      "Guns of Boom - Online Shooter : 10,000,000+\n",
      "Sonic the Hedgehog™ Classic : 10,000,000+\n",
      "My OldBoy! Free - GBC Emulator : 5,000,000+\n",
      "My Boy! Free - GBA Emulator : 10,000,000+\n",
      "SAMURAI vs ZOMBIES DEFENSE : 5,000,000+\n",
      "Five Nights at Freddy's 4 Demo : 10,000,000+\n",
      "Five Nights at Freddy's 3 Demo : 10,000,000+\n",
      "Nights at Cube Pizzeria 3D – 2 : 5,000,000+\n",
      "Rivals at War: Firefight : 5,000,000+\n",
      "Asylum Night Shift - Five Nights Survival : 5,000,000+\n",
      "Call of Duty®: Heroes : 10,000,000+\n",
      "San Andreas Crime Stories : 10,000,000+\n",
      "Miami crime simulator : 10,000,000+\n",
      "Strange Hero: Future Battle : 10,000,000+\n",
      "Mad Day - Truck Distance Game : 5,000,000+\n",
      "Banana Kong : 100,000,000+\n",
      "Space Shooter : Galaxy Attack : 10,000,000+\n",
      "Hard Time (Prison Sim) : 10,000,000+\n",
      "Battlefield™ Companion : 10,000,000+\n",
      "Bullet Force : 10,000,000+\n",
      "Block Gun 3D: Ghost Ops : 5,000,000+\n",
      "Rento - Dice Board Game Online : 10,000,000+\n",
      "Survival Run with Bear Grylls : 5,000,000+\n",
      "Bike Rivals : 10,000,000+\n",
      "BLACKJACK! : 10,000,000+\n",
      "Red Ball 4 : 50,000,000+\n",
      "Skater Boy : 100,000,000+\n",
      "Hambo : 5,000,000+\n",
      "Bounce Classic : 10,000,000+\n",
      "Bomber Friends : 10,000,000+\n",
      "Hungry Shark World : 50,000,000+\n",
      "Block Strike : 10,000,000+\n",
      "Kick the Buddy : 50,000,000+\n",
      "Smashy Road: Arena : 5,000,000+\n",
      "RC Monster Truck - Offroad Driving Simulator : 5,000,000+\n",
      "Super Jabber Jump : 10,000,000+\n",
      "Commando Adventure Assassin : 5,000,000+\n",
      "Color by Number – New Coloring Book : 5,000,000+\n",
      "Slot Machines by IGG : 10,000,000+\n",
      "Bingo by IGG: Top Bingo+Slots! : 5,000,000+\n",
      "Creative Destruction : 5,000,000+\n",
      "CrossFire: Legends : 5,000,000+\n",
      "Special Forces Group 2 : 10,000,000+\n",
      "Motocross Motorbike Simulator Offroad : 5,000,000+\n",
      "Chicken Invaders 3 : 5,000,000+\n",
      "Miami Crime Vice Town : 10,000,000+\n",
      "Grand Gangsters 3D : 10,000,000+\n",
      "CONTRACT KILLER: ZOMBIES (NR) : 5,000,000+\n",
      "CONTRACT KILLER: ZOMBIES : 5,000,000+\n",
      "Can Knockdown 3 : 10,000,000+\n",
      "Sky Streaker - Gumball : 5,000,000+\n",
      "Glitch Fixers: Powerpuff Girls : 5,000,000+\n",
      "StirFry Stunts - We Bare Bears : 10,000,000+\n",
      "Call of Mini™ Zombies 2 : 5,000,000+\n",
      "Sniper Killer Shooter : 10,000,000+\n",
      "Toughest Game Ever 2 : 5,000,000+\n",
      "Standoff 2 : 10,000,000+\n",
      "Counter Online FPS Game : 5,000,000+\n",
      "Moto Rider : 10,000,000+\n",
      "Shadow Fight 2 : 100,000,000+\n",
      "Crazy Wheels : 10,000,000+\n",
      "Cartoon Wars: Blade : 5,000,000+\n",
      "Cytus : 5,000,000+\n",
      "Dan the Man: Action Platformer : 10,000,000+\n",
      "Geometry Dash SubZero : 10,000,000+\n",
      "Metal Soldiers 2 : 10,000,000+\n",
      "Run Sausage Run! : 10,000,000+\n",
      "Knife Hit : 10,000,000+\n",
      "The Visitor : 5,000,000+\n",
      "Just Dance Now : 10,000,000+\n",
      "DRAGON BALL LEGENDS : 5,000,000+\n",
      "Injustice 2 : 5,000,000+\n",
      "Injustice: Gods Among Us : 10,000,000+\n",
      "MARVEL Contest of Champions : 50,000,000+\n",
      "MARVEL Avengers Academy : 10,000,000+\n",
      "Power Rangers: Legacy Wars : 10,000,000+\n",
      "Piano Free - Keyboard with Magic Tiles Music Games : 50,000,000+\n",
      "Racing in Car 2 : 50,000,000+\n",
      "Bike Racing 3D : 50,000,000+\n",
      "Truck Driver Cargo : 10,000,000+\n",
      "Checkers : 10,000,000+\n",
      "Scratch Logo Quiz. Challenging brain puzzle : 10,000,000+\n",
      "DH Texas Poker - Texas Hold'em : 10,000,000+\n",
      "DEER HUNTER CLASSIC : 50,000,000+\n",
      "DEER HUNTER RELOADED : 5,000,000+\n",
      "Call of Mini™ Dino Hunter : 10,000,000+\n",
      "Bike Mayhem Free : 10,000,000+\n",
      "DEER HUNTER CHALLENGE : 5,000,000+\n",
      "Defender : 10,000,000+\n",
      "Texas HoldEm Poker Deluxe : 10,000,000+\n",
      "Deck Heroes: Legacy : 10,000,000+\n",
      "Lep's World 3 🍀🍀🍀 : 50,000,000+\n",
      "Robbery Bob : 10,000,000+\n",
      "Nyan Cat: Lost In Space : 10,000,000+\n",
      "NARUTO X BORUTO NINJA VOLTAGE : 5,000,000+\n",
      "Does not Commute : 5,000,000+\n",
      "Kung Fu Do Fighting : 10,000,000+\n",
      "Dude Perfect 2 : 10,000,000+\n",
      "Bunny Skater : 10,000,000+\n",
      "Dr. Parking 4 : 50,000,000+\n",
      "Dr. Driving 2 : 10,000,000+\n",
      "Dr. Gomoku : 5,000,000+\n",
      "nds4droid : 10,000,000+\n",
      "Wheelie Challenge : 5,000,000+\n",
      "Street Skater 3D : 10,000,000+\n",
      "Need for Speed™ No Limits : 50,000,000+\n",
      "Peggle Blast : 5,000,000+\n",
      "SCRABBLE : 5,000,000+\n",
      "Asphalt Xtreme: Rally Racing : 10,000,000+\n",
      "Modern Combat 5: eSports FPS : 100,000,000+\n",
      "Miraculous Ladybug & Cat Noir - The Official Game : 10,000,000+\n",
      "Pineapple Pen : 10,000,000+\n",
      "Guess The Emoji : 5,000,000+\n",
      "Zombie Frontier : 10,000,000+\n",
      "Survival: Prison Escape : 10,000,000+\n",
      "Racing Moto : 50,000,000+\n",
      "Train Racing Games 3D 2 Player : 10,000,000+\n",
      "Fernanfloo : 10,000,000+\n",
      "Red Hands – 2-Player Games : 10,000,000+\n",
      "Live Hold’em Pro Poker - Free Casino Games : 10,000,000+\n",
      "HAWK – Force of an Arcade Shooter. Shoot 'em up : 5,000,000+\n",
      "Zynga Poker – Texas Holdem : 50,000,000+\n",
      "World Series of Poker – WSOP Free Texas Holdem : 10,000,000+\n",
      "Texas Holdem Poker Pro : 5,000,000+\n",
      "Texas Holdem Poker : 10,000,000+\n",
      "Big Fish Casino – Play Slots & Vegas Games : 10,000,000+\n",
      "TRANSFORMERS: Forged to Fight : 10,000,000+\n",
      "Texas Holdem & Omaha Poker: Pokerist : 10,000,000+\n",
      "Governor of Poker 2 - OFFLINE POKER GAME : 5,000,000+\n",
      "Squadron - Bullet Hell Shooter : 10,000,000+\n",
      "Words With Friends – Play Free : 10,000,000+\n",
      "Classic Words Solo : 5,000,000+\n",
      "Chess Free : 50,000,000+\n",
      "Oggy : 5,000,000+\n",
      "I Know Stuff : 5,000,000+\n",
      "Rescue Robots Survival Games : 5,000,000+\n",
      "Bike Race - Bike Blast Rush : 10,000,000+\n",
      "ETERNITY WARRIORS 2 : 5,000,000+\n",
      "Snes9x EX+ : 5,000,000+\n",
      "Eyes - The Scary Horror Game Adventure : 10,000,000+\n",
      "Jungle Monkey Run : 10,000,000+\n",
      "Golden HoYeah Slots - Real Casino Slots : 5,000,000+\n",
      "Heart of Vegas™ Slots – Free Slot Casino Games : 10,000,000+\n",
      "Garena Free Fire : 100,000,000+\n",
      "Angry Birds Space HD : 5,000,000+\n",
      "Police Car Driver : 10,000,000+\n",
      "Moto Fighter 3D : 10,000,000+\n",
      "BMX Boy : 50,000,000+\n",
      "Crazy Bike attack Racing New: motorcycle racing : 5,000,000+\n",
      "Family Guy The Quest for Stuff : 10,000,000+\n",
      "Shoot Hunter-Gun Killer : 50,000,000+\n",
      "Rope Hero: Vice Town : 10,000,000+\n",
      "Navy Gunner Shoot War 3D : 10,000,000+\n",
      "Toy Truck Rally 3D : 50,000,000+\n",
      "PRO MX MOTOCROSS 2 : 5,000,000+\n",
      "FRONTLINE COMMANDO : 10,000,000+\n",
      "Modern Strike Online : 10,000,000+\n",
      "Big Hunter : 10,000,000+\n"
     ]
    }
   ],
   "source": [
    "for row in android_free:\n",
    "    if row[1] == \"GAME\" and(row[-8] == \"100,000,000+\" or row[-8] == \"500,000,000+\" or row[-8] == \"1,000,000,000+\" \n",
    "                                     or row[-8] == \"5,000,000+\" or row[-8] == \"10,000,000+\" or row[-8] == \"50,000,000+\"):\n",
    "        print(row[0], \":\", row[-8])"
   ]
  },
  {
   "cell_type": "markdown",
   "id": "f50976eb-a025-4c6e-aefe-c314c7c272e3",
   "metadata": {},
   "source": [
    "We can see that there is a lot of apps, which have a lot of installs. Since there are so many well-known apps in this sphere and a lot of competition, we won't choose this category for the our company, because it's will be expensive to start and improve the app in this sphere."
   ]
  },
  {
   "cell_type": "markdown",
   "id": "ba690412-814f-47cc-9c6b-12b7ae2e354d",
   "metadata": {},
   "source": [
    "So let's explore more the Category `BOOKS AND REFERENCE`, because we choose this category for our app in GoogleStore."
   ]
  },
  {
   "cell_type": "code",
   "execution_count": 30,
   "id": "3d1eaddd-c91e-491b-b5fe-4001cfa68ca1",
   "metadata": {},
   "outputs": [
    {
     "name": "stdout",
     "output_type": "stream",
     "text": [
      "E-Book Read - Read Book for free : 50,000+\n",
      "Download free book with green book : 100,000+\n",
      "Wikipedia : 10,000,000+\n",
      "Cool Reader : 10,000,000+\n",
      "Free Panda Radio Music : 100,000+\n",
      "Book store : 1,000,000+\n",
      "FBReader: Favorite Book Reader : 10,000,000+\n",
      "English Grammar Complete Handbook : 500,000+\n",
      "Free Books - Spirit Fanfiction and Stories : 1,000,000+\n",
      "Google Play Books : 1,000,000,000+\n",
      "AlReader -any text book reader : 5,000,000+\n",
      "Offline English Dictionary : 100,000+\n",
      "Offline: English to Tagalog Dictionary : 500,000+\n",
      "FamilySearch Tree : 1,000,000+\n",
      "Cloud of Books : 1,000,000+\n",
      "Recipes of Prophetic Medicine for free : 500,000+\n",
      "ReadEra – free ebook reader : 1,000,000+\n",
      "Anonymous caller detection : 10,000+\n",
      "Ebook Reader : 5,000,000+\n",
      "Litnet - E-books : 100,000+\n",
      "Read books online : 5,000,000+\n",
      "English to Urdu Dictionary : 500,000+\n",
      "eBoox: book reader fb2 epub zip : 1,000,000+\n",
      "English Persian Dictionary : 500,000+\n",
      "Flybook : 500,000+\n",
      "All Maths Formulas : 1,000,000+\n",
      "Ancestry : 5,000,000+\n",
      "HTC Help : 10,000,000+\n",
      "English translation from Bengali : 100,000+\n",
      "Pdf Book Download - Read Pdf Book : 100,000+\n",
      "Free Book Reader : 100,000+\n",
      "eBoox new: Reader for fb2 epub zip books : 50,000+\n",
      "Only 30 days in English, the guideline is guaranteed : 500,000+\n",
      "Moon+ Reader : 10,000,000+\n",
      "SH-02J Owner's Manual (Android 8.0) : 50,000+\n",
      "English-Myanmar Dictionary : 1,000,000+\n",
      "Golden Dictionary (EN-AR) : 1,000,000+\n",
      "All Language Translator Free : 1,000,000+\n",
      "Azpen eReader : 500,000+\n",
      "URBANO V 02 instruction manual : 100,000+\n",
      "Bible : 100,000,000+\n",
      "C Programs and Reference : 50,000+\n",
      "C Offline Tutorial : 1,000+\n",
      "C Programs Handbook : 50,000+\n",
      "Amazon Kindle : 100,000,000+\n",
      "Aab e Hayat Full Novel : 100,000+\n",
      "Aldiko Book Reader : 10,000,000+\n",
      "Google I/O 2018 : 500,000+\n",
      "R Language Reference Guide : 10,000+\n",
      "Learn R Programming Full : 5,000+\n",
      "R Programing Offline Tutorial : 1,000+\n",
      "Guide for R Programming : 5+\n",
      "Learn R Programming : 10+\n",
      "R Quick Reference Big Data : 1,000+\n",
      "V Made : 100,000+\n",
      "Wattpad 📖 Free Books : 100,000,000+\n",
      "Dictionary - WordWeb : 5,000,000+\n",
      "Guide (for X-MEN) : 100,000+\n",
      "AC Air condition Troubleshoot,Repair,Maintenance : 5,000+\n",
      "AE Bulletins : 1,000+\n",
      "Ae Allah na Dai (Rasa) : 10,000+\n",
      "50000 Free eBooks & Free AudioBooks : 5,000,000+\n",
      "Ag PhD Field Guide : 10,000+\n",
      "Ag PhD Deficiencies : 10,000+\n",
      "Ag PhD Planting Population Calculator : 1,000+\n",
      "Ag PhD Soybean Diseases : 1,000+\n",
      "Fertilizer Removal By Crop : 50,000+\n",
      "A-J Media Vault : 50+\n",
      "Al-Quran (Free) : 10,000,000+\n",
      "Al Quran (Tafsir & by Word) : 500,000+\n",
      "Al Quran Indonesia : 10,000,000+\n",
      "Al'Quran Bahasa Indonesia : 10,000,000+\n",
      "Al Quran Al karim : 1,000,000+\n",
      "Al-Muhaffiz : 50,000+\n",
      "Al Quran : EAlim - Translations & MP3 Offline : 5,000,000+\n",
      "Al-Quran 30 Juz free copies : 500,000+\n",
      "Koran Read &MP3 30 Juz Offline : 1,000,000+\n",
      "Hafizi Quran 15 lines per page : 1,000,000+\n",
      "Quran for Android : 10,000,000+\n",
      "Surah Al-Waqiah : 100,000+\n",
      "Hisnul Al Muslim - Hisn Invocations & Adhkaar : 100,000+\n",
      "Satellite AR : 1,000,000+\n",
      "Audiobooks from Audible : 100,000,000+\n",
      "Kinot & Eichah for Tisha B'Av : 10,000+\n",
      "AW Tozer Devotionals - Daily : 5,000+\n",
      "Tozer Devotional -Series 1 : 1,000+\n",
      "The Pursuit of God : 1,000+\n",
      "AY Sing : 5,000+\n",
      "Ay Hasnain k Nana Milad Naat : 10,000+\n",
      "Ay Mohabbat Teri Khatir Novel : 10,000+\n",
      "Arizona Statutes, ARS (AZ Law) : 1,000+\n",
      "Oxford A-Z of English Usage : 1,000,000+\n",
      "BD Fishpedia : 1,000+\n",
      "BD All Sim Offer : 10,000+\n",
      "Youboox - Livres, BD et magazines : 500,000+\n",
      "B&H Kids AR : 10,000+\n",
      "B y H Niños ES : 5,000+\n",
      "Dictionary.com: Find Definitions for English Words : 10,000,000+\n",
      "English Dictionary - Offline : 10,000,000+\n",
      "Bible KJV : 5,000,000+\n",
      "Borneo Bible, BM Bible : 10,000+\n",
      "MOD Black for BM : 100+\n",
      "BM Box : 1,000+\n",
      "Anime Mod for BM : 100+\n",
      "NOOK: Read eBooks & Magazines : 10,000,000+\n",
      "NOOK Audiobooks : 500,000+\n",
      "NOOK App for NOOK Devices : 500,000+\n",
      "Browsery by Barnes & Noble : 5,000+\n",
      "bp e-store : 1,000+\n",
      "Brilliant Quotes: Life, Love, Family & Motivation : 1,000,000+\n",
      "BR Ambedkar Biography & Quotes : 10,000+\n",
      "BU Alsace : 100+\n",
      "Catholic La Bu Zo Kam : 500+\n",
      "Khrifa Hla Bu (Solfa) : 10+\n",
      "Kristian Hla Bu : 10,000+\n",
      "SA HLA BU : 1,000+\n",
      "Learn SAP BW : 500+\n",
      "Learn SAP BW on HANA : 500+\n",
      "CA Laws 2018 (California Laws and Codes) : 5,000+\n",
      "Bootable Methods(USB-CD-DVD) : 10,000+\n",
      "cloudLibrary : 100,000+\n",
      "SDA Collegiate Quarterly : 500+\n",
      "Sabbath School : 100,000+\n",
      "Cypress College Library : 100+\n",
      "Stats Royale for Clash Royale : 1,000,000+\n",
      "GATE 21 years CS Papers(2011-2018 Solved) : 50+\n",
      "Learn CT Scan Of Head : 5,000+\n",
      "Easy Cv maker 2018 : 10,000+\n",
      "How to Write CV : 100,000+\n",
      "CW Nuclear : 1,000+\n",
      "CY Spray nozzle : 10+\n",
      "BibleRead En Cy Zh Yue : 5+\n",
      "CZ-Help : 5+\n",
      "Modlitební knížka CZ : 500+\n",
      "Guide for DB Xenoverse : 10,000+\n",
      "Guide for DB Xenoverse 2 : 10,000+\n",
      "Guide for IMS DB : 10+\n",
      "DC HSEMA : 5,000+\n",
      "DC Public Library : 1,000+\n",
      "Painting Lulu DC Super Friends : 1,000+\n",
      "Dictionary : 10,000,000+\n",
      "Fix Error Google Playstore : 1,000+\n",
      "D. H. Lawrence Poems FREE : 1,000+\n",
      "Bilingual Dictionary Audio App : 5,000+\n",
      "DM Screen : 10,000+\n",
      "wikiHow: how to do anything : 1,000,000+\n",
      "Dr. Doug's Tips : 1,000+\n",
      "Bible du Semeur-BDS (French) : 50,000+\n",
      "La citadelle du musulman : 50,000+\n",
      "DV 2019 Entry Guide : 10,000+\n",
      "DV 2019 - EDV Photo & Form : 50,000+\n",
      "DV 2018 Winners Guide : 1,000+\n",
      "EB Annual Meetings : 1,000+\n",
      "EC - AP & Telangana : 5,000+\n",
      "TN Patta Citta & EC : 10,000+\n",
      "AP Stamps and Registration : 10,000+\n",
      "CompactiMa EC pH Calibration : 100+\n",
      "EGW Writings 2 : 100,000+\n",
      "EGW Writings : 1,000,000+\n",
      "Bible with EGW Comments : 100,000+\n",
      "My Little Pony AR Guide : 1,000,000+\n",
      "SDA Sabbath School Quarterly : 500,000+\n",
      "Duaa Ek Ibaadat : 5,000+\n",
      "Spanish English Translator : 10,000,000+\n",
      "Dictionary - Merriam-Webster : 10,000,000+\n",
      "JW Library : 10,000,000+\n",
      "Oxford Dictionary of English : Free : 10,000,000+\n",
      "English Hindi Dictionary : 10,000,000+\n",
      "English to Hindi Dictionary : 5,000,000+\n",
      "EP Research Service : 1,000+\n",
      "Hymnes et Louanges : 100,000+\n",
      "EU Charter : 1,000+\n",
      "EU Data Protection : 1,000+\n",
      "EU IP Codes : 100+\n",
      "EW PDF : 5+\n",
      "BakaReader EX : 100,000+\n",
      "EZ Quran : 50,000+\n",
      "FA Part 1 & 2 Past Papers Solved Free – Offline : 5,000+\n",
      "La Fe de Jesus : 1,000+\n",
      "La Fe de Jesús : 500+\n",
      "Le Fe de Jesus : 500+\n",
      "Florida - Pocket Brainbook : 1,000+\n",
      "Florida Statutes (FL Code) : 1,000+\n",
      "English To Shona Dictionary : 10,000+\n",
      "Greek Bible FP (Audio) : 1,000+\n",
      "Golden Dictionary (FR-AR) : 500,000+\n",
      "Fanfic-FR : 5,000+\n",
      "Bulgarian French Dictionary Fr : 10,000+\n",
      "Chemin (fr) : 1,000+\n",
      "The SCP Foundation DB fr nn5n : 1,000+\n"
     ]
    }
   ],
   "source": [
    "for app in android_free:\n",
    "    if app[1] == 'BOOKS_AND_REFERENCE':\n",
    "        print(app[0], ':', app[5])"
   ]
  },
  {
   "cell_type": "markdown",
   "id": "551a05d1-b4ee-4b6d-b369-fa71b301493c",
   "metadata": {},
   "source": [
    "We can see that there is not a lot apps in this category, but let's see the most popular apps in this category."
   ]
  },
  {
   "cell_type": "code",
   "execution_count": 31,
   "id": "1995149c-193e-41a2-b607-e3ccdddb3261",
   "metadata": {},
   "outputs": [
    {
     "name": "stdout",
     "output_type": "stream",
     "text": [
      "Wikipedia : 10,000,000+\n",
      "Cool Reader : 10,000,000+\n",
      "FBReader: Favorite Book Reader : 10,000,000+\n",
      "Google Play Books : 1,000,000,000+\n",
      "AlReader -any text book reader : 5,000,000+\n",
      "Ebook Reader : 5,000,000+\n",
      "Read books online : 5,000,000+\n",
      "Ancestry : 5,000,000+\n",
      "HTC Help : 10,000,000+\n",
      "Moon+ Reader : 10,000,000+\n",
      "Bible : 100,000,000+\n",
      "Amazon Kindle : 100,000,000+\n",
      "Aldiko Book Reader : 10,000,000+\n",
      "Wattpad 📖 Free Books : 100,000,000+\n",
      "Dictionary - WordWeb : 5,000,000+\n",
      "50000 Free eBooks & Free AudioBooks : 5,000,000+\n",
      "Al-Quran (Free) : 10,000,000+\n",
      "Al Quran Indonesia : 10,000,000+\n",
      "Al'Quran Bahasa Indonesia : 10,000,000+\n",
      "Al Quran : EAlim - Translations & MP3 Offline : 5,000,000+\n",
      "Quran for Android : 10,000,000+\n",
      "Audiobooks from Audible : 100,000,000+\n",
      "Dictionary.com: Find Definitions for English Words : 10,000,000+\n",
      "English Dictionary - Offline : 10,000,000+\n",
      "Bible KJV : 5,000,000+\n",
      "NOOK: Read eBooks & Magazines : 10,000,000+\n",
      "Dictionary : 10,000,000+\n",
      "Spanish English Translator : 10,000,000+\n",
      "Dictionary - Merriam-Webster : 10,000,000+\n",
      "JW Library : 10,000,000+\n",
      "Oxford Dictionary of English : Free : 10,000,000+\n",
      "English Hindi Dictionary : 10,000,000+\n",
      "English to Hindi Dictionary : 5,000,000+\n"
     ]
    }
   ],
   "source": [
    "for row in android_free:\n",
    "    if row[1] == \"BOOKS_AND_REFERENCE\" and(row[-8] == \"100,000,000+\" or row[-8] == \"500,000,000+\" or row[-8] == \"1,000,000,000+\" \n",
    "                                     or row[-8] == \"5,000,000+\" or row[-8] == \"10,000,000+\" or row[-8] == \"50,000,000+\"):\n",
    "        print(row[0], \":\", row[-8])"
   ]
  },
  {
   "cell_type": "markdown",
   "id": "c7c2f99c-be8c-40b5-a386-bc0aada2d324",
   "metadata": {},
   "source": [
    "We can see that there is dictinaries in this list, and they don't create to our app any competition, because our app is about reading books and discussing it. We also can see, that most popular apps have only one choice: you may read book and in other app you may hear another, and if you read foreign books it will be appeared, that you want to translate the text of the sentences. But it is inconvenient and people spend a lot of time on that thing. So now we have a model of requirements, which must have our app."
   ]
  },
  {
   "cell_type": "markdown",
   "id": "e641a98b-b288-43a1-86cc-d1cc1f361be5",
   "metadata": {},
   "source": [
    "**So if we create multifunctional app, with translator and audiobooks, and in this app people will be discuss the read books, we will get a powerfull app, which is profitable for AppleStore and GooglePlay.**"
   ]
  },
  {
   "cell_type": "markdown",
   "id": "3c0dcc1c-d230-4967-a111-c63e8573be61",
   "metadata": {},
   "source": [
    "## Conclusion"
   ]
  },
  {
   "cell_type": "markdown",
   "id": "4e1c3ccd-bc15-4a99-b773-63cdb24b1482",
   "metadata": {},
   "source": [
    "In this project, we analyzed the data from two datasets: App Store and Google Play Market with the goal of recommending an app profile that can be profitable for both markets."
   ]
  },
  {
   "cell_type": "markdown",
   "id": "326ec9dc-dcc2-47b2-8d53-47e96f7990ec",
   "metadata": {},
   "source": [
    "We concluded that taking a lot of books and transform it in the app will be very effective for both the Google Play and the App Store markets. . But we also concluded, that this app will be very similar to other apps. So we need to add some special features besides to this app. This might include daily quotes from the book, an audio version of the book, quizzes on the book, a forum where people can discuss the book, etc."
   ]
  }
 ],
 "metadata": {
  "kernelspec": {
   "display_name": "Python 3 (ipykernel)",
   "language": "python",
   "name": "python3"
  },
  "language_info": {
   "codemirror_mode": {
    "name": "ipython",
    "version": 3
   },
   "file_extension": ".py",
   "mimetype": "text/x-python",
   "name": "python",
   "nbconvert_exporter": "python",
   "pygments_lexer": "ipython3",
   "version": "3.11.7"
  }
 },
 "nbformat": 4,
 "nbformat_minor": 5
}
